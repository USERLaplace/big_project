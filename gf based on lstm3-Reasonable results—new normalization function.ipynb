{
 "cells": [
  {
   "cell_type": "code",
   "execution_count": 1,
   "id": "eb46cc2e",
   "metadata": {},
   "outputs": [],
   "source": [
    "import numpy as np\n",
    "import pandas as pd\n",
    "import sklearn\n",
    "from matplotlib import pyplot as plt\n",
    "from tensorflow.keras.models import Sequential\n",
    "from tensorflow.keras.layers import LSTM\n",
    "from tensorflow.keras.layers import Dense, Dropout\n",
    "from sklearn.preprocessing import MinMaxScaler\n",
    "from keras.wrappers.scikit_learn import KerasRegressor\n",
    "from sklearn.model_selection import GridSearchCV\n",
    "import tensorflow as tf"
   ]
  },
  {
   "cell_type": "code",
   "execution_count": 2,
   "id": "e6f23a1b",
   "metadata": {},
   "outputs": [],
   "source": [
    "# 预处理输入数据\n",
    "def preprocessing(nmp_df,power_df):\n",
    "    nmp_df.head(10)\n",
    "    power_df.head(10)\n",
    "    fix_df=pd.merge(nmp_df, power_df, on=['Datetime'], how='left')\n",
    "    fix_df.head(10)\n",
    "    fix_df.describe()\n",
    "    return fix_df"
   ]
  },
  {
   "cell_type": "code",
   "execution_count": 3,
   "id": "a0fb407e",
   "metadata": {},
   "outputs": [],
   "source": [
    "# 补全缺失数据\n",
    "def fix_zero(df,index):\n",
    "    df[index]=df[index].replace(0.00, np.NaN)\n",
    "    df[index]=df[index].fillna(df[index].median())\n",
    "    return df"
   ]
  },
  {
   "cell_type": "code",
   "execution_count": 4,
   "id": "ffbac4aa",
   "metadata": {},
   "outputs": [],
   "source": [
    "# 读取数据\n",
    "his_nmp_gf_df = pd.read_csv('.\\\\data\\\\GF001\\\\03 His_NWP_GF.csv',parse_dates=[\"Datetime\"],index_col=[0])\n",
    "his_power_gf_df = pd.read_csv('.\\\\data\\\\GF001\\\\02 His_Power_GF.csv',parse_dates=[\"Datetime\"],index_col=[0])\n",
    "his_gf_df=preprocessing(his_nmp_gf_df,his_power_gf_df)\n",
    "his_gf_df.to_csv('his_gf.csv',encoding = 'utf-8') #存储合并后数据"
   ]
  },
  {
   "cell_type": "code",
   "execution_count": 5,
   "id": "a0cd736a",
   "metadata": {},
   "outputs": [],
   "source": [
    "df=pd.read_csv('his_gf.csv',parse_dates=[\"Datetime\"],index_col=[0])"
   ]
  },
  {
   "cell_type": "code",
   "execution_count": 6,
   "id": "8d028383",
   "metadata": {},
   "outputs": [],
   "source": [
    "# df.drop('Pressure', axis=1, inplace=True)\n",
    "df=fix_zero(df,'Humidity')"
   ]
  },
  {
   "cell_type": "code",
   "execution_count": 7,
   "id": "a180f5ea",
   "metadata": {},
   "outputs": [],
   "source": [
    "df_feaformm=pd.read_csv('.\\\\data\\\\GF001\\\\04 Fore_NWP_GF.csv',parse_dates=[\"Datetime\"],index_col=[0])\n",
    "df_feaformm[\"Power(MW)\"]=np.NaN\n",
    "# df_feaformm.drop('Pressure', axis=1, inplace=True)\n",
    "df_feaformm=fix_zero(df_feaformm,'Humidity')"
   ]
  },
  {
   "cell_type": "code",
   "execution_count": 8,
   "id": "0546ce9c",
   "metadata": {},
   "outputs": [
    {
     "data": {
      "text/html": [
       "<div>\n",
       "<style scoped>\n",
       "    .dataframe tbody tr th:only-of-type {\n",
       "        vertical-align: middle;\n",
       "    }\n",
       "\n",
       "    .dataframe tbody tr th {\n",
       "        vertical-align: top;\n",
       "    }\n",
       "\n",
       "    .dataframe thead th {\n",
       "        text-align: right;\n",
       "    }\n",
       "</style>\n",
       "<table border=\"1\" class=\"dataframe\">\n",
       "  <thead>\n",
       "    <tr style=\"text-align: right;\">\n",
       "      <th></th>\n",
       "      <th>Irradiance</th>\n",
       "      <th>Speed10</th>\n",
       "      <th>Direction10</th>\n",
       "      <th>Temper</th>\n",
       "      <th>Pressure</th>\n",
       "      <th>Humidity</th>\n",
       "      <th>Power(MW)</th>\n",
       "    </tr>\n",
       "  </thead>\n",
       "  <tbody>\n",
       "    <tr>\n",
       "      <th>count</th>\n",
       "      <td>672.000000</td>\n",
       "      <td>672.000000</td>\n",
       "      <td>672.000000</td>\n",
       "      <td>672.000000</td>\n",
       "      <td>672.000000</td>\n",
       "      <td>672.000000</td>\n",
       "      <td>672.000000</td>\n",
       "    </tr>\n",
       "    <tr>\n",
       "      <th>mean</th>\n",
       "      <td>165.780134</td>\n",
       "      <td>7.026755</td>\n",
       "      <td>30.521442</td>\n",
       "      <td>27.960625</td>\n",
       "      <td>998.217932</td>\n",
       "      <td>88.431562</td>\n",
       "      <td>16.176073</td>\n",
       "    </tr>\n",
       "    <tr>\n",
       "      <th>std</th>\n",
       "      <td>241.727042</td>\n",
       "      <td>1.847183</td>\n",
       "      <td>40.005602</td>\n",
       "      <td>0.855548</td>\n",
       "      <td>1.282430</td>\n",
       "      <td>4.835594</td>\n",
       "      <td>20.495197</td>\n",
       "    </tr>\n",
       "    <tr>\n",
       "      <th>min</th>\n",
       "      <td>0.000000</td>\n",
       "      <td>1.073300</td>\n",
       "      <td>1.766300</td>\n",
       "      <td>25.570000</td>\n",
       "      <td>995.650000</td>\n",
       "      <td>74.250000</td>\n",
       "      <td>0.000000</td>\n",
       "    </tr>\n",
       "    <tr>\n",
       "      <th>25%</th>\n",
       "      <td>0.000000</td>\n",
       "      <td>5.992900</td>\n",
       "      <td>18.236475</td>\n",
       "      <td>27.362500</td>\n",
       "      <td>997.140000</td>\n",
       "      <td>84.895000</td>\n",
       "      <td>0.000000</td>\n",
       "    </tr>\n",
       "    <tr>\n",
       "      <th>50%</th>\n",
       "      <td>11.550000</td>\n",
       "      <td>7.254050</td>\n",
       "      <td>24.890850</td>\n",
       "      <td>27.790000</td>\n",
       "      <td>998.235000</td>\n",
       "      <td>89.325000</td>\n",
       "      <td>1.448000</td>\n",
       "    </tr>\n",
       "    <tr>\n",
       "      <th>75%</th>\n",
       "      <td>277.922500</td>\n",
       "      <td>8.580775</td>\n",
       "      <td>32.774250</td>\n",
       "      <td>28.632500</td>\n",
       "      <td>999.010000</td>\n",
       "      <td>91.622500</td>\n",
       "      <td>33.591475</td>\n",
       "    </tr>\n",
       "    <tr>\n",
       "      <th>max</th>\n",
       "      <td>853.600000</td>\n",
       "      <td>9.976500</td>\n",
       "      <td>357.823400</td>\n",
       "      <td>29.760000</td>\n",
       "      <td>1000.970000</td>\n",
       "      <td>99.800000</td>\n",
       "      <td>66.660900</td>\n",
       "    </tr>\n",
       "  </tbody>\n",
       "</table>\n",
       "</div>"
      ],
      "text/plain": [
       "       Irradiance     Speed10  Direction10      Temper     Pressure  \\\n",
       "count  672.000000  672.000000   672.000000  672.000000   672.000000   \n",
       "mean   165.780134    7.026755    30.521442   27.960625   998.217932   \n",
       "std    241.727042    1.847183    40.005602    0.855548     1.282430   \n",
       "min      0.000000    1.073300     1.766300   25.570000   995.650000   \n",
       "25%      0.000000    5.992900    18.236475   27.362500   997.140000   \n",
       "50%     11.550000    7.254050    24.890850   27.790000   998.235000   \n",
       "75%    277.922500    8.580775    32.774250   28.632500   999.010000   \n",
       "max    853.600000    9.976500   357.823400   29.760000  1000.970000   \n",
       "\n",
       "         Humidity   Power(MW)  \n",
       "count  672.000000  672.000000  \n",
       "mean    88.431562   16.176073  \n",
       "std      4.835594   20.495197  \n",
       "min     74.250000    0.000000  \n",
       "25%     84.895000    0.000000  \n",
       "50%     89.325000    1.448000  \n",
       "75%     91.622500   33.591475  \n",
       "max     99.800000   66.660900  "
      ]
     },
     "execution_count": 8,
     "metadata": {},
     "output_type": "execute_result"
    }
   ],
   "source": [
    "df.describe()"
   ]
  },
  {
   "cell_type": "code",
   "execution_count": 9,
   "id": "0804a838",
   "metadata": {},
   "outputs": [],
   "source": [
    "# 划分train valid test集\n",
    "gf_df_train = df[:int(0.6*len(df))]\n",
    "gf_df_valid = df[int(0.6*len(df)):int(0.8*len(df))]\n",
    "gf_df_test =df[int(0.8*len(df)):]"
   ]
  },
  {
   "cell_type": "code",
   "execution_count": 10,
   "id": "01cb73ce",
   "metadata": {},
   "outputs": [
    {
     "name": "stderr",
     "output_type": "stream",
     "text": [
      "C:\\Users\\23966\\AppData\\Local\\Temp\\ipykernel_25152\\3533464468.py:2: FutureWarning: The frame.append method is deprecated and will be removed from pandas in a future version. Use pandas.concat instead.\n",
      "  full_df_fea=gf_df_test_copy.append(df_feaformm)\n"
     ]
    }
   ],
   "source": [
    "gf_df_test_copy=gf_df_test.copy()\n",
    "full_df_fea=gf_df_test_copy.append(df_feaformm)\n",
    "full_df_fea.to_csv('full_df_fea.csv',encoding = 'utf-8')"
   ]
  },
  {
   "cell_type": "code",
   "execution_count": 55,
   "id": "a6e1c066",
   "metadata": {},
   "outputs": [],
   "source": [
    "# 定义一个新的归一化函数\n",
    "def simla(stand_df,df):\n",
    "    train_median1=stand_df['Irradiance'].median()\n",
    "#     print('Irradiance',train_median1)\n",
    "    train_median2=stand_df['Speed10'].median()\n",
    "#     print('Speed10',train_median2)\n",
    "    train_median3=stand_df['Direction10'].median()\n",
    "#     print('Direction10',train_median3)\n",
    "    train_median4=stand_df['Temper'].median()\n",
    "#     print('Temper',train_median4)\n",
    "    train_median6=stand_df['Humidity'].median()\n",
    "#     print('Humidity',train_median6)\n",
    "    train_median5=stand_df['Pressure'].median()\n",
    "#     print('Pressure',train_median5)\n",
    "    train_median7=stand_df['Power(MW)'].median()\n",
    "#     print('Power(MW)',train_median7)\n",
    "    df_copy=df.copy()\n",
    "    df_copy['Irradiance']=df['Irradiance']/train_median1\n",
    "    df_copy['Speed10']=df['Speed10']/train_median2\n",
    "    df_copy['Direction10']=df['Direction10']/train_median3\n",
    "    df_copy['Temper']=df['Temper']/train_median4\n",
    "    df_copy['Humidity']=df['Humidity']/train_median6\n",
    "    df_copy['Pressure']=df['Pressure']/train_median5\n",
    "    df_copy['Power(MW)']=df['Power(MW)']/33\n",
    "    return df_copy"
   ]
  },
  {
   "cell_type": "code",
   "execution_count": 56,
   "id": "8a44b48b",
   "metadata": {},
   "outputs": [],
   "source": [
    "df_for_training_scaled = simla(df,gf_df_train).values\n",
    "df_for_validing_scaled=simla(df,gf_df_valid).values\n",
    "df_for_testing_scaled=simla(df,gf_df_test).values"
   ]
  },
  {
   "cell_type": "code",
   "execution_count": 57,
   "id": "5e3af1bb",
   "metadata": {},
   "outputs": [],
   "source": [
    "# 分离x与y\n",
    "def createXY(array, days_used_to_train=7):\n",
    "    features = list()\n",
    "    labels = list()\n",
    "\n",
    "    for i in range(days_used_to_train, len(array)):\n",
    "        features.append(array[i-days_used_to_train:i, :])\n",
    "        labels.append(array[i, -1])\n",
    "    return np.array(features), np.array(labels)\n",
    "\n",
    "train_X,train_y=createXY(df_for_training_scaled)\n",
    "valid_X,valid_y=createXY(df_for_validing_scaled)\n",
    "test_X,test_y=createXY(df_for_testing_scaled)"
   ]
  },
  {
   "cell_type": "code",
   "execution_count": 58,
   "id": "1154c314",
   "metadata": {
    "scrolled": false
   },
   "outputs": [
    {
     "data": {
      "text/plain": [
       "[<matplotlib.lines.Line2D at 0x2313c1304f0>]"
      ]
     },
     "execution_count": 58,
     "metadata": {},
     "output_type": "execute_result"
    },
    {
     "data": {
      "image/png": "[encoded data removed]",
      "text/plain": [
       "<Figure size 432x288 with 1 Axes>"
      ]
     },
     "metadata": {
      "needs_background": "light"
     },
     "output_type": "display_data"
    }
   ],
   "source": [
    "# 看一下历史波形\n",
    "plt.plot(range(len(df['Power(MW)'])), df['Power(MW)'], label='history')"
   ]
  },
  {
   "cell_type": "code",
   "execution_count": 59,
   "id": "8f34c385",
   "metadata": {},
   "outputs": [],
   "source": [
    "# 定义一个新的评价函数\n",
    "def ev(y_true, y_predict):\n",
    "    difference=(abs(np.array(y_true) - np.array(y_predict.flatten()))).sum()\n",
    "    return float(difference) "
   ]
  },
  {
   "cell_type": "code",
   "execution_count": 60,
   "id": "eb8407e6",
   "metadata": {},
   "outputs": [],
   "source": [
    "# 建立模型函数\n",
    "def build_model(size):\n",
    "    tf.random.set_seed(1) #设置随机数种子\n",
    "    # Create grid_model\n",
    "    grid_model = tf.keras.Sequential()\n",
    "    grid_model.add(tf.keras.layers.LSTM(units=size))\n",
    "#     grid_model.add(tf.keras.layers.Flatten())\n",
    "#     grid_model.add(tf.keras.layers.Dense(size))\n",
    "#     grid_model.add(tf.keras.layers.Dropout(0.2))\n",
    "#     grid_model.add(tf.keras.layers.Dense(size))\n",
    "#     grid_model.add(tf.keras.layers.Dropout(0.2))\n",
    "    grid_model.add(tf.keras.layers.Dense(size))\n",
    "#     grid_model.add(tf.keras.layers.Dropout(0.2))\n",
    "    grid_model.add(tf.keras.layers.Dense(size))\n",
    "#     grid_model.add(tf.keras.layers.Dropout(0.2))\n",
    "    grid_model.add(tf.keras.layers.Dense(1))\n",
    "    # Compile the grid_model\n",
    "    grid_model.compile(\n",
    "    optimizer='adam',\n",
    "    loss='mse')\n",
    "    return grid_model"
   ]
  },
  {
   "cell_type": "code",
   "execution_count": 61,
   "id": "3faf7ab5",
   "metadata": {},
   "outputs": [],
   "source": [
    "# 准备一些copy用用\n",
    "df_for_testing_scaled_forpred=df_for_testing_scaled.copy()\n",
    "df_for_testing_scaled_inloop=df_for_testing_scaled.copy()\n",
    "\n",
    "df_for_testing_scaled_forpred=pd.DataFrame(df_for_testing_scaled_forpred)\n",
    "df_for_testing_scaled_inloop=pd.DataFrame(df_for_testing_scaled_inloop)\n",
    "\n",
    "df_for_testing_scaled_forpred_array=df_for_testing_scaled_forpred.values\n",
    "df_for_testing_scaled_inloop_array=df_for_testing_scaled_inloop.values\n",
    "\n",
    "df_for_testing_scaled_inloop.iloc[7:,-1]=np.nan"
   ]
  },
  {
   "cell_type": "code",
   "execution_count": 62,
   "id": "09323126",
   "metadata": {},
   "outputs": [],
   "source": [
    "# 准备一些copy用用\n",
    "df_for_validing_scaled_forpred=df_for_validing_scaled.copy()\n",
    "df_for_validing_scaled_inloop=df_for_validing_scaled.copy()\n",
    "\n",
    "df_for_validing_scaled_forpred=pd.DataFrame(df_for_validing_scaled_forpred)\n",
    "df_for_validing_scaled_inloop=pd.DataFrame(df_for_validing_scaled_inloop)\n",
    "\n",
    "df_for_validing_scaled_forpred_array=df_for_validing_scaled_forpred.values\n",
    "df_for_validing_scaled_inloop_array=df_for_validing_scaled_inloop.values\n",
    "\n",
    "df_for_validing_scaled_inloop.iloc[7:,-1]=np.nan"
   ]
  },
  {
   "cell_type": "code",
   "execution_count": 63,
   "id": "e3228f3c",
   "metadata": {},
   "outputs": [],
   "source": [
    "df_for_testing_scaled_inloop.to_csv('df_for_testing_scaled_inloop.csv',encoding = 'utf-8') #存储合并后数据"
   ]
  },
  {
   "cell_type": "code",
   "execution_count": 64,
   "id": "131dbab4",
   "metadata": {},
   "outputs": [],
   "source": [
    "# 为循环初始化一些数据\n",
    "bestscore=1000\n",
    "flag=0\n",
    "num=0\n",
    "best_size=0\n",
    "best_batch_size=0\n",
    "best_epochs=0\n",
    "time_step=7"
   ]
  },
  {
   "cell_type": "code",
   "execution_count": 65,
   "id": "e8f1899e",
   "metadata": {},
   "outputs": [
    {
     "name": "stderr",
     "output_type": "stream",
     "text": [
      "C:\\Users\\23966\\AppData\\Local\\Temp\\ipykernel_25152\\2930513074.py:23: VisibleDeprecationWarning: Creating an ndarray from ragged nested sequences (which is a list-or-tuple of lists-or-tuples-or ndarrays with different lengths or shapes) is deprecated. If you meant to do this, you must specify 'dtype=object' when creating the ndarray.\n",
      "  score=ev(test_y,np.array(all_data_test))\n"
     ]
    },
    {
     "name": "stdout",
     "output_type": "stream",
     "text": [
      "num: 0 score= 32.24826431274414 size= 64 batch_size= 32 epochs= 30\n",
      "32.24826431274414\n"
     ]
    },
    {
     "name": "stderr",
     "output_type": "stream",
     "text": [
      "WARNING:absl:Found untraced functions such as lstm_cell_2_layer_call_fn, lstm_cell_2_layer_call_and_return_conditional_losses while saving (showing 2 of 2). These functions will not be directly callable after loading.\n"
     ]
    },
    {
     "name": "stdout",
     "output_type": "stream",
     "text": [
      "INFO:tensorflow:Assets written to: keras_model_tf_version\\assets\n"
     ]
    },
    {
     "name": "stderr",
     "output_type": "stream",
     "text": [
      "INFO:tensorflow:Assets written to: keras_model_tf_version\\assets\n"
     ]
    },
    {
     "name": "stdout",
     "output_type": "stream",
     "text": [
      "32.24826431274414 best_size= 64 best_batch_size= 32 best_epochs= 30\n"
     ]
    }
   ],
   "source": [
    "# 开始循环（warning不影响做）\n",
    "for size in [64]:\n",
    "    for batch_size in [32]:\n",
    "        for epochs in [30]:\n",
    "            grid_model=build_model(size)\n",
    "            grid_model.fit(\n",
    "            train_X, train_y,\n",
    "            validation_data=(valid_X, valid_y),\n",
    "            batch_size=32,\n",
    "            epochs=epochs,\n",
    "            verbose=0)\n",
    "            all_data_test=[]\n",
    "# 此处用了和feature一样的逐点预测方法\n",
    "            for i in range (time_step,len(df_for_testing_scaled_inloop_array)) :\n",
    "                 data_x=[]\n",
    "                 data_x.append( df_for_testing_scaled_inloop_array[i-time_step :i , 0:df_for_testing_scaled_inloop.shape[1]])\n",
    "                 data_x=np.array(data_x)\n",
    "                 prediction=grid_model.predict(data_x,verbose=0)\n",
    "                 if prediction<0:\n",
    "                    prediction=0\n",
    "                 all_data_test.append(prediction)\n",
    "                 df_for_testing_scaled_inloop.iloc[i,-1]=prediction\n",
    "            score=ev(test_y,np.array(all_data_test))\n",
    "            print('num:',num,'score=',score,'size=',size,'batch_size=',batch_size,'epochs=',epochs,)\n",
    "            num=num+1\n",
    "            if score<bestscore:\n",
    "                flag=1\n",
    "                bestscore=score\n",
    "                print(bestscore)\n",
    "                best_size=size\n",
    "                best_batch_size=batch_size\n",
    "                best_epochs=epochs\n",
    "                # Export the model to a SavedModel\n",
    "                grid_model.save('keras_model_tf_version', save_format='tf')\n",
    "print(bestscore,'best_size=',best_size,'best_batch_size=',best_batch_size,'best_epochs=',best_epochs)"
   ]
  },
  {
   "cell_type": "code",
   "execution_count": 43,
   "id": "4b9f569c",
   "metadata": {},
   "outputs": [],
   "source": [
    "# 加载最佳模型\n",
    "my_model = tf.keras.models.load_model('keras_model_tf_version')"
   ]
  },
  {
   "cell_type": "code",
   "execution_count": 66,
   "id": "ce4208ba",
   "metadata": {},
   "outputs": [
    {
     "name": "stdout",
     "output_type": "stream",
     "text": [
      "32.24826431274414\n"
     ]
    },
    {
     "name": "stderr",
     "output_type": "stream",
     "text": [
      "C:\\Users\\23966\\AppData\\Local\\Temp\\ipykernel_25152\\4075376409.py:12: VisibleDeprecationWarning: Creating an ndarray from ragged nested sequences (which is a list-or-tuple of lists-or-tuples-or ndarrays with different lengths or shapes) is deprecated. If you meant to do this, you must specify 'dtype=object' when creating the ndarray.\n",
      "  print(ev(test_y,np.array(all_data_test)))\n",
      "C:\\Users\\23966\\.conda\\envs\\notebook\\lib\\site-packages\\numpy\\core\\shape_base.py:65: VisibleDeprecationWarning: Creating an ndarray from ragged nested sequences (which is a list-or-tuple of lists-or-tuples-or ndarrays with different lengths or shapes) is deprecated. If you meant to do this, you must specify 'dtype=object' when creating the ndarray.\n",
      "  ary = asanyarray(ary)\n"
     ]
    },
    {
     "data": {
      "text/plain": [
       "[<matplotlib.lines.Line2D at 0x23140910bb0>]"
      ]
     },
     "execution_count": 66,
     "metadata": {},
     "output_type": "execute_result"
    },
    {
     "data": {
      "image/png": "[encoded data removed]",
      "text/plain": [
       "<Figure size 432x288 with 1 Axes>"
      ]
     },
     "metadata": {
      "needs_background": "light"
     },
     "output_type": "display_data"
    }
   ],
   "source": [
    "# 用最佳模型预测一下test\n",
    "all_data_test=[]\n",
    "for i in range (time_step,len(df_for_testing_scaled_forpred_array)) :\n",
    "                 data_x=[]\n",
    "                 data_x.append( df_for_testing_scaled_forpred_array[i-time_step :i , 0:df_for_testing_scaled_forpred.shape[1]])\n",
    "                 data_x=np.array(data_x)\n",
    "                 prediction=my_model.predict(data_x,verbose=0)\n",
    "                 if prediction<0:\n",
    "                    prediction=0\n",
    "                 all_data_test.append(prediction)\n",
    "                 df_for_testing_scaled_forpred.iloc[i,-1]=prediction\n",
    "print(ev(test_y,np.array(all_data_test)))\n",
    "# 看看test的结果\n",
    "plt.plot(range(len(all_data_test)), all_data_test, label='Prediction')\n",
    "plt.plot(range(len(test_y)), test_y, label='Prediction')"
   ]
  },
  {
   "cell_type": "code",
   "execution_count": 67,
   "id": "a63a25cf",
   "metadata": {},
   "outputs": [
    {
     "name": "stderr",
     "output_type": "stream",
     "text": [
      "C:\\Users\\23966\\.conda\\envs\\notebook\\lib\\site-packages\\numpy\\core\\shape_base.py:65: VisibleDeprecationWarning: Creating an ndarray from ragged nested sequences (which is a list-or-tuple of lists-or-tuples-or ndarrays with different lengths or shapes) is deprecated. If you meant to do this, you must specify 'dtype=object' when creating the ndarray.\n",
      "  ary = asanyarray(ary)\n"
     ]
    },
    {
     "data": {
      "text/plain": [
       "[<matplotlib.lines.Line2D at 0x2314099e260>]"
      ]
     },
     "execution_count": 67,
     "metadata": {},
     "output_type": "execute_result"
    },
    {
     "data": {
      "image/png": "[encoded data removed]",
      "text/plain": [
       "<Figure size 432x288 with 1 Axes>"
      ]
     },
     "metadata": {
      "needs_background": "light"
     },
     "output_type": "display_data"
    }
   ],
   "source": [
    "# 用最佳模型预测一下valid\n",
    "all_data_valid=[]\n",
    "for i in range (time_step,len(df_for_validing_scaled_forpred_array)) :\n",
    "                 data_x=[]\n",
    "                 data_x.append( df_for_validing_scaled_forpred_array[i-time_step :i , 0:df_for_validing_scaled_forpred.shape[1]])\n",
    "                 data_x=np.array(data_x)\n",
    "                 prediction=my_model.predict(data_x,verbose=0)\n",
    "                 if prediction<0:\n",
    "                    prediction=0\n",
    "                 all_data_valid.append(prediction)\n",
    "                 df_for_validing_scaled_forpred.iloc[i,-1]=prediction\n",
    "                    # 看看valid的结果\n",
    "plt.plot(range(len(all_data_valid)), all_data_valid, label='Prediction')\n",
    "plt.plot(range(len(valid_y)), valid_y, label='Prediction')"
   ]
  },
  {
   "cell_type": "code",
   "execution_count": 47,
   "id": "622a83fb",
   "metadata": {},
   "outputs": [
    {
     "name": "stdout",
     "output_type": "stream",
     "text": [
      "4/4 [==============================] - 0s 2ms/step\n",
      "22.007403244671856\n"
     ]
    },
    {
     "data": {
      "image/png": "[encoded data removed]",
      "text/plain": [
       "<Figure size 432x288 with 1 Axes>"
      ]
     },
     "metadata": {
      "needs_background": "light"
     },
     "output_type": "display_data"
    }
   ],
   "source": [
    "# 查看valid集预测结果\n",
    "pred_valid_y = my_model.predict(valid_X)\n",
    "print(ev(valid_y,pred_valid_y))\n",
    "plt.plot(range(len(pred_valid_y)), pred_valid_y, label='Prediction')\n",
    "plt.plot(range(len(pred_valid_y)), valid_y, label='Ground Truth')\n",
    "plt.fill_between(range(len(pred_valid_y)), pred_valid_y.flatten(), valid_y.flatten(), color='MistyRose',label='error')\n",
    "plt.xlabel('Amount of samples')\n",
    "plt.ylabel('Prediction')\n",
    "plt.legend()\n",
    "plt.show()"
   ]
  },
  {
   "cell_type": "code",
   "execution_count": 48,
   "id": "ff6395a1",
   "metadata": {},
   "outputs": [
    {
     "name": "stdout",
     "output_type": "stream",
     "text": [
      "4/4 [==============================] - 0s 2ms/step\n",
      "22.836620530565035\n"
     ]
    },
    {
     "data": {
      "image/png": "[encoded data removed]",
      "text/plain": [
       "<Figure size 432x288 with 1 Axes>"
      ]
     },
     "metadata": {
      "needs_background": "light"
     },
     "output_type": "display_data"
    }
   ],
   "source": [
    "# 查看test集预测结果\n",
    "pred_test_y = my_model.predict(test_X)\n",
    "print(ev(test_y,pred_test_y))\n",
    "plt.plot(range(len(pred_test_y)), pred_test_y, label='Prediction')\n",
    "plt.plot(range(len(pred_test_y)), test_y, label='Ground Truth')\n",
    "plt.fill_between(range(len(pred_test_y)), pred_test_y.flatten(), test_y.flatten(), color='MistyRose',label='error')\n",
    "plt.xlabel('Amount of samples')\n",
    "plt.ylabel('Prediction')\n",
    "plt.legend()\n",
    "plt.show()"
   ]
  },
  {
   "cell_type": "code",
   "execution_count": 70,
   "id": "b36cc8e4",
   "metadata": {},
   "outputs": [
    {
     "data": {
      "text/html": [
       "<div>\n",
       "<style scoped>\n",
       "    .dataframe tbody tr th:only-of-type {\n",
       "        vertical-align: middle;\n",
       "    }\n",
       "\n",
       "    .dataframe tbody tr th {\n",
       "        vertical-align: top;\n",
       "    }\n",
       "\n",
       "    .dataframe thead th {\n",
       "        text-align: right;\n",
       "    }\n",
       "</style>\n",
       "<table border=\"1\" class=\"dataframe\">\n",
       "  <thead>\n",
       "    <tr style=\"text-align: right;\">\n",
       "      <th></th>\n",
       "      <th>Irradiance</th>\n",
       "      <th>Speed10</th>\n",
       "      <th>Direction10</th>\n",
       "      <th>Temper</th>\n",
       "      <th>Pressure</th>\n",
       "      <th>Humidity</th>\n",
       "      <th>Power(MW)</th>\n",
       "    </tr>\n",
       "    <tr>\n",
       "      <th>Datetime</th>\n",
       "      <th></th>\n",
       "      <th></th>\n",
       "      <th></th>\n",
       "      <th></th>\n",
       "      <th></th>\n",
       "      <th></th>\n",
       "      <th></th>\n",
       "    </tr>\n",
       "  </thead>\n",
       "  <tbody>\n",
       "    <tr>\n",
       "      <th>2022-06-18 14:15:00</th>\n",
       "      <td>57.145455</td>\n",
       "      <td>1.171428</td>\n",
       "      <td>0.767186</td>\n",
       "      <td>1.052177</td>\n",
       "      <td>0.999154</td>\n",
       "      <td>0.936132</td>\n",
       "      <td>1.715879</td>\n",
       "    </tr>\n",
       "    <tr>\n",
       "      <th>2022-06-18 14:30:00</th>\n",
       "      <td>60.969697</td>\n",
       "      <td>1.176598</td>\n",
       "      <td>0.729545</td>\n",
       "      <td>1.053257</td>\n",
       "      <td>0.999013</td>\n",
       "      <td>0.936692</td>\n",
       "      <td>1.699945</td>\n",
       "    </tr>\n",
       "    <tr>\n",
       "      <th>2022-06-18 14:45:00</th>\n",
       "      <td>55.921212</td>\n",
       "      <td>1.184552</td>\n",
       "      <td>0.707593</td>\n",
       "      <td>1.050738</td>\n",
       "      <td>0.998903</td>\n",
       "      <td>0.938819</td>\n",
       "      <td>1.572003</td>\n",
       "    </tr>\n",
       "    <tr>\n",
       "      <th>2022-06-18 15:00:00</th>\n",
       "      <td>51.974892</td>\n",
       "      <td>1.193251</td>\n",
       "      <td>0.671664</td>\n",
       "      <td>1.048219</td>\n",
       "      <td>0.998813</td>\n",
       "      <td>0.943969</td>\n",
       "      <td>0.575964</td>\n",
       "    </tr>\n",
       "    <tr>\n",
       "      <th>2022-06-18 15:15:00</th>\n",
       "      <td>50.495238</td>\n",
       "      <td>1.201108</td>\n",
       "      <td>0.628637</td>\n",
       "      <td>1.047139</td>\n",
       "      <td>0.998723</td>\n",
       "      <td>0.947551</td>\n",
       "      <td>1.327903</td>\n",
       "    </tr>\n",
       "    <tr>\n",
       "      <th>...</th>\n",
       "      <td>...</td>\n",
       "      <td>...</td>\n",
       "      <td>...</td>\n",
       "      <td>...</td>\n",
       "      <td>...</td>\n",
       "      <td>...</td>\n",
       "      <td>...</td>\n",
       "    </tr>\n",
       "    <tr>\n",
       "      <th>2022-07-21 22:45:00</th>\n",
       "      <td>0.000000</td>\n",
       "      <td>0.598245</td>\n",
       "      <td>1.635199</td>\n",
       "      <td>0.996042</td>\n",
       "      <td>0.995687</td>\n",
       "      <td>0.905682</td>\n",
       "      <td>NaN</td>\n",
       "    </tr>\n",
       "    <tr>\n",
       "      <th>2022-07-21 23:00:00</th>\n",
       "      <td>0.000000</td>\n",
       "      <td>0.617545</td>\n",
       "      <td>1.647895</td>\n",
       "      <td>0.994962</td>\n",
       "      <td>0.996198</td>\n",
       "      <td>0.949790</td>\n",
       "      <td>NaN</td>\n",
       "    </tr>\n",
       "    <tr>\n",
       "      <th>2022-07-21 23:15:00</th>\n",
       "      <td>0.000000</td>\n",
       "      <td>0.518221</td>\n",
       "      <td>1.538831</td>\n",
       "      <td>0.983447</td>\n",
       "      <td>0.996419</td>\n",
       "      <td>0.949790</td>\n",
       "      <td>NaN</td>\n",
       "    </tr>\n",
       "    <tr>\n",
       "      <th>2022-07-21 23:30:00</th>\n",
       "      <td>0.000000</td>\n",
       "      <td>0.524934</td>\n",
       "      <td>1.585273</td>\n",
       "      <td>0.985246</td>\n",
       "      <td>0.996218</td>\n",
       "      <td>0.949790</td>\n",
       "      <td>NaN</td>\n",
       "    </tr>\n",
       "    <tr>\n",
       "      <th>2022-07-21 23:45:00</th>\n",
       "      <td>0.000000</td>\n",
       "      <td>0.519144</td>\n",
       "      <td>1.630511</td>\n",
       "      <td>0.983447</td>\n",
       "      <td>0.995778</td>\n",
       "      <td>0.949790</td>\n",
       "      <td>NaN</td>\n",
       "    </tr>\n",
       "  </tbody>\n",
       "</table>\n",
       "<p>807 rows × 7 columns</p>\n",
       "</div>"
      ],
      "text/plain": [
       "                     Irradiance   Speed10  Direction10    Temper  Pressure  \\\n",
       "Datetime                                                                     \n",
       "2022-06-18 14:15:00   57.145455  1.171428     0.767186  1.052177  0.999154   \n",
       "2022-06-18 14:30:00   60.969697  1.176598     0.729545  1.053257  0.999013   \n",
       "2022-06-18 14:45:00   55.921212  1.184552     0.707593  1.050738  0.998903   \n",
       "2022-06-18 15:00:00   51.974892  1.193251     0.671664  1.048219  0.998813   \n",
       "2022-06-18 15:15:00   50.495238  1.201108     0.628637  1.047139  0.998723   \n",
       "...                         ...       ...          ...       ...       ...   \n",
       "2022-07-21 22:45:00    0.000000  0.598245     1.635199  0.996042  0.995687   \n",
       "2022-07-21 23:00:00    0.000000  0.617545     1.647895  0.994962  0.996198   \n",
       "2022-07-21 23:15:00    0.000000  0.518221     1.538831  0.983447  0.996419   \n",
       "2022-07-21 23:30:00    0.000000  0.524934     1.585273  0.985246  0.996218   \n",
       "2022-07-21 23:45:00    0.000000  0.519144     1.630511  0.983447  0.995778   \n",
       "\n",
       "                     Humidity  Power(MW)  \n",
       "Datetime                                  \n",
       "2022-06-18 14:15:00  0.936132   1.715879  \n",
       "2022-06-18 14:30:00  0.936692   1.699945  \n",
       "2022-06-18 14:45:00  0.938819   1.572003  \n",
       "2022-06-18 15:00:00  0.943969   0.575964  \n",
       "2022-06-18 15:15:00  0.947551   1.327903  \n",
       "...                       ...        ...  \n",
       "2022-07-21 22:45:00  0.905682        NaN  \n",
       "2022-07-21 23:00:00  0.949790        NaN  \n",
       "2022-07-21 23:15:00  0.949790        NaN  \n",
       "2022-07-21 23:30:00  0.949790        NaN  \n",
       "2022-07-21 23:45:00  0.949790        NaN  \n",
       "\n",
       "[807 rows x 7 columns]"
      ]
     },
     "execution_count": 70,
     "metadata": {},
     "output_type": "execute_result"
    }
   ],
   "source": [
    "df_fea=pd.read_csv('full_df_fea.csv',index_col=[0])\n",
    "df_fea=simla(df,df_fea)\n",
    "df_fea"
   ]
  },
  {
   "cell_type": "code",
   "execution_count": 71,
   "id": "77bec53e",
   "metadata": {},
   "outputs": [],
   "source": [
    "df_fea_array=df_fea.values"
   ]
  },
  {
   "cell_type": "code",
   "execution_count": 72,
   "id": "65a4801a",
   "metadata": {},
   "outputs": [],
   "source": [
    "# 用最佳模型预测一下fea\n",
    "all_data_fea=[]\n",
    "for i in range (time_step,len(df_fea_array)) :\n",
    "                 data_x=[]\n",
    "                 data_x.append( df_fea_array[i-time_step :i , 0:df_fea.shape[1]])\n",
    "                 data_x=np.array(data_x)\n",
    "                 prediction=my_model.predict(data_x,verbose=0)\n",
    "                 if prediction<0:\n",
    "                    prediction=0\n",
    "                 all_data_fea.append(prediction)\n",
    "                 df_fea.iloc[i,-1]=prediction\n"
   ]
  },
  {
   "cell_type": "code",
   "execution_count": 73,
   "id": "450ce98a",
   "metadata": {},
   "outputs": [
    {
     "name": "stderr",
     "output_type": "stream",
     "text": [
      "C:\\Users\\23966\\AppData\\Local\\Temp\\ipykernel_25152\\1157379746.py:1: VisibleDeprecationWarning: Creating an ndarray from ragged nested sequences (which is a list-or-tuple of lists-or-tuples-or ndarrays with different lengths or shapes) is deprecated. If you meant to do this, you must specify 'dtype=object' when creating the ndarray.\n",
      "  plt.plot(range(len(all_data_fea)), np.array(all_data_fea).flatten(), label='Prediction')\n"
     ]
    },
    {
     "data": {
      "text/plain": [
       "[<matplotlib.lines.Line2D at 0x2312d7680d0>]"
      ]
     },
     "execution_count": 73,
     "metadata": {},
     "output_type": "execute_result"
    },
    {
     "data": {
      "image/png": "[encoded data removed]",
      "text/plain": [
       "<Figure size 432x288 with 1 Axes>"
      ]
     },
     "metadata": {
      "needs_background": "light"
     },
     "output_type": "display_data"
    }
   ],
   "source": [
    "plt.plot(range(len(all_data_fea)), np.array(all_data_fea).flatten(), label='Prediction')"
   ]
  },
  {
   "cell_type": "code",
   "execution_count": null,
   "id": "6529c411",
   "metadata": {},
   "outputs": [],
   "source": []
  }
 ],
 "metadata": {
  "kernelspec": {
   "display_name": "Python 3 (ipykernel)",
   "language": "python",
   "name": "python3"
  },
  "language_info": {
   "codemirror_mode": {
    "name": "ipython",
    "version": 3
   },
   "file_extension": ".py",
   "mimetype": "text/x-python",
   "name": "python",
   "nbconvert_exporter": "python",
   "pygments_lexer": "ipython3",
   "version": "3.10.4"
  }
 },
 "nbformat": 4,
 "nbformat_minor": 5
}
