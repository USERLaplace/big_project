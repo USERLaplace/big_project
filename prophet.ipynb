{
 "cells": [
  {
   "cell_type": "code",
   "execution_count": 1,
   "metadata": {},
   "outputs": [
    {
     "data": {
      "text/html": [
       "<div>\n",
       "<style scoped>\n",
       "    .dataframe tbody tr th:only-of-type {\n",
       "        vertical-align: middle;\n",
       "    }\n",
       "\n",
       "    .dataframe tbody tr th {\n",
       "        vertical-align: top;\n",
       "    }\n",
       "\n",
       "    .dataframe thead th {\n",
       "        text-align: right;\n",
       "    }\n",
       "</style>\n",
       "<table border=\"1\" class=\"dataframe\">\n",
       "  <thead>\n",
       "    <tr style=\"text-align: right;\">\n",
       "      <th></th>\n",
       "      <th>Datetime</th>\n",
       "      <th>Power(MW)</th>\n",
       "    </tr>\n",
       "  </thead>\n",
       "  <tbody>\n",
       "    <tr>\n",
       "      <th>0</th>\n",
       "      <td>2022/7/15 0:00:00</td>\n",
       "      <td>0.0216</td>\n",
       "    </tr>\n",
       "    <tr>\n",
       "      <th>1</th>\n",
       "      <td>2022/7/15 0:15:00</td>\n",
       "      <td>0.0218</td>\n",
       "    </tr>\n",
       "    <tr>\n",
       "      <th>2</th>\n",
       "      <td>2022/7/15 0:30:00</td>\n",
       "      <td>0.4021</td>\n",
       "    </tr>\n",
       "    <tr>\n",
       "      <th>3</th>\n",
       "      <td>2022/7/15 0:45:00</td>\n",
       "      <td>0.5867</td>\n",
       "    </tr>\n",
       "    <tr>\n",
       "      <th>4</th>\n",
       "      <td>2022/7/15 1:00:00</td>\n",
       "      <td>0.3889</td>\n",
       "    </tr>\n",
       "  </tbody>\n",
       "</table>\n",
       "</div>"
      ],
      "text/plain": [
       "            Datetime  Power(MW)\n",
       "0  2022/7/15 0:00:00     0.0216\n",
       "1  2022/7/15 0:15:00     0.0218\n",
       "2  2022/7/15 0:30:00     0.4021\n",
       "3  2022/7/15 0:45:00     0.5867\n",
       "4  2022/7/15 1:00:00     0.3889"
      ]
     },
     "execution_count": 1,
     "metadata": {},
     "output_type": "execute_result"
    }
   ],
   "source": [
    "import numpy as np\n",
    "import pandas as pd\n",
    "\n",
    "import seaborn as sns \n",
    "import matplotlib.pyplot as plt \n",
    "from colorama import Fore\n",
    "\n",
    "from sklearn.metrics import mean_absolute_error, mean_squared_error\n",
    "import math\n",
    "\n",
    "import warnings # Supress warnings \n",
    "warnings.filterwarnings('ignore')\n",
    "plt.rcParams['font.sans-serif'] = ['SimHei']  # 用来正常显示中文标签\n",
    "plt.rcParams['axes.unicode_minus'] = False  # 用来正常显示负号\n",
    "np.random.seed(7)\n",
    "\n",
    "df = pd.read_csv(r\"D:\\python建模\\工程训练营\\aiSummerCamp2022\\大作业2\\02 His_Power_FD.CSV\")\n",
    "df.head() \n"
   ]
  },
  {
   "cell_type": "code",
   "execution_count": 2,
   "metadata": {},
   "outputs": [
    {
     "data": {
      "text/html": [
       "<div>\n",
       "<style scoped>\n",
       "    .dataframe tbody tr th:only-of-type {\n",
       "        vertical-align: middle;\n",
       "    }\n",
       "\n",
       "    .dataframe tbody tr th {\n",
       "        vertical-align: top;\n",
       "    }\n",
       "\n",
       "    .dataframe thead th {\n",
       "        text-align: right;\n",
       "    }\n",
       "</style>\n",
       "<table border=\"1\" class=\"dataframe\">\n",
       "  <thead>\n",
       "    <tr style=\"text-align: right;\">\n",
       "      <th></th>\n",
       "      <th>Datetime</th>\n",
       "      <th>Power(MW)</th>\n",
       "    </tr>\n",
       "  </thead>\n",
       "  <tbody>\n",
       "    <tr>\n",
       "      <th>0</th>\n",
       "      <td>2022/7/15 0:00:00</td>\n",
       "      <td>0.0216</td>\n",
       "    </tr>\n",
       "    <tr>\n",
       "      <th>1</th>\n",
       "      <td>2022/7/15 0:15:00</td>\n",
       "      <td>0.0218</td>\n",
       "    </tr>\n",
       "    <tr>\n",
       "      <th>2</th>\n",
       "      <td>2022/7/15 0:30:00</td>\n",
       "      <td>0.4021</td>\n",
       "    </tr>\n",
       "    <tr>\n",
       "      <th>3</th>\n",
       "      <td>2022/7/15 0:45:00</td>\n",
       "      <td>0.5867</td>\n",
       "    </tr>\n",
       "    <tr>\n",
       "      <th>4</th>\n",
       "      <td>2022/7/15 1:00:00</td>\n",
       "      <td>0.3889</td>\n",
       "    </tr>\n",
       "    <tr>\n",
       "      <th>...</th>\n",
       "      <td>...</td>\n",
       "      <td>...</td>\n",
       "    </tr>\n",
       "    <tr>\n",
       "      <th>667</th>\n",
       "      <td>2022/7/21 22:45:00</td>\n",
       "      <td>2.3584</td>\n",
       "    </tr>\n",
       "    <tr>\n",
       "      <th>668</th>\n",
       "      <td>2022/7/21 23:00:00</td>\n",
       "      <td>2.8011</td>\n",
       "    </tr>\n",
       "    <tr>\n",
       "      <th>669</th>\n",
       "      <td>2022/7/21 23:15:00</td>\n",
       "      <td>3.6597</td>\n",
       "    </tr>\n",
       "    <tr>\n",
       "      <th>670</th>\n",
       "      <td>2022/7/21 23:30:00</td>\n",
       "      <td>3.4466</td>\n",
       "    </tr>\n",
       "    <tr>\n",
       "      <th>671</th>\n",
       "      <td>2022/7/21 23:45:00</td>\n",
       "      <td>3.0725</td>\n",
       "    </tr>\n",
       "  </tbody>\n",
       "</table>\n",
       "<p>672 rows × 2 columns</p>\n",
       "</div>"
      ],
      "text/plain": [
       "               Datetime  Power(MW)\n",
       "0     2022/7/15 0:00:00     0.0216\n",
       "1     2022/7/15 0:15:00     0.0218\n",
       "2     2022/7/15 0:30:00     0.4021\n",
       "3     2022/7/15 0:45:00     0.5867\n",
       "4     2022/7/15 1:00:00     0.3889\n",
       "..                  ...        ...\n",
       "667  2022/7/21 22:45:00     2.3584\n",
       "668  2022/7/21 23:00:00     2.8011\n",
       "669  2022/7/21 23:15:00     3.6597\n",
       "670  2022/7/21 23:30:00     3.4466\n",
       "671  2022/7/21 23:45:00     3.0725\n",
       "\n",
       "[672 rows x 2 columns]"
      ]
     },
     "execution_count": 2,
     "metadata": {},
     "output_type": "execute_result"
    }
   ],
   "source": [
    "df  = df.rename(columns={'日期1':'date'})\n",
    "df"
   ]
  },
  {
   "cell_type": "code",
   "execution_count": 6,
   "metadata": {},
   "outputs": [
    {
     "data": {
      "text/html": [
       "<style type=\"text/css\">\n",
       "#T_e3e93_row0_col0, #T_e3e93_row1_col0, #T_e3e93_row2_col0, #T_e3e93_row3_col0, #T_e3e93_row4_col0 {\n",
       "  background-color: dodgerblue;\n",
       "}\n",
       "</style>\n",
       "<table id=\"T_e3e93\">\n",
       "  <thead>\n",
       "    <tr>\n",
       "      <th class=\"blank level0\" >&nbsp;</th>\n",
       "      <th id=\"T_e3e93_level0_col0\" class=\"col_heading level0 col0\" >Datetime</th>\n",
       "      <th id=\"T_e3e93_level0_col1\" class=\"col_heading level0 col1\" >Power(MW)</th>\n",
       "    </tr>\n",
       "  </thead>\n",
       "  <tbody>\n",
       "    <tr>\n",
       "      <th id=\"T_e3e93_level0_row0\" class=\"row_heading level0 row0\" >0</th>\n",
       "      <td id=\"T_e3e93_row0_col0\" class=\"data row0 col0\" >2022-07-15 00:00:00</td>\n",
       "      <td id=\"T_e3e93_row0_col1\" class=\"data row0 col1\" >0.021600</td>\n",
       "    </tr>\n",
       "    <tr>\n",
       "      <th id=\"T_e3e93_level0_row1\" class=\"row_heading level0 row1\" >1</th>\n",
       "      <td id=\"T_e3e93_row1_col0\" class=\"data row1 col0\" >2022-07-15 00:15:00</td>\n",
       "      <td id=\"T_e3e93_row1_col1\" class=\"data row1 col1\" >0.021800</td>\n",
       "    </tr>\n",
       "    <tr>\n",
       "      <th id=\"T_e3e93_level0_row2\" class=\"row_heading level0 row2\" >2</th>\n",
       "      <td id=\"T_e3e93_row2_col0\" class=\"data row2 col0\" >2022-07-15 00:30:00</td>\n",
       "      <td id=\"T_e3e93_row2_col1\" class=\"data row2 col1\" >0.402100</td>\n",
       "    </tr>\n",
       "    <tr>\n",
       "      <th id=\"T_e3e93_level0_row3\" class=\"row_heading level0 row3\" >3</th>\n",
       "      <td id=\"T_e3e93_row3_col0\" class=\"data row3 col0\" >2022-07-15 00:45:00</td>\n",
       "      <td id=\"T_e3e93_row3_col1\" class=\"data row3 col1\" >0.586700</td>\n",
       "    </tr>\n",
       "    <tr>\n",
       "      <th id=\"T_e3e93_level0_row4\" class=\"row_heading level0 row4\" >4</th>\n",
       "      <td id=\"T_e3e93_row4_col0\" class=\"data row4 col0\" >2022-07-15 01:00:00</td>\n",
       "      <td id=\"T_e3e93_row4_col1\" class=\"data row4 col1\" >0.388900</td>\n",
       "    </tr>\n",
       "  </tbody>\n",
       "</table>\n"
      ],
      "text/plain": [
       "<pandas.io.formats.style.Styler at 0x1cedb057340>"
      ]
     },
     "execution_count": 6,
     "metadata": {},
     "output_type": "execute_result"
    }
   ],
   "source": [
    "from datetime import datetime, date \n",
    "\n",
    "df['Datetime'] = pd.to_datetime(df['Datetime'])\n",
    "df.head().style.set_properties(subset=['Datetime'], **{'background-color': 'dodgerblue'})\n"
   ]
  },
  {
   "cell_type": "code",
   "execution_count": 11,
   "metadata": {},
   "outputs": [
    {
     "data": {
      "text/html": [
       "<div>\n",
       "<style scoped>\n",
       "    .dataframe tbody tr th:only-of-type {\n",
       "        vertical-align: middle;\n",
       "    }\n",
       "\n",
       "    .dataframe tbody tr th {\n",
       "        vertical-align: top;\n",
       "    }\n",
       "\n",
       "    .dataframe thead th {\n",
       "        text-align: right;\n",
       "    }\n",
       "</style>\n",
       "<table border=\"1\" class=\"dataframe\">\n",
       "  <thead>\n",
       "    <tr style=\"text-align: right;\">\n",
       "      <th></th>\n",
       "      <th>Datetime</th>\n",
       "      <th>delta</th>\n",
       "    </tr>\n",
       "  </thead>\n",
       "  <tbody>\n",
       "    <tr>\n",
       "      <th>0</th>\n",
       "      <td>2022-07-15 00:00:00</td>\n",
       "      <td>NaT</td>\n",
       "    </tr>\n",
       "    <tr>\n",
       "      <th>1</th>\n",
       "      <td>2022-07-15 00:15:00</td>\n",
       "      <td>0 days 00:15:00</td>\n",
       "    </tr>\n",
       "    <tr>\n",
       "      <th>2</th>\n",
       "      <td>2022-07-15 00:30:00</td>\n",
       "      <td>0 days 00:15:00</td>\n",
       "    </tr>\n",
       "    <tr>\n",
       "      <th>3</th>\n",
       "      <td>2022-07-15 00:45:00</td>\n",
       "      <td>0 days 00:15:00</td>\n",
       "    </tr>\n",
       "    <tr>\n",
       "      <th>4</th>\n",
       "      <td>2022-07-15 01:00:00</td>\n",
       "      <td>0 days 00:15:00</td>\n",
       "    </tr>\n",
       "  </tbody>\n",
       "</table>\n",
       "</div>"
      ],
      "text/plain": [
       "             Datetime           delta\n",
       "0 2022-07-15 00:00:00             NaT\n",
       "1 2022-07-15 00:15:00 0 days 00:15:00\n",
       "2 2022-07-15 00:30:00 0 days 00:15:00\n",
       "3 2022-07-15 00:45:00 0 days 00:15:00\n",
       "4 2022-07-15 01:00:00 0 days 00:15:00"
      ]
     },
     "execution_count": 11,
     "metadata": {},
     "output_type": "execute_result"
    }
   ],
   "source": [
    "df = df.sort_values(by='Datetime')\n",
    "\n",
    "# Check time intervals\n",
    "df['delta'] = df['Datetime'] - df['Datetime'].shift(1)\n",
    "\n",
    "df[['Datetime', 'delta']].head()\n"
   ]
  },
  {
   "cell_type": "code",
   "execution_count": 12,
   "metadata": {},
   "outputs": [
    {
     "data": {
      "text/plain": [
       "(Timedelta('6 days 23:45:00'), 671)"
      ]
     },
     "execution_count": 12,
     "metadata": {},
     "output_type": "execute_result"
    }
   ],
   "source": [
    "df['delta'].sum(), df['delta'].count()\n"
   ]
  },
  {
   "cell_type": "code",
   "execution_count": 13,
   "metadata": {},
   "outputs": [
    {
     "data": {
      "text/plain": [
       "Datetime     0\n",
       "Power(MW)    0\n",
       "dtype: int64"
      ]
     },
     "execution_count": 13,
     "metadata": {},
     "output_type": "execute_result"
    }
   ],
   "source": [
    "df = df.drop('delta', axis=1)\n",
    "df.isna().sum()\n"
   ]
  },
  {
   "cell_type": "code",
   "execution_count": 14,
   "metadata": {},
   "outputs": [
    {
     "data": {
      "text/plain": [
       "(17532.0, 17546.0)"
      ]
     },
     "execution_count": 14,
     "metadata": {},
     "output_type": "execute_result"
    },
    {
     "data": {
      "image/png": "[encoded data removed]",
      "text/plain": [
       "<Figure size 1080x1080 with 2 Axes>"
      ]
     },
     "metadata": {
      "needs_background": "light"
     },
     "output_type": "display_data"
    }
   ],
   "source": [
    "f, ax = plt.subplots(nrows=2, ncols=1, figsize=(15, 15))\n",
    "\n",
    "\n",
    "\n",
    "\n",
    "ax[1].set_xlim([date(2018, 1, 1), date(2018, 1, 15)])\n"
   ]
  },
  {
   "cell_type": "code",
   "execution_count": 15,
   "metadata": {},
   "outputs": [
    {
     "data": {
      "image/png": "[encoded data removed]",
      "text/plain": [
       "<Figure size 1152x360 with 2 Axes>"
      ]
     },
     "metadata": {
      "needs_background": "light"
     },
     "output_type": "display_data"
    }
   ],
   "source": [
    "f, ax = plt.subplots(nrows=1, ncols=1, figsize=(16,5))\n",
    "\n",
    "sns.heatmap(df.T.isna(), cmap='Reds_r')\n",
    "ax.set_title('Missing Values', fontsize=16)\n",
    "\n",
    "for tick in ax.yaxis.get_major_ticks():\n",
    "    tick.label.set_fontsize(14)\n",
    "plt.show()\n"
   ]
  },
  {
   "cell_type": "code",
   "execution_count": 16,
   "metadata": {},
   "outputs": [
    {
     "data": {
      "image/png": "[encoded data removed]",
      "text/plain": [
       "<Figure size 1152x864 with 3 Axes>"
      ]
     },
     "metadata": {
      "needs_background": "light"
     },
     "output_type": "display_data"
    }
   ],
   "source": [
    "fig, ax = plt.subplots(ncols=1, nrows=3, sharex=True, figsize=(16,12))\n",
    "\n",
    "sns.lineplot(df['Datetime'], df['Power(MW)'], color='dodgerblue', ax=ax[0])\n",
    "ax[0].set_title('Power(MW) Volume', fontsize=14)\n",
    "\n",
    "for i in range(3):\n",
    "    ax[i].set_xlim([date(2022, 7, 15), date(2022, 7, 21)])\n",
    "\n"
   ]
  },
  {
   "cell_type": "code",
   "execution_count": 17,
   "metadata": {},
   "outputs": [
    {
     "data": {
      "text/html": [
       "<div>\n",
       "<style scoped>\n",
       "    .dataframe tbody tr th:only-of-type {\n",
       "        vertical-align: middle;\n",
       "    }\n",
       "\n",
       "    .dataframe tbody tr th {\n",
       "        vertical-align: top;\n",
       "    }\n",
       "\n",
       "    .dataframe thead th {\n",
       "        text-align: right;\n",
       "    }\n",
       "</style>\n",
       "<table border=\"1\" class=\"dataframe\">\n",
       "  <thead>\n",
       "    <tr style=\"text-align: right;\">\n",
       "      <th></th>\n",
       "      <th>Datetime</th>\n",
       "      <th>Power(MW)</th>\n",
       "    </tr>\n",
       "  </thead>\n",
       "  <tbody>\n",
       "    <tr>\n",
       "      <th>0</th>\n",
       "      <td>2022-07-15</td>\n",
       "      <td>3.710794</td>\n",
       "    </tr>\n",
       "  </tbody>\n",
       "</table>\n",
       "</div>"
      ],
      "text/plain": [
       "    Datetime  Power(MW)\n",
       "0 2022-07-15   3.710794"
      ]
     },
     "execution_count": 17,
     "metadata": {},
     "output_type": "execute_result"
    }
   ],
   "source": [
    "# As we can see, downsample to weekly could smooth the data and hgelp with analysis\n",
    "downsample = df[['Datetime',\n",
    "                 'Power(MW)', \n",
    "                ]].resample('7D', on='Datetime').mean().reset_index(drop=False)\n",
    "\n",
    "# df = downsample.copy()\n",
    "downsample\n"
   ]
  },
  {
   "cell_type": "code",
   "execution_count": 18,
   "metadata": {},
   "outputs": [],
   "source": [
    "from sklearn.model_selection import TimeSeriesSplit\n",
    "\n",
    "N_SPLITS = 3\n",
    "\n",
    "X = df['Datetime']\n",
    "y = df['Power(MW)']\n",
    "\n",
    "folds = TimeSeriesSplit(n_splits=N_SPLITS)\n"
   ]
  },
  {
   "cell_type": "code",
   "execution_count": 21,
   "metadata": {},
   "outputs": [
    {
     "data": {
      "image/png": "[encoded data removed]",
      "text/plain": [
       "<Figure size 1152x648 with 6 Axes>"
      ]
     },
     "metadata": {
      "needs_background": "light"
     },
     "output_type": "display_data"
    }
   ],
   "source": [
    "f, ax = plt.subplots(nrows=N_SPLITS, ncols=2, figsize=(16, 9))\n",
    "\n",
    "#for i, (train_index, valid_index) in enumerate(folds.split(X)):\n",
    "    \n",
    "for i in range(N_SPLITS):\n",
    "    ax[i, 0].set_xlim([date(2022, 7, 15), date(2022, 7, 21)])\n",
    "    ax[i, 1].set_xlim([date(2022, 7, 15), date(2022, 7, 21)])\n",
    "    \n",
    "plt.tight_layout()\n",
    "plt.show()\n"
   ]
  },
  {
   "cell_type": "code",
   "execution_count": 22,
   "metadata": {},
   "outputs": [
    {
     "name": "stdout",
     "output_type": "stream",
     "text": [
      "571 101\n"
     ]
    }
   ],
   "source": [
    "train_size = int(0.85 * len(df))\n",
    "test_size = len(df) - train_size\n",
    "df = df.fillna(0)\n",
    "univariate_df = df[['Datetime', 'Power(MW)']].copy()\n",
    "univariate_df.columns = ['ds', 'y']\n",
    "\n",
    "train = univariate_df.iloc[:train_size, :]\n",
    "\n",
    "x_train, y_train = pd.DataFrame(univariate_df.iloc[:train_size, 0]), pd.DataFrame(univariate_df.iloc[:train_size, 1])\n",
    "x_valid, y_valid = pd.DataFrame(univariate_df.iloc[train_size:, 0]), pd.DataFrame(univariate_df.iloc[train_size:, 1])\n",
    "\n",
    "print(len(train), len(x_valid))\n"
   ]
  },
  {
   "cell_type": "code",
   "execution_count": 24,
   "metadata": {},
   "outputs": [
    {
     "data": {
      "text/plain": [
       "Index(['Datetime', 'Power(MW)'], dtype='object')"
      ]
     },
     "execution_count": 24,
     "metadata": {},
     "output_type": "execute_result"
    }
   ],
   "source": [
    "df.columns"
   ]
  },
  {
   "cell_type": "code",
   "execution_count": 27,
   "metadata": {},
   "outputs": [
    {
     "data": {
      "text/html": [
       "<div>\n",
       "<style scoped>\n",
       "    .dataframe tbody tr th:only-of-type {\n",
       "        vertical-align: middle;\n",
       "    }\n",
       "\n",
       "    .dataframe tbody tr th {\n",
       "        vertical-align: top;\n",
       "    }\n",
       "\n",
       "    .dataframe thead th {\n",
       "        text-align: right;\n",
       "    }\n",
       "</style>\n",
       "<table border=\"1\" class=\"dataframe\">\n",
       "  <thead>\n",
       "    <tr style=\"text-align: right;\">\n",
       "      <th></th>\n",
       "      <th>ds</th>\n",
       "      <th>y</th>\n",
       "    </tr>\n",
       "  </thead>\n",
       "  <tbody>\n",
       "    <tr>\n",
       "      <th>0</th>\n",
       "      <td>2022-07-15 00:00:00</td>\n",
       "      <td>0.0216</td>\n",
       "    </tr>\n",
       "    <tr>\n",
       "      <th>1</th>\n",
       "      <td>2022-07-15 00:15:00</td>\n",
       "      <td>0.0218</td>\n",
       "    </tr>\n",
       "    <tr>\n",
       "      <th>2</th>\n",
       "      <td>2022-07-15 00:30:00</td>\n",
       "      <td>0.4021</td>\n",
       "    </tr>\n",
       "    <tr>\n",
       "      <th>3</th>\n",
       "      <td>2022-07-15 00:45:00</td>\n",
       "      <td>0.5867</td>\n",
       "    </tr>\n",
       "    <tr>\n",
       "      <th>4</th>\n",
       "      <td>2022-07-15 01:00:00</td>\n",
       "      <td>0.3889</td>\n",
       "    </tr>\n",
       "  </tbody>\n",
       "</table>\n",
       "</div>"
      ],
      "text/plain": [
       "                   ds       y\n",
       "0 2022-07-15 00:00:00  0.0216\n",
       "1 2022-07-15 00:15:00  0.0218\n",
       "2 2022-07-15 00:30:00  0.4021\n",
       "3 2022-07-15 00:45:00  0.5867\n",
       "4 2022-07-15 01:00:00  0.3889"
      ]
     },
     "execution_count": 27,
     "metadata": {},
     "output_type": "execute_result"
    }
   ],
   "source": [
    "# feature_columns = [\n",
    "#      '最高温度', '最低温度', '白天风力风向', '夜晚风力风向', '天气1', '天气2'\n",
    "# ]\n",
    "target_column = ['Power(MW)']\n",
    "\n",
    "train_size = int(0.85 * len(df))\n",
    "\n",
    "multivariate_df = df[['Datetime'] + target_column ].copy()\n",
    "multivariate_df.columns = ['ds', 'y'] \n",
    "\n",
    "train = multivariate_df.iloc[:train_size, :]\n",
    "x_train, y_train = pd.DataFrame(multivariate_df.iloc[:train_size, [0]]), pd.DataFrame(multivariate_df.iloc[:train_size, 1])\n",
    "x_valid, y_valid = pd.DataFrame(multivariate_df.iloc[train_size:, [0]]), pd.DataFrame(multivariate_df.iloc[train_size:, 1])\n",
    "\n",
    "train.head()\n"
   ]
  },
  {
   "cell_type": "code",
   "execution_count": 43,
   "metadata": {},
   "outputs": [
    {
     "data": {
      "text/html": [
       "<div>\n",
       "<style scoped>\n",
       "    .dataframe tbody tr th:only-of-type {\n",
       "        vertical-align: middle;\n",
       "    }\n",
       "\n",
       "    .dataframe tbody tr th {\n",
       "        vertical-align: top;\n",
       "    }\n",
       "\n",
       "    .dataframe thead th {\n",
       "        text-align: right;\n",
       "    }\n",
       "</style>\n",
       "<table border=\"1\" class=\"dataframe\">\n",
       "  <thead>\n",
       "    <tr style=\"text-align: right;\">\n",
       "      <th></th>\n",
       "      <th>ds</th>\n",
       "      <th>y</th>\n",
       "    </tr>\n",
       "  </thead>\n",
       "  <tbody>\n",
       "    <tr>\n",
       "      <th>0</th>\n",
       "      <td>2022-07-15 00:00:00</td>\n",
       "      <td>0.0216</td>\n",
       "    </tr>\n",
       "    <tr>\n",
       "      <th>1</th>\n",
       "      <td>2022-07-15 00:15:00</td>\n",
       "      <td>0.0218</td>\n",
       "    </tr>\n",
       "    <tr>\n",
       "      <th>2</th>\n",
       "      <td>2022-07-15 00:30:00</td>\n",
       "      <td>0.4021</td>\n",
       "    </tr>\n",
       "    <tr>\n",
       "      <th>3</th>\n",
       "      <td>2022-07-15 00:45:00</td>\n",
       "      <td>0.5867</td>\n",
       "    </tr>\n",
       "    <tr>\n",
       "      <th>4</th>\n",
       "      <td>2022-07-15 01:00:00</td>\n",
       "      <td>0.3889</td>\n",
       "    </tr>\n",
       "    <tr>\n",
       "      <th>...</th>\n",
       "      <td>...</td>\n",
       "      <td>...</td>\n",
       "    </tr>\n",
       "    <tr>\n",
       "      <th>566</th>\n",
       "      <td>2022-07-20 21:30:00</td>\n",
       "      <td>1.0410</td>\n",
       "    </tr>\n",
       "    <tr>\n",
       "      <th>567</th>\n",
       "      <td>2022-07-20 21:45:00</td>\n",
       "      <td>0.7024</td>\n",
       "    </tr>\n",
       "    <tr>\n",
       "      <th>568</th>\n",
       "      <td>2022-07-20 22:00:00</td>\n",
       "      <td>0.9116</td>\n",
       "    </tr>\n",
       "    <tr>\n",
       "      <th>569</th>\n",
       "      <td>2022-07-20 22:15:00</td>\n",
       "      <td>1.2818</td>\n",
       "    </tr>\n",
       "    <tr>\n",
       "      <th>570</th>\n",
       "      <td>2022-07-20 22:30:00</td>\n",
       "      <td>1.1304</td>\n",
       "    </tr>\n",
       "  </tbody>\n",
       "</table>\n",
       "<p>571 rows × 2 columns</p>\n",
       "</div>"
      ],
      "text/plain": [
       "                     ds       y\n",
       "0   2022-07-15 00:00:00  0.0216\n",
       "1   2022-07-15 00:15:00  0.0218\n",
       "2   2022-07-15 00:30:00  0.4021\n",
       "3   2022-07-15 00:45:00  0.5867\n",
       "4   2022-07-15 01:00:00  0.3889\n",
       "..                  ...     ...\n",
       "566 2022-07-20 21:30:00  1.0410\n",
       "567 2022-07-20 21:45:00  0.7024\n",
       "568 2022-07-20 22:00:00  0.9116\n",
       "569 2022-07-20 22:15:00  1.2818\n",
       "570 2022-07-20 22:30:00  1.1304\n",
       "\n",
       "[571 rows x 2 columns]"
      ]
     },
     "execution_count": 43,
     "metadata": {},
     "output_type": "execute_result"
    }
   ],
   "source": [
    "train  =multivariate_df.iloc[:train_size, :]\n",
    "train\n"
   ]
  },
  {
   "cell_type": "code",
   "execution_count": 44,
   "metadata": {},
   "outputs": [
    {
     "ename": "ModuleNotFoundError",
     "evalue": "No module named 'fbprophet'",
     "output_type": "error",
     "traceback": [
      "\u001b[1;31m---------------------------------------------------------------------------\u001b[0m",
      "\u001b[1;31mModuleNotFoundError\u001b[0m                       Traceback (most recent call last)",
      "\u001b[1;32md:\\python建模\\工程训练营\\aiSummerCamp2022\\大作业2\\Untitled-1.ipynb Cell 21\u001b[0m in \u001b[0;36m<cell line: 1>\u001b[1;34m()\u001b[0m\n\u001b[1;32m----> <a href='vscode-notebook-cell:/d%3A/python%E5%BB%BA%E6%A8%A1/%E5%B7%A5%E7%A8%8B%E8%AE%AD%E7%BB%83%E8%90%A5/aiSummerCamp2022/%E5%A4%A7%E4%BD%9C%E4%B8%9A2/Untitled-1.ipynb#X26sZmlsZQ%3D%3D?line=0'>1</a>\u001b[0m \u001b[39mfrom\u001b[39;00m \u001b[39mfbprophet\u001b[39;00m \u001b[39mimport\u001b[39;00m Prophet\n\u001b[0;32m      <a href='vscode-notebook-cell:/d%3A/python%E5%BB%BA%E6%A8%A1/%E5%B7%A5%E7%A8%8B%E8%AE%AD%E7%BB%83%E8%90%A5/aiSummerCamp2022/%E5%A4%A7%E4%BD%9C%E4%B8%9A2/Untitled-1.ipynb#X26sZmlsZQ%3D%3D?line=3'>4</a>\u001b[0m \u001b[39m# Train the model\u001b[39;00m\n\u001b[0;32m      <a href='vscode-notebook-cell:/d%3A/python%E5%BB%BA%E6%A8%A1/%E5%B7%A5%E7%A8%8B%E8%AE%AD%E7%BB%83%E8%90%A5/aiSummerCamp2022/%E5%A4%A7%E4%BD%9C%E4%B8%9A2/Untitled-1.ipynb#X26sZmlsZQ%3D%3D?line=4'>5</a>\u001b[0m model \u001b[39m=\u001b[39m Prophet()\n",
      "\u001b[1;31mModuleNotFoundError\u001b[0m: No module named 'fbprophet'"
     ]
    }
   ],
   "source": [
    "from fbprophet import Prophet\n",
    "\n",
    "\n",
    "# Train the model\n",
    "model = Prophet()\n",
    "# model.add_regressor('最高温度')\n",
    "# model.add_regressor('最低温度')\n",
    "# model.add_regressor('白天风力风向')\n",
    "# model.add_regressor('夜晚风力风向')\n",
    "# model.add_regressor('天气1')\n",
    "# model.add_regressor('天气2')\n",
    "# Fit the model with train set\n",
    "model.fit(train)\n",
    "\n",
    "# Predict on valid set\n",
    "y_pred = model.predict(x_valid)\n",
    "\n",
    "# Calcuate metrics\n",
    "score_mae = mean_absolute_error(y_valid, y_pred['yhat'])\n",
    "score_rmse = math.sqrt(mean_squared_error(y_valid, y_pred['yhat']))\n",
    "\n",
    "print(Fore.GREEN + 'RMSE: {}'.format(score_rmse))\n"
   ]
  },
  {
   "cell_type": "code",
   "execution_count": 39,
   "metadata": {},
   "outputs": [
    {
     "ename": "NameError",
     "evalue": "name 'y_pred' is not defined",
     "output_type": "error",
     "traceback": [
      "\u001b[1;31m---------------------------------------------------------------------------\u001b[0m",
      "\u001b[1;31mNameError\u001b[0m                                 Traceback (most recent call last)",
      "\u001b[1;32md:\\python建模\\工程训练营\\aiSummerCamp2022\\大作业2\\Untitled-1.ipynb Cell 22\u001b[0m in \u001b[0;36m<cell line: 2>\u001b[1;34m()\u001b[0m\n\u001b[0;32m      <a href='vscode-notebook-cell:/d%3A/python%E5%BB%BA%E6%A8%A1/%E5%B7%A5%E7%A8%8B%E8%AE%AD%E7%BB%83%E8%90%A5/aiSummerCamp2022/%E5%A4%A7%E4%BD%9C%E4%B8%9A2/Untitled-1.ipynb#X30sZmlsZQ%3D%3D?line=0'>1</a>\u001b[0m \u001b[39mfrom\u001b[39;00m \u001b[39msklearn\u001b[39;00m\u001b[39m.\u001b[39;00m\u001b[39mmetrics\u001b[39;00m \u001b[39mimport\u001b[39;00m r2_score\n\u001b[1;32m----> <a href='vscode-notebook-cell:/d%3A/python%E5%BB%BA%E6%A8%A1/%E5%B7%A5%E7%A8%8B%E8%AE%AD%E7%BB%83%E8%90%A5/aiSummerCamp2022/%E5%A4%A7%E4%BD%9C%E4%B8%9A2/Untitled-1.ipynb#X30sZmlsZQ%3D%3D?line=1'>2</a>\u001b[0m \u001b[39mprint\u001b[39m(\u001b[39m'\u001b[39m\u001b[39mR2-score:\u001b[39m\u001b[39m'\u001b[39m,r2_score(y_valid, y_pred[\u001b[39m'\u001b[39m\u001b[39myhat\u001b[39m\u001b[39m'\u001b[39m]))\n",
      "\u001b[1;31mNameError\u001b[0m: name 'y_pred' is not defined"
     ]
    }
   ],
   "source": [
    "from sklearn.metrics import r2_score\n",
    "print('R2-score:',r2_score(y_valid, y_pred['yhat']))\n"
   ]
  },
  {
   "cell_type": "code",
   "execution_count": 38,
   "metadata": {},
   "outputs": [
    {
     "ename": "NameError",
     "evalue": "name 'model' is not defined",
     "output_type": "error",
     "traceback": [
      "\u001b[1;31m---------------------------------------------------------------------------\u001b[0m",
      "\u001b[1;31mNameError\u001b[0m                                 Traceback (most recent call last)",
      "\u001b[1;32md:\\python建模\\工程训练营\\aiSummerCamp2022\\大作业2\\Untitled-1.ipynb Cell 23\u001b[0m in \u001b[0;36m<cell line: 6>\u001b[1;34m()\u001b[0m\n\u001b[0;32m      <a href='vscode-notebook-cell:/d%3A/python%E5%BB%BA%E6%A8%A1/%E5%B7%A5%E7%A8%8B%E8%AE%AD%E7%BB%83%E8%90%A5/aiSummerCamp2022/%E5%A4%A7%E4%BD%9C%E4%B8%9A2/Untitled-1.ipynb#X31sZmlsZQ%3D%3D?line=2'>3</a>\u001b[0m f\u001b[39m.\u001b[39mset_figheight(\u001b[39m6\u001b[39m)\n\u001b[0;32m      <a href='vscode-notebook-cell:/d%3A/python%E5%BB%BA%E6%A8%A1/%E5%B7%A5%E7%A8%8B%E8%AE%AD%E7%BB%83%E8%90%A5/aiSummerCamp2022/%E5%A4%A7%E4%BD%9C%E4%B8%9A2/Untitled-1.ipynb#X31sZmlsZQ%3D%3D?line=3'>4</a>\u001b[0m f\u001b[39m.\u001b[39mset_figwidth(\u001b[39m15\u001b[39m)\n\u001b[1;32m----> <a href='vscode-notebook-cell:/d%3A/python%E5%BB%BA%E6%A8%A1/%E5%B7%A5%E7%A8%8B%E8%AE%AD%E7%BB%83%E8%90%A5/aiSummerCamp2022/%E5%A4%A7%E4%BD%9C%E4%B8%9A2/Untitled-1.ipynb#X31sZmlsZQ%3D%3D?line=5'>6</a>\u001b[0m model\u001b[39m.\u001b[39mplot(y_pred, ax\u001b[39m=\u001b[39max)\n\u001b[0;32m      <a href='vscode-notebook-cell:/d%3A/python%E5%BB%BA%E6%A8%A1/%E5%B7%A5%E7%A8%8B%E8%AE%AD%E7%BB%83%E8%90%A5/aiSummerCamp2022/%E5%A4%A7%E4%BD%9C%E4%B8%9A2/Untitled-1.ipynb#X31sZmlsZQ%3D%3D?line=6'>7</a>\u001b[0m sns\u001b[39m.\u001b[39mlineplot(x\u001b[39m=\u001b[39mx_valid[\u001b[39m'\u001b[39m\u001b[39mds\u001b[39m\u001b[39m'\u001b[39m], y\u001b[39m=\u001b[39my_valid[\u001b[39m'\u001b[39m\u001b[39my\u001b[39m\u001b[39m'\u001b[39m], ax\u001b[39m=\u001b[39max, color\u001b[39m=\u001b[39m\u001b[39m'\u001b[39m\u001b[39morange\u001b[39m\u001b[39m'\u001b[39m, label\u001b[39m=\u001b[39m\u001b[39m'\u001b[39m\u001b[39mGround truth\u001b[39m\u001b[39m'\u001b[39m) \u001b[39m#navajowhite\u001b[39;00m\n\u001b[0;32m      <a href='vscode-notebook-cell:/d%3A/python%E5%BB%BA%E6%A8%A1/%E5%B7%A5%E7%A8%8B%E8%AE%AD%E7%BB%83%E8%90%A5/aiSummerCamp2022/%E5%A4%A7%E4%BD%9C%E4%B8%9A2/Untitled-1.ipynb#X31sZmlsZQ%3D%3D?line=8'>9</a>\u001b[0m ax\u001b[39m.\u001b[39mset_title(\u001b[39mf\u001b[39m\u001b[39m'\u001b[39m\u001b[39mPrediction \u001b[39m\u001b[39m\\n\u001b[39;00m\u001b[39m MAE: \u001b[39m\u001b[39m{\u001b[39;00mscore_mae\u001b[39m:\u001b[39;00m\u001b[39m.2f\u001b[39m\u001b[39m}\u001b[39;00m\u001b[39m, RMSE: \u001b[39m\u001b[39m{\u001b[39;00mscore_rmse\u001b[39m:\u001b[39;00m\u001b[39m.2f\u001b[39m\u001b[39m}\u001b[39;00m\u001b[39m'\u001b[39m, fontsize\u001b[39m=\u001b[39m\u001b[39m14\u001b[39m)\n",
      "\u001b[1;31mNameError\u001b[0m: name 'model' is not defined"
     ]
    },
    {
     "data": {
      "image/png": "[encoded data removed]",
      "text/plain": [
       "<Figure size 1080x432 with 1 Axes>"
      ]
     },
     "metadata": {
      "needs_background": "light"
     },
     "output_type": "display_data"
    }
   ],
   "source": [
    "# Plot the forecast\n",
    "f, ax = plt.subplots(1)\n",
    "f.set_figheight(6)\n",
    "f.set_figwidth(15)\n",
    "\n",
    "model.plot(y_pred, ax=ax)\n",
    "sns.lineplot(x=x_valid['ds'], y=y_valid['y'], ax=ax, color='orange', label='Ground truth') #navajowhite\n",
    "\n",
    "ax.set_title(f'Prediction \\n MAE: {score_mae:.2f}, RMSE: {score_rmse:.2f}', fontsize=14)\n",
    "ax.set_xlabel(xlabel='Datetime', fontsize=14)\n",
    "ax.set_ylabel(ylabel='Power(MW)', fontsize=14)\n",
    "\n",
    "plt.show()\n"
   ]
  }
 ],
 "metadata": {
  "kernelspec": {
   "display_name": "Python 3.9.5 64-bit (system)",
   "language": "python",
   "name": "python3"
  },
  "language_info": {
   "codemirror_mode": {
    "name": "ipython",
    "version": 3
   },
   "file_extension": ".py",
   "mimetype": "text/x-python",
   "name": "python",
   "nbconvert_exporter": "python",
   "pygments_lexer": "ipython3",
   "version": "3.9.5"
  },
  "orig_nbformat": 4,
  "vscode": {
   "interpreter": {
    "hash": "42ccb520918cc91ecfb9186bc172a97e4cfcbe6fafe22055c7050827be428aae"
   }
  }
 },
 "nbformat": 4,
 "nbformat_minor": 2
}
