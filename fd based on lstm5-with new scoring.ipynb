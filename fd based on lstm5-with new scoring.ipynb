{
 "cells": [
  {
   "cell_type": "code",
   "execution_count": 1,
   "id": "eb46cc2e",
   "metadata": {},
   "outputs": [],
   "source": [
    "import numpy as np\n",
    "import pandas as pd\n",
    "import sklearn\n",
    "from matplotlib import pyplot as plt\n",
    "from tensorflow.keras.models import Sequential\n",
    "from tensorflow.keras.layers import LSTM\n",
    "from tensorflow.keras.layers import Dense, Dropout\n",
    "from sklearn.preprocessing import MinMaxScaler\n",
    "from keras.wrappers.scikit_learn import KerasRegressor\n",
    "from sklearn.model_selection import GridSearchCV\n",
    "import tensorflow as tf\n"
   ]
  },
  {
   "cell_type": "code",
   "execution_count": 2,
   "id": "e6f23a1b",
   "metadata": {},
   "outputs": [],
   "source": [
    "# 预处理输入数据\n",
    "def preprocessing(nmp_df,power_df):\n",
    "    nmp_df.head(10)\n",
    "    power_df.head(10)\n",
    "    fix_df=pd.merge(nmp_df, power_df, on=['Datetime'], how='left')\n",
    "    fix_df.head(10)\n",
    "    fix_df.describe()\n",
    "\n",
    "    return fix_df"
   ]
  },
  {
   "cell_type": "code",
   "execution_count": 3,
   "id": "ffbac4aa",
   "metadata": {},
   "outputs": [],
   "source": [
    "# 读取数据\n",
    "his_nmp_fd_df = pd.read_csv('.\\\\data\\\\FD001\\\\03 His_NWP_FD.csv',parse_dates=[\"Datetime\"],index_col=[0])\n",
    "his_power_fd_df = pd.read_csv('.\\\\data\\\\FD001\\\\02_His_Power_FD.csv',parse_dates=[\"Datetime\"],index_col=[0])\n",
    "his_fd_df=preprocessing(his_nmp_fd_df,his_power_fd_df)\n",
    "his_fd_df.to_csv('his_df.csv',encoding = 'utf-8') #存储合并后数据"
   ]
  },
  {
   "cell_type": "code",
   "execution_count": 4,
   "id": "a0cd736a",
   "metadata": {},
   "outputs": [
    {
     "data": {
      "text/html": [
       "<div>\n",
       "<style scoped>\n",
       "    .dataframe tbody tr th:only-of-type {\n",
       "        vertical-align: middle;\n",
       "    }\n",
       "\n",
       "    .dataframe tbody tr th {\n",
       "        vertical-align: top;\n",
       "    }\n",
       "\n",
       "    .dataframe thead th {\n",
       "        text-align: right;\n",
       "    }\n",
       "</style>\n",
       "<table border=\"1\" class=\"dataframe\">\n",
       "  <thead>\n",
       "    <tr style=\"text-align: right;\">\n",
       "      <th></th>\n",
       "      <th>Speed10</th>\n",
       "      <th>Direction10</th>\n",
       "      <th>Speed30</th>\n",
       "      <th>Direction30</th>\n",
       "      <th>Speed50</th>\n",
       "      <th>Direction50</th>\n",
       "      <th>Speed70</th>\n",
       "      <th>Direction70</th>\n",
       "      <th>Speed90</th>\n",
       "      <th>Direction90</th>\n",
       "      <th>Speed100</th>\n",
       "      <th>Direction100</th>\n",
       "      <th>Temper</th>\n",
       "      <th>Pressure</th>\n",
       "      <th>Humidity</th>\n",
       "      <th>Power(MW)</th>\n",
       "    </tr>\n",
       "    <tr>\n",
       "      <th>Datetime</th>\n",
       "      <th></th>\n",
       "      <th></th>\n",
       "      <th></th>\n",
       "      <th></th>\n",
       "      <th></th>\n",
       "      <th></th>\n",
       "      <th></th>\n",
       "      <th></th>\n",
       "      <th></th>\n",
       "      <th></th>\n",
       "      <th></th>\n",
       "      <th></th>\n",
       "      <th></th>\n",
       "      <th></th>\n",
       "      <th></th>\n",
       "      <th></th>\n",
       "    </tr>\n",
       "  </thead>\n",
       "  <tbody>\n",
       "    <tr>\n",
       "      <th>2022-07-15 00:00:00</th>\n",
       "      <td>3.3696</td>\n",
       "      <td>290.3172</td>\n",
       "      <td>4.1829</td>\n",
       "      <td>295.0334</td>\n",
       "      <td>4.9253</td>\n",
       "      <td>297.9698</td>\n",
       "      <td>5.6139</td>\n",
       "      <td>300.0360</td>\n",
       "      <td>6.2446</td>\n",
       "      <td>301.5774</td>\n",
       "      <td>6.5423</td>\n",
       "      <td>302.1353</td>\n",
       "      <td>27.59</td>\n",
       "      <td>1003.96</td>\n",
       "      <td>93.20</td>\n",
       "      <td>0.0216</td>\n",
       "    </tr>\n",
       "    <tr>\n",
       "      <th>2022-07-15 00:15:00</th>\n",
       "      <td>3.3092</td>\n",
       "      <td>291.4477</td>\n",
       "      <td>4.1100</td>\n",
       "      <td>296.1286</td>\n",
       "      <td>4.8389</td>\n",
       "      <td>299.0546</td>\n",
       "      <td>5.5137</td>\n",
       "      <td>301.1241</td>\n",
       "      <td>6.1388</td>\n",
       "      <td>302.6287</td>\n",
       "      <td>6.4347</td>\n",
       "      <td>303.2702</td>\n",
       "      <td>27.61</td>\n",
       "      <td>1004.37</td>\n",
       "      <td>93.05</td>\n",
       "      <td>0.0218</td>\n",
       "    </tr>\n",
       "    <tr>\n",
       "      <th>2022-07-15 00:30:00</th>\n",
       "      <td>3.4671</td>\n",
       "      <td>295.0868</td>\n",
       "      <td>4.2669</td>\n",
       "      <td>299.3285</td>\n",
       "      <td>5.0000</td>\n",
       "      <td>302.0054</td>\n",
       "      <td>5.6718</td>\n",
       "      <td>303.8582</td>\n",
       "      <td>6.2926</td>\n",
       "      <td>305.2307</td>\n",
       "      <td>6.5832</td>\n",
       "      <td>305.7906</td>\n",
       "      <td>27.62</td>\n",
       "      <td>1004.25</td>\n",
       "      <td>92.96</td>\n",
       "      <td>0.4021</td>\n",
       "    </tr>\n",
       "    <tr>\n",
       "      <th>2022-07-15 00:45:00</th>\n",
       "      <td>3.6896</td>\n",
       "      <td>296.9123</td>\n",
       "      <td>4.4933</td>\n",
       "      <td>300.7888</td>\n",
       "      <td>5.2253</td>\n",
       "      <td>303.4468</td>\n",
       "      <td>5.9067</td>\n",
       "      <td>305.1430</td>\n",
       "      <td>6.5341</td>\n",
       "      <td>306.5367</td>\n",
       "      <td>6.8241</td>\n",
       "      <td>307.1386</td>\n",
       "      <td>27.62</td>\n",
       "      <td>1003.96</td>\n",
       "      <td>92.82</td>\n",
       "      <td>0.5867</td>\n",
       "    </tr>\n",
       "    <tr>\n",
       "      <th>2022-07-15 01:00:00</th>\n",
       "      <td>3.7095</td>\n",
       "      <td>298.4995</td>\n",
       "      <td>4.5220</td>\n",
       "      <td>302.3546</td>\n",
       "      <td>5.2791</td>\n",
       "      <td>304.8942</td>\n",
       "      <td>5.9740</td>\n",
       "      <td>306.6973</td>\n",
       "      <td>6.6113</td>\n",
       "      <td>307.9966</td>\n",
       "      <td>6.9170</td>\n",
       "      <td>308.5434</td>\n",
       "      <td>27.64</td>\n",
       "      <td>1003.68</td>\n",
       "      <td>92.59</td>\n",
       "      <td>0.3889</td>\n",
       "    </tr>\n",
       "  </tbody>\n",
       "</table>\n",
       "</div>"
      ],
      "text/plain": [
       "                     Speed10  Direction10  Speed30  Direction30  Speed50  \\\n",
       "Datetime                                                                   \n",
       "2022-07-15 00:00:00   3.3696     290.3172   4.1829     295.0334   4.9253   \n",
       "2022-07-15 00:15:00   3.3092     291.4477   4.1100     296.1286   4.8389   \n",
       "2022-07-15 00:30:00   3.4671     295.0868   4.2669     299.3285   5.0000   \n",
       "2022-07-15 00:45:00   3.6896     296.9123   4.4933     300.7888   5.2253   \n",
       "2022-07-15 01:00:00   3.7095     298.4995   4.5220     302.3546   5.2791   \n",
       "\n",
       "                     Direction50  Speed70  Direction70  Speed90  Direction90  \\\n",
       "Datetime                                                                       \n",
       "2022-07-15 00:00:00     297.9698   5.6139     300.0360   6.2446     301.5774   \n",
       "2022-07-15 00:15:00     299.0546   5.5137     301.1241   6.1388     302.6287   \n",
       "2022-07-15 00:30:00     302.0054   5.6718     303.8582   6.2926     305.2307   \n",
       "2022-07-15 00:45:00     303.4468   5.9067     305.1430   6.5341     306.5367   \n",
       "2022-07-15 01:00:00     304.8942   5.9740     306.6973   6.6113     307.9966   \n",
       "\n",
       "                     Speed100  Direction100  Temper  Pressure  Humidity  \\\n",
       "Datetime                                                                  \n",
       "2022-07-15 00:00:00    6.5423      302.1353   27.59   1003.96     93.20   \n",
       "2022-07-15 00:15:00    6.4347      303.2702   27.61   1004.37     93.05   \n",
       "2022-07-15 00:30:00    6.5832      305.7906   27.62   1004.25     92.96   \n",
       "2022-07-15 00:45:00    6.8241      307.1386   27.62   1003.96     92.82   \n",
       "2022-07-15 01:00:00    6.9170      308.5434   27.64   1003.68     92.59   \n",
       "\n",
       "                     Power(MW)  \n",
       "Datetime                        \n",
       "2022-07-15 00:00:00     0.0216  \n",
       "2022-07-15 00:15:00     0.0218  \n",
       "2022-07-15 00:30:00     0.4021  \n",
       "2022-07-15 00:45:00     0.5867  \n",
       "2022-07-15 01:00:00     0.3889  "
      ]
     },
     "execution_count": 4,
     "metadata": {},
     "output_type": "execute_result"
    }
   ],
   "source": [
    "df=pd.read_csv('his_df.csv',parse_dates=[\"Datetime\"],index_col=[0])\n",
    "df.head()"
   ]
  },
  {
   "cell_type": "code",
   "execution_count": 5,
   "id": "90a59350",
   "metadata": {},
   "outputs": [
    {
     "data": {
      "text/html": [
       "<div>\n",
       "<style scoped>\n",
       "    .dataframe tbody tr th:only-of-type {\n",
       "        vertical-align: middle;\n",
       "    }\n",
       "\n",
       "    .dataframe tbody tr th {\n",
       "        vertical-align: top;\n",
       "    }\n",
       "\n",
       "    .dataframe thead th {\n",
       "        text-align: right;\n",
       "    }\n",
       "</style>\n",
       "<table border=\"1\" class=\"dataframe\">\n",
       "  <thead>\n",
       "    <tr style=\"text-align: right;\">\n",
       "      <th></th>\n",
       "      <th>Speed10</th>\n",
       "      <th>Direction10</th>\n",
       "      <th>Speed30</th>\n",
       "      <th>Direction30</th>\n",
       "      <th>Speed50</th>\n",
       "      <th>Direction50</th>\n",
       "      <th>Speed70</th>\n",
       "      <th>Direction70</th>\n",
       "      <th>Speed90</th>\n",
       "      <th>Direction90</th>\n",
       "      <th>Speed100</th>\n",
       "      <th>Direction100</th>\n",
       "      <th>Temper</th>\n",
       "      <th>Pressure</th>\n",
       "      <th>Humidity</th>\n",
       "      <th>Power(MW)</th>\n",
       "    </tr>\n",
       "    <tr>\n",
       "      <th>Datetime</th>\n",
       "      <th></th>\n",
       "      <th></th>\n",
       "      <th></th>\n",
       "      <th></th>\n",
       "      <th></th>\n",
       "      <th></th>\n",
       "      <th></th>\n",
       "      <th></th>\n",
       "      <th></th>\n",
       "      <th></th>\n",
       "      <th></th>\n",
       "      <th></th>\n",
       "      <th></th>\n",
       "      <th></th>\n",
       "      <th></th>\n",
       "      <th></th>\n",
       "    </tr>\n",
       "  </thead>\n",
       "  <tbody>\n",
       "    <tr>\n",
       "      <th>2022-07-21 22:45:00</th>\n",
       "      <td>4.5521</td>\n",
       "      <td>307.3230</td>\n",
       "      <td>6.1812</td>\n",
       "      <td>312.0492</td>\n",
       "      <td>7.6793</td>\n",
       "      <td>314.6835</td>\n",
       "      <td>8.4867</td>\n",
       "      <td>316.0503</td>\n",
       "      <td>8.6879</td>\n",
       "      <td>316.8657</td>\n",
       "      <td>8.7815</td>\n",
       "      <td>317.1689</td>\n",
       "      <td>27.90</td>\n",
       "      <td>1009.53</td>\n",
       "      <td>87.03</td>\n",
       "      <td>2.3584</td>\n",
       "    </tr>\n",
       "    <tr>\n",
       "      <th>2022-07-21 23:00:00</th>\n",
       "      <td>4.5931</td>\n",
       "      <td>308.9910</td>\n",
       "      <td>5.4076</td>\n",
       "      <td>312.4519</td>\n",
       "      <td>6.1518</td>\n",
       "      <td>314.8683</td>\n",
       "      <td>6.7197</td>\n",
       "      <td>316.4472</td>\n",
       "      <td>6.8998</td>\n",
       "      <td>317.2906</td>\n",
       "      <td>6.9864</td>\n",
       "      <td>317.6105</td>\n",
       "      <td>27.92</td>\n",
       "      <td>1010.14</td>\n",
       "      <td>0.00</td>\n",
       "      <td>2.8011</td>\n",
       "    </tr>\n",
       "    <tr>\n",
       "      <th>2022-07-21 23:15:00</th>\n",
       "      <td>3.3338</td>\n",
       "      <td>303.4994</td>\n",
       "      <td>4.6673</td>\n",
       "      <td>310.4815</td>\n",
       "      <td>5.9120</td>\n",
       "      <td>314.1776</td>\n",
       "      <td>6.7329</td>\n",
       "      <td>316.0832</td>\n",
       "      <td>6.9197</td>\n",
       "      <td>316.9911</td>\n",
       "      <td>7.0061</td>\n",
       "      <td>317.3137</td>\n",
       "      <td>27.44</td>\n",
       "      <td>1009.89</td>\n",
       "      <td>0.00</td>\n",
       "      <td>3.6597</td>\n",
       "    </tr>\n",
       "    <tr>\n",
       "      <th>2022-07-21 23:30:00</th>\n",
       "      <td>3.2299</td>\n",
       "      <td>299.8989</td>\n",
       "      <td>4.5556</td>\n",
       "      <td>308.4045</td>\n",
       "      <td>5.8027</td>\n",
       "      <td>312.7652</td>\n",
       "      <td>6.6115</td>\n",
       "      <td>314.9387</td>\n",
       "      <td>6.7961</td>\n",
       "      <td>315.8942</td>\n",
       "      <td>6.8890</td>\n",
       "      <td>316.2939</td>\n",
       "      <td>27.46</td>\n",
       "      <td>1009.84</td>\n",
       "      <td>0.00</td>\n",
       "      <td>3.4466</td>\n",
       "    </tr>\n",
       "    <tr>\n",
       "      <th>2022-07-21 23:45:00</th>\n",
       "      <td>3.4215</td>\n",
       "      <td>297.3140</td>\n",
       "      <td>4.7503</td>\n",
       "      <td>306.2668</td>\n",
       "      <td>6.0103</td>\n",
       "      <td>311.0873</td>\n",
       "      <td>6.7556</td>\n",
       "      <td>313.3806</td>\n",
       "      <td>6.9372</td>\n",
       "      <td>314.3576</td>\n",
       "      <td>7.0216</td>\n",
       "      <td>314.8269</td>\n",
       "      <td>27.46</td>\n",
       "      <td>1009.69</td>\n",
       "      <td>0.00</td>\n",
       "      <td>3.0725</td>\n",
       "    </tr>\n",
       "  </tbody>\n",
       "</table>\n",
       "</div>"
      ],
      "text/plain": [
       "                     Speed10  Direction10  Speed30  Direction30  Speed50  \\\n",
       "Datetime                                                                   \n",
       "2022-07-21 22:45:00   4.5521     307.3230   6.1812     312.0492   7.6793   \n",
       "2022-07-21 23:00:00   4.5931     308.9910   5.4076     312.4519   6.1518   \n",
       "2022-07-21 23:15:00   3.3338     303.4994   4.6673     310.4815   5.9120   \n",
       "2022-07-21 23:30:00   3.2299     299.8989   4.5556     308.4045   5.8027   \n",
       "2022-07-21 23:45:00   3.4215     297.3140   4.7503     306.2668   6.0103   \n",
       "\n",
       "                     Direction50  Speed70  Direction70  Speed90  Direction90  \\\n",
       "Datetime                                                                       \n",
       "2022-07-21 22:45:00     314.6835   8.4867     316.0503   8.6879     316.8657   \n",
       "2022-07-21 23:00:00     314.8683   6.7197     316.4472   6.8998     317.2906   \n",
       "2022-07-21 23:15:00     314.1776   6.7329     316.0832   6.9197     316.9911   \n",
       "2022-07-21 23:30:00     312.7652   6.6115     314.9387   6.7961     315.8942   \n",
       "2022-07-21 23:45:00     311.0873   6.7556     313.3806   6.9372     314.3576   \n",
       "\n",
       "                     Speed100  Direction100  Temper  Pressure  Humidity  \\\n",
       "Datetime                                                                  \n",
       "2022-07-21 22:45:00    8.7815      317.1689   27.90   1009.53     87.03   \n",
       "2022-07-21 23:00:00    6.9864      317.6105   27.92   1010.14      0.00   \n",
       "2022-07-21 23:15:00    7.0061      317.3137   27.44   1009.89      0.00   \n",
       "2022-07-21 23:30:00    6.8890      316.2939   27.46   1009.84      0.00   \n",
       "2022-07-21 23:45:00    7.0216      314.8269   27.46   1009.69      0.00   \n",
       "\n",
       "                     Power(MW)  \n",
       "Datetime                        \n",
       "2022-07-21 22:45:00     2.3584  \n",
       "2022-07-21 23:00:00     2.8011  \n",
       "2022-07-21 23:15:00     3.6597  \n",
       "2022-07-21 23:30:00     3.4466  \n",
       "2022-07-21 23:45:00     3.0725  "
      ]
     },
     "execution_count": 5,
     "metadata": {},
     "output_type": "execute_result"
    }
   ],
   "source": [
    "df.tail()"
   ]
  },
  {
   "cell_type": "code",
   "execution_count": 6,
   "id": "4fc1d284",
   "metadata": {},
   "outputs": [
    {
     "data": {
      "text/plain": [
       "(672, 16)"
      ]
     },
     "execution_count": 6,
     "metadata": {},
     "output_type": "execute_result"
    }
   ],
   "source": [
    "df.shape"
   ]
  },
  {
   "cell_type": "code",
   "execution_count": 7,
   "id": "0804a838",
   "metadata": {},
   "outputs": [],
   "source": [
    "# # 划分train valid test集\n",
    "# fd_df_train = df[:int(0.6*len(df))]\n",
    "# fd_df_valid = df[int(0.6*len(df)):int(0.8*len(df))]\n",
    "# fd_df_test =df[int(0.8*len(df)):]"
   ]
  },
  {
   "cell_type": "code",
   "execution_count": 8,
   "id": "ee3e985b",
   "metadata": {},
   "outputs": [],
   "source": [
    "# 划分train valid test集\n",
    "fd_df_train = df[:int(0.6*len(df))]\n",
    "fd_df_valid = df[int(0.8*len(df)):]\n",
    "fd_df_test =df[int(0.8*len(df)):]"
   ]
  },
  {
   "cell_type": "code",
   "execution_count": 9,
   "id": "60fc179f",
   "metadata": {},
   "outputs": [],
   "source": [
    "# 对数据进行归一化处理\n",
    "scaler = MinMaxScaler(feature_range=(0,1))\n",
    "scaler = scaler.fit(df)\n",
    "df_for_training_scaled = scaler.transform(fd_df_train)\n",
    "df_for_validing_scaled=scaler.transform(fd_df_valid)\n",
    "df_for_testing_scaled=scaler.transform(fd_df_test)"
   ]
  },
  {
   "cell_type": "code",
   "execution_count": 10,
   "id": "5e3af1bb",
   "metadata": {},
   "outputs": [],
   "source": [
    "# 分离x与y\n",
    "def createXY(array, days_used_to_train=7):\n",
    "    features = list()\n",
    "    labels = list()\n",
    "\n",
    "    for i in range(days_used_to_train, len(array)):\n",
    "        features.append(array[i-days_used_to_train:i, :])\n",
    "        labels.append(array[i, -1])\n",
    "    return np.array(features), np.array(labels)\n",
    "\n",
    "train_X,train_y=createXY(df_for_training_scaled)\n",
    "valid_X,valid_y=createXY(df_for_validing_scaled)\n",
    "test_X,test_y=createXY(df_for_testing_scaled)"
   ]
  },
  {
   "cell_type": "code",
   "execution_count": 11,
   "id": "809570c8",
   "metadata": {},
   "outputs": [],
   "source": [
    "df_X,df_y=createXY(np.array(df))"
   ]
  },
  {
   "cell_type": "code",
   "execution_count": 12,
   "id": "10d79b7a",
   "metadata": {},
   "outputs": [
    {
     "data": {
      "text/plain": [
       "(396, 7, 16)"
      ]
     },
     "execution_count": 12,
     "metadata": {},
     "output_type": "execute_result"
    }
   ],
   "source": [
    "train_X.shape"
   ]
  },
  {
   "cell_type": "code",
   "execution_count": 13,
   "id": "dc87c3bf",
   "metadata": {},
   "outputs": [
    {
     "data": {
      "text/plain": [
       "(396,)"
      ]
     },
     "execution_count": 13,
     "metadata": {},
     "output_type": "execute_result"
    }
   ],
   "source": [
    "train_y.shape"
   ]
  },
  {
   "cell_type": "code",
   "execution_count": 14,
   "id": "1154c314",
   "metadata": {
    "scrolled": true
   },
   "outputs": [
    {
     "data": {
      "text/plain": [
       "[<matplotlib.lines.Line2D at 0x1a76f09f8b0>]"
      ]
     },
     "execution_count": 14,
     "metadata": {},
     "output_type": "execute_result"
    },
    {
     "data": {
      "image/png": "[encoded data removed]",
      "text/plain": [
       "<Figure size 432x288 with 1 Axes>"
      ]
     },
     "metadata": {
      "needs_background": "light"
     },
     "output_type": "display_data"
    }
   ],
   "source": [
    "plt.plot(range(len(df_y)), df_y, label='history')"
   ]
  },
  {
   "cell_type": "code",
   "execution_count": 15,
   "id": "57cac175",
   "metadata": {},
   "outputs": [],
   "source": [
    "# from sklearn.metrics import make_scorer\n",
    "# AR_score = make_scorer(AR, greater_is_better=True, needs_proba = True) #同roc_auc_score方法相同，输出结果为类别的概率值\n",
    "# KS_score = make_scorer(KS, greater_is_better=True, needs_proba = True)\n",
    "# scoring = {'AR': AR_score, 'KS': KS_score}\n",
    "# gsearch = GridSearchCV(estimator = bestclf, param_grid = param_test,scoring=scoring, n_jobs=1,cv=ps, refit ='AR')\n"
   ]
  },
  {
   "cell_type": "code",
   "execution_count": 16,
   "id": "46e24daf",
   "metadata": {},
   "outputs": [],
   "source": [
    "# 定义一个新的评价函数\n",
    "def ev(y_true, y_predict):\n",
    "    difference=((np.array(y_true) - np.array(y_predict.flatten()))**2).sum()\n",
    "    return float(difference) "
   ]
  },
  {
   "cell_type": "code",
   "execution_count": 17,
   "id": "403a61ca",
   "metadata": {},
   "outputs": [],
   "source": [
    "from sklearn.metrics import make_scorer\n",
    "my_scorer = make_scorer(ev, greater_is_better=True) \n",
    "scoring = {\n",
    "    'ev': my_scorer\n",
    "}"
   ]
  },
  {
   "cell_type": "code",
   "execution_count": 18,
   "id": "92f6af87",
   "metadata": {},
   "outputs": [],
   "source": [
    "# y_true=np.array([1,2])\n",
    "# y_true\n",
    "# y_predict=np.array([[2],[9]])\n",
    "# y_predict\n",
    "# errror_valueing(y_true, y_predict)"
   ]
  },
  {
   "cell_type": "code",
   "execution_count": 19,
   "id": "eb8407e6",
   "metadata": {},
   "outputs": [],
   "source": [
    "def build_model(optimizer,size):\n",
    "    tf.random.set_seed(1) #设置随机数种子\n",
    "    # Create grid_model\n",
    "    grid_model = tf.keras.Sequential()\n",
    "    grid_model.add(tf.keras.layers.LSTM(units=64))\n",
    "    grid_model.add(tf.keras.layers.Dense(64))\n",
    "    grid_model.add(tf.keras.layers.Dense(size))\n",
    "    grid_model.add(tf.keras.layers.Dense(1))\n",
    "\n",
    "    # Compile the grid_model\n",
    "    grid_model.compile(\n",
    "    optimizer='adam',\n",
    "    loss='mse')\n",
    "\n",
    "    return grid_model"
   ]
  },
  {
   "cell_type": "code",
   "execution_count": 20,
   "id": "0cc2c4e7",
   "metadata": {},
   "outputs": [
    {
     "name": "stderr",
     "output_type": "stream",
     "text": [
      "C:\\Users\\23966\\AppData\\Local\\Temp\\ipykernel_28036\\560159353.py:2: DeprecationWarning: KerasRegressor is deprecated, use Sci-Keras (https://github.com/adriangb/scikeras) instead. See https://www.adriangb.com/scikeras/stable/migration.html for help migrating.\n",
      "  grid_model = KerasRegressor(build_fn=build_model)\n"
     ]
    }
   ],
   "source": [
    "from keras.wrappers.scikit_learn import KerasClassifier\n",
    "grid_model = KerasRegressor(build_fn=build_model)"
   ]
  },
  {
   "cell_type": "code",
   "execution_count": 21,
   "id": "10b962de",
   "metadata": {},
   "outputs": [],
   "source": [
    "def easy_doing(begin,end,step):\n",
    "    value=[]\n",
    "    i=begin\n",
    "    for i in np.arange(begin, end, step):\n",
    "        value.append(i)\n",
    "    return value"
   ]
  },
  {
   "cell_type": "code",
   "execution_count": 22,
   "id": "bc8634cd",
   "metadata": {},
   "outputs": [],
   "source": [
    "# parameters = {'batch_size' : [32],'epochs' : [40,41],'optimizer' : ['adam'],'size' : [32]}"
   ]
  },
  {
   "cell_type": "code",
   "execution_count": 23,
   "id": "c7c5c5b2",
   "metadata": {},
   "outputs": [],
   "source": [
    "# parameters = {'batch_size' : easy_doing(12,40,4),'epochs' : easy_doing(30,60,4),'optimizer' : ['adam'],'size' : easy_doing(16,64,4)}"
   ]
  },
  {
   "cell_type": "code",
   "execution_count": 24,
   "id": "de1dc5a3",
   "metadata": {},
   "outputs": [],
   "source": [
    "parameters = {'batch_size' : [32],'epochs' : [40],'optimizer' : ['adam'],'size' : [32]}"
   ]
  },
  {
   "cell_type": "code",
   "execution_count": 25,
   "id": "57ddaff3",
   "metadata": {},
   "outputs": [],
   "source": [
    "grid_search = GridSearchCV(estimator = grid_model,\n",
    "                          param_grid = parameters,\n",
    "                          scoring=scoring, \n",
    "\n",
    "                           refit ='ev', \n",
    "                           n_jobs=1,\n",
    "                           cv = 2)"
   ]
  },
  {
   "cell_type": "code",
   "execution_count": 26,
   "id": "f536de80",
   "metadata": {},
   "outputs": [
    {
     "name": "stdout",
     "output_type": "stream",
     "text": [
      "Epoch 1/40\n",
      "7/7 [==============================] - 2s 69ms/step - loss: 0.1602 - val_loss: 0.6037\n",
      "Epoch 2/40\n",
      "7/7 [==============================] - 0s 8ms/step - loss: 0.0335 - val_loss: 0.0158\n",
      "Epoch 3/40\n",
      "7/7 [==============================] - 0s 7ms/step - loss: 0.0355 - val_loss: 0.0571\n",
      "Epoch 4/40\n",
      "7/7 [==============================] - 0s 7ms/step - loss: 0.0178 - val_loss: 0.1066\n",
      "Epoch 5/40\n",
      "7/7 [==============================] - 0s 7ms/step - loss: 0.0167 - val_loss: 0.0430\n",
      "Epoch 6/40\n",
      "7/7 [==============================] - 0s 7ms/step - loss: 0.0137 - val_loss: 0.0401\n",
      "Epoch 7/40\n",
      "7/7 [==============================] - 0s 7ms/step - loss: 0.0117 - val_loss: 0.0173\n",
      "Epoch 8/40\n",
      "7/7 [==============================] - 0s 7ms/step - loss: 0.0101 - val_loss: 0.0125\n",
      "Epoch 9/40\n",
      "7/7 [==============================] - 0s 7ms/step - loss: 0.0090 - val_loss: 0.0079\n",
      "Epoch 10/40\n",
      "7/7 [==============================] - 0s 7ms/step - loss: 0.0081 - val_loss: 0.0054\n",
      "Epoch 11/40\n",
      "7/7 [==============================] - 0s 8ms/step - loss: 0.0082 - val_loss: 0.0021\n",
      "Epoch 12/40\n",
      "7/7 [==============================] - 0s 7ms/step - loss: 0.0086 - val_loss: 0.0025\n",
      "Epoch 13/40\n",
      "7/7 [==============================] - 0s 7ms/step - loss: 0.0077 - val_loss: 0.0021\n",
      "Epoch 14/40\n",
      "7/7 [==============================] - 0s 8ms/step - loss: 0.0087 - val_loss: 0.0097\n",
      "Epoch 15/40\n",
      "7/7 [==============================] - 0s 7ms/step - loss: 0.0076 - val_loss: 0.0016\n",
      "Epoch 16/40\n",
      "7/7 [==============================] - 0s 7ms/step - loss: 0.0077 - val_loss: 0.0073\n",
      "Epoch 17/40\n",
      "7/7 [==============================] - 0s 8ms/step - loss: 0.0081 - val_loss: 0.0047\n",
      "Epoch 18/40\n",
      "7/7 [==============================] - 0s 8ms/step - loss: 0.0074 - val_loss: 0.0014\n",
      "Epoch 19/40\n",
      "7/7 [==============================] - 0s 8ms/step - loss: 0.0091 - val_loss: 0.0125\n",
      "Epoch 20/40\n",
      "7/7 [==============================] - 0s 7ms/step - loss: 0.0080 - val_loss: 0.0036\n",
      "Epoch 21/40\n",
      "7/7 [==============================] - 0s 7ms/step - loss: 0.0071 - val_loss: 0.0125\n",
      "Epoch 22/40\n",
      "7/7 [==============================] - 0s 7ms/step - loss: 0.0069 - val_loss: 0.0046\n",
      "Epoch 23/40\n",
      "7/7 [==============================] - 0s 8ms/step - loss: 0.0070 - val_loss: 0.0066\n",
      "Epoch 24/40\n",
      "7/7 [==============================] - 0s 8ms/step - loss: 0.0069 - val_loss: 0.0120\n",
      "Epoch 25/40\n",
      "7/7 [==============================] - 0s 8ms/step - loss: 0.0075 - val_loss: 0.0023\n",
      "Epoch 26/40\n",
      "7/7 [==============================] - 0s 7ms/step - loss: 0.0066 - val_loss: 0.0115\n",
      "Epoch 27/40\n",
      "7/7 [==============================] - 0s 8ms/step - loss: 0.0067 - val_loss: 0.0043\n",
      "Epoch 28/40\n",
      "7/7 [==============================] - 0s 8ms/step - loss: 0.0067 - val_loss: 0.0050\n",
      "Epoch 29/40\n",
      "7/7 [==============================] - 0s 8ms/step - loss: 0.0064 - val_loss: 0.0118\n",
      "Epoch 30/40\n",
      "7/7 [==============================] - 0s 8ms/step - loss: 0.0066 - val_loss: 0.0021\n",
      "Epoch 31/40\n",
      "7/7 [==============================] - 0s 8ms/step - loss: 0.0067 - val_loss: 0.0109\n",
      "Epoch 32/40\n",
      "7/7 [==============================] - 0s 8ms/step - loss: 0.0066 - val_loss: 0.0064\n",
      "Epoch 33/40\n",
      "7/7 [==============================] - 0s 7ms/step - loss: 0.0066 - val_loss: 0.0018\n",
      "Epoch 34/40\n",
      "7/7 [==============================] - 0s 7ms/step - loss: 0.0068 - val_loss: 0.0240\n",
      "Epoch 35/40\n",
      "7/7 [==============================] - 0s 8ms/step - loss: 0.0068 - val_loss: 0.0018\n",
      "Epoch 36/40\n",
      "7/7 [==============================] - 0s 7ms/step - loss: 0.0077 - val_loss: 0.0209\n",
      "Epoch 37/40\n",
      "7/7 [==============================] - 0s 8ms/step - loss: 0.0071 - val_loss: 0.0123\n",
      "Epoch 38/40\n",
      "7/7 [==============================] - 0s 8ms/step - loss: 0.0069 - val_loss: 0.0060\n",
      "Epoch 39/40\n",
      "7/7 [==============================] - 0s 7ms/step - loss: 0.0070 - val_loss: 0.0219\n",
      "Epoch 40/40\n",
      "7/7 [==============================] - 0s 8ms/step - loss: 0.0074 - val_loss: 0.0033\n",
      "7/7 [==============================] - 0s 2ms/step\n",
      "Epoch 1/40\n",
      "7/7 [==============================] - 2s 67ms/step - loss: 0.1762 - val_loss: 0.3645\n",
      "Epoch 2/40\n",
      "7/7 [==============================] - 0s 8ms/step - loss: 0.0644 - val_loss: 0.0145\n",
      "Epoch 3/40\n",
      "7/7 [==============================] - 0s 8ms/step - loss: 0.0459 - val_loss: 0.1141\n",
      "Epoch 4/40\n",
      "7/7 [==============================] - 0s 7ms/step - loss: 0.0379 - val_loss: 0.0566\n",
      "Epoch 5/40\n",
      "7/7 [==============================] - 0s 7ms/step - loss: 0.0241 - val_loss: 0.0095\n",
      "Epoch 6/40\n",
      "7/7 [==============================] - 0s 7ms/step - loss: 0.0207 - val_loss: 0.0277\n",
      "Epoch 7/40\n",
      "7/7 [==============================] - 0s 7ms/step - loss: 0.0160 - val_loss: 0.0036\n",
      "Epoch 8/40\n",
      "7/7 [==============================] - 0s 7ms/step - loss: 0.0124 - val_loss: 0.0028\n",
      "Epoch 9/40\n",
      "7/7 [==============================] - 0s 7ms/step - loss: 0.0109 - val_loss: 0.0052\n",
      "Epoch 10/40\n",
      "7/7 [==============================] - 0s 7ms/step - loss: 0.0107 - val_loss: 0.0030\n",
      "Epoch 11/40\n",
      "7/7 [==============================] - 0s 7ms/step - loss: 0.0118 - val_loss: 0.0109\n",
      "Epoch 12/40\n",
      "7/7 [==============================] - 0s 8ms/step - loss: 0.0105 - val_loss: 0.0028\n",
      "Epoch 13/40\n",
      "7/7 [==============================] - 0s 7ms/step - loss: 0.0104 - val_loss: 0.0038\n",
      "Epoch 14/40\n",
      "7/7 [==============================] - 0s 7ms/step - loss: 0.0099 - val_loss: 0.0029\n",
      "Epoch 15/40\n",
      "7/7 [==============================] - 0s 8ms/step - loss: 0.0101 - val_loss: 0.0029\n",
      "Epoch 16/40\n",
      "7/7 [==============================] - 0s 7ms/step - loss: 0.0094 - val_loss: 0.0048\n",
      "Epoch 17/40\n",
      "7/7 [==============================] - 0s 7ms/step - loss: 0.0095 - val_loss: 0.0038\n",
      "Epoch 18/40\n",
      "7/7 [==============================] - 0s 7ms/step - loss: 0.0091 - val_loss: 0.0071\n",
      "Epoch 19/40\n",
      "7/7 [==============================] - 0s 8ms/step - loss: 0.0090 - val_loss: 0.0059\n",
      "Epoch 20/40\n",
      "7/7 [==============================] - 0s 7ms/step - loss: 0.0089 - val_loss: 0.0048\n",
      "Epoch 21/40\n",
      "7/7 [==============================] - 0s 7ms/step - loss: 0.0087 - val_loss: 0.0113\n",
      "Epoch 22/40\n",
      "7/7 [==============================] - 0s 8ms/step - loss: 0.0086 - val_loss: 0.0059\n",
      "Epoch 23/40\n",
      "7/7 [==============================] - 0s 8ms/step - loss: 0.0082 - val_loss: 0.0086\n",
      "Epoch 24/40\n",
      "7/7 [==============================] - 0s 7ms/step - loss: 0.0081 - val_loss: 0.0046\n",
      "Epoch 25/40\n",
      "7/7 [==============================] - 0s 8ms/step - loss: 0.0086 - val_loss: 0.0077\n",
      "Epoch 26/40\n",
      "7/7 [==============================] - 0s 7ms/step - loss: 0.0079 - val_loss: 0.0104\n",
      "Epoch 27/40\n",
      "7/7 [==============================] - 0s 7ms/step - loss: 0.0084 - val_loss: 0.0048\n",
      "Epoch 28/40\n",
      "7/7 [==============================] - 0s 8ms/step - loss: 0.0088 - val_loss: 0.0151\n",
      "Epoch 29/40\n",
      "7/7 [==============================] - 0s 7ms/step - loss: 0.0084 - val_loss: 0.0079\n",
      "Epoch 30/40\n",
      "7/7 [==============================] - 0s 7ms/step - loss: 0.0078 - val_loss: 0.0091\n",
      "Epoch 31/40\n",
      "7/7 [==============================] - 0s 8ms/step - loss: 0.0074 - val_loss: 0.0080\n",
      "Epoch 32/40\n",
      "7/7 [==============================] - 0s 7ms/step - loss: 0.0072 - val_loss: 0.0106\n",
      "Epoch 33/40\n",
      "7/7 [==============================] - 0s 8ms/step - loss: 0.0074 - val_loss: 0.0226\n",
      "Epoch 34/40\n",
      "7/7 [==============================] - 0s 8ms/step - loss: 0.0079 - val_loss: 0.0114\n",
      "Epoch 35/40\n",
      "7/7 [==============================] - 0s 7ms/step - loss: 0.0068 - val_loss: 0.0169\n",
      "Epoch 36/40\n",
      "7/7 [==============================] - 0s 7ms/step - loss: 0.0065 - val_loss: 0.0134\n",
      "Epoch 37/40\n",
      "7/7 [==============================] - 0s 8ms/step - loss: 0.0068 - val_loss: 0.0107\n",
      "Epoch 38/40\n",
      "7/7 [==============================] - 0s 7ms/step - loss: 0.0068 - val_loss: 0.0153\n",
      "Epoch 39/40\n",
      "7/7 [==============================] - 0s 7ms/step - loss: 0.0065 - val_loss: 0.0170\n",
      "Epoch 40/40\n",
      "7/7 [==============================] - 0s 8ms/step - loss: 0.0070 - val_loss: 0.0249\n",
      "7/7 [==============================] - 0s 2ms/step\n",
      "Epoch 1/40\n",
      "13/13 [==============================] - 2s 36ms/step - loss: 0.0999 - val_loss: 0.0408\n",
      "Epoch 2/40\n",
      "13/13 [==============================] - 0s 5ms/step - loss: 0.0293 - val_loss: 0.0879\n",
      "Epoch 3/40\n",
      "13/13 [==============================] - 0s 5ms/step - loss: 0.0186 - val_loss: 0.0296\n",
      "Epoch 4/40\n"
     ]
    },
    {
     "name": "stdout",
     "output_type": "stream",
     "text": [
      "13/13 [==============================] - 0s 5ms/step - loss: 0.0127 - val_loss: 0.0043\n",
      "Epoch 5/40\n",
      "13/13 [==============================] - 0s 5ms/step - loss: 0.0111 - val_loss: 0.0032\n",
      "Epoch 6/40\n",
      "13/13 [==============================] - 0s 5ms/step - loss: 0.0110 - val_loss: 0.0016\n",
      "Epoch 7/40\n",
      "13/13 [==============================] - 0s 5ms/step - loss: 0.0098 - val_loss: 0.0015\n",
      "Epoch 8/40\n",
      "13/13 [==============================] - 0s 5ms/step - loss: 0.0099 - val_loss: 0.0011\n",
      "Epoch 9/40\n",
      "13/13 [==============================] - 0s 5ms/step - loss: 0.0097 - val_loss: 0.0023\n",
      "Epoch 10/40\n",
      "13/13 [==============================] - 0s 5ms/step - loss: 0.0095 - val_loss: 0.0027\n",
      "Epoch 11/40\n",
      "13/13 [==============================] - 0s 6ms/step - loss: 0.0090 - val_loss: 0.0013\n",
      "Epoch 12/40\n",
      "13/13 [==============================] - 0s 5ms/step - loss: 0.0092 - val_loss: 0.0021\n",
      "Epoch 13/40\n",
      "13/13 [==============================] - 0s 5ms/step - loss: 0.0086 - val_loss: 0.0014\n",
      "Epoch 14/40\n",
      "13/13 [==============================] - 0s 5ms/step - loss: 0.0088 - val_loss: 0.0085\n",
      "Epoch 15/40\n",
      "13/13 [==============================] - 0s 5ms/step - loss: 0.0088 - val_loss: 0.0017\n",
      "Epoch 16/40\n",
      "13/13 [==============================] - 0s 5ms/step - loss: 0.0081 - val_loss: 0.0011\n",
      "Epoch 17/40\n",
      "13/13 [==============================] - 0s 5ms/step - loss: 0.0084 - val_loss: 9.9562e-04\n",
      "Epoch 18/40\n",
      "13/13 [==============================] - 0s 5ms/step - loss: 0.0081 - val_loss: 0.0081\n",
      "Epoch 19/40\n",
      "13/13 [==============================] - 0s 5ms/step - loss: 0.0081 - val_loss: 0.0012\n",
      "Epoch 20/40\n",
      "13/13 [==============================] - 0s 5ms/step - loss: 0.0086 - val_loss: 0.0022\n",
      "Epoch 21/40\n",
      "13/13 [==============================] - 0s 5ms/step - loss: 0.0076 - val_loss: 9.6728e-04\n",
      "Epoch 22/40\n",
      "13/13 [==============================] - 0s 5ms/step - loss: 0.0073 - val_loss: 0.0026\n",
      "Epoch 23/40\n",
      "13/13 [==============================] - 0s 5ms/step - loss: 0.0070 - val_loss: 0.0021\n",
      "Epoch 24/40\n",
      "13/13 [==============================] - 0s 5ms/step - loss: 0.0070 - val_loss: 0.0022\n",
      "Epoch 25/40\n",
      "13/13 [==============================] - 0s 5ms/step - loss: 0.0069 - val_loss: 0.0033\n",
      "Epoch 26/40\n",
      "13/13 [==============================] - 0s 5ms/step - loss: 0.0076 - val_loss: 0.0018\n",
      "Epoch 27/40\n",
      "13/13 [==============================] - 0s 5ms/step - loss: 0.0077 - val_loss: 0.0079\n",
      "Epoch 28/40\n",
      "13/13 [==============================] - 0s 5ms/step - loss: 0.0070 - val_loss: 8.1365e-04\n",
      "Epoch 29/40\n",
      "13/13 [==============================] - 0s 5ms/step - loss: 0.0068 - val_loss: 0.0022\n",
      "Epoch 30/40\n",
      "13/13 [==============================] - 0s 5ms/step - loss: 0.0069 - val_loss: 0.0045\n",
      "Epoch 31/40\n",
      "13/13 [==============================] - 0s 5ms/step - loss: 0.0066 - val_loss: 0.0019\n",
      "Epoch 32/40\n",
      "13/13 [==============================] - 0s 5ms/step - loss: 0.0069 - val_loss: 0.0012\n",
      "Epoch 33/40\n",
      "13/13 [==============================] - 0s 5ms/step - loss: 0.0069 - val_loss: 0.0039\n",
      "Epoch 34/40\n",
      "13/13 [==============================] - 0s 5ms/step - loss: 0.0063 - val_loss: 0.0019\n",
      "Epoch 35/40\n",
      "13/13 [==============================] - 0s 5ms/step - loss: 0.0061 - val_loss: 8.2989e-04\n",
      "Epoch 36/40\n",
      "13/13 [==============================] - 0s 6ms/step - loss: 0.0061 - val_loss: 8.1886e-04\n",
      "Epoch 37/40\n",
      "13/13 [==============================] - 0s 5ms/step - loss: 0.0066 - val_loss: 0.0035\n",
      "Epoch 38/40\n",
      "13/13 [==============================] - 0s 5ms/step - loss: 0.0061 - val_loss: 9.2010e-04\n",
      "Epoch 39/40\n",
      "13/13 [==============================] - 0s 5ms/step - loss: 0.0063 - val_loss: 0.0055\n",
      "Epoch 40/40\n",
      "13/13 [==============================] - 0s 5ms/step - loss: 0.0068 - val_loss: 8.1450e-04\n"
     ]
    }
   ],
   "source": [
    "grid_search = grid_search.fit(train_X, train_y,\n",
    "    validation_data=(valid_X, valid_y))"
   ]
  },
  {
   "cell_type": "code",
   "execution_count": 27,
   "id": "b28bdcad",
   "metadata": {},
   "outputs": [
    {
     "data": {
      "text/plain": [
       "{'batch_size': 32, 'epochs': 40, 'optimizer': 'adam', 'size': 32}"
      ]
     },
     "execution_count": 27,
     "metadata": {},
     "output_type": "execute_result"
    }
   ],
   "source": [
    "# 显示最佳模型参数\n",
    "grid_search.best_params_"
   ]
  },
  {
   "cell_type": "code",
   "execution_count": 28,
   "id": "dbd9ca7b",
   "metadata": {},
   "outputs": [
    {
     "data": {
      "text/plain": [
       "2.8683888238706134"
      ]
     },
     "execution_count": 28,
     "metadata": {},
     "output_type": "execute_result"
    }
   ],
   "source": [
    "grid_search.best_score_"
   ]
  },
  {
   "cell_type": "code",
   "execution_count": 29,
   "id": "de5045df",
   "metadata": {},
   "outputs": [
    {
     "data": {
      "text/plain": [
       "<keras.engine.sequential.Sequential at 0x1a777c58dc0>"
      ]
     },
     "execution_count": 29,
     "metadata": {},
     "output_type": "execute_result"
    }
   ],
   "source": [
    "# 输出最佳模型为my_model\n",
    "my_model=grid_search.best_estimator_.model\n",
    "my_model"
   ]
  },
  {
   "cell_type": "code",
   "execution_count": 30,
   "id": "0d416164",
   "metadata": {},
   "outputs": [],
   "source": [
    "# # %% \n",
    "# # Plotting loss curves\n",
    "# history=grid_search.best_estimator_.model\n",
    "# plt.plot(history.history[\"loss\"], label=\"Training Loss\")\n",
    "# plt.plot(history.history[\"val_loss\"], label=\"Validation Loss\")\n",
    "# plt.legend()\n"
   ]
  },
  {
   "cell_type": "code",
   "execution_count": 31,
   "id": "23dca673",
   "metadata": {},
   "outputs": [
    {
     "name": "stdout",
     "output_type": "stream",
     "text": [
      "4/4 [==============================] - 0s 5ms/step\n"
     ]
    },
    {
     "data": {
      "image/png": "[encoded data removed]",
      "text/plain": [
       "<Figure size 432x288 with 1 Axes>"
      ]
     },
     "metadata": {
      "needs_background": "light"
     },
     "output_type": "display_data"
    }
   ],
   "source": [
    "# 查看valid集预测结果\n",
    "pred_valid_y = my_model.predict(valid_X)\n",
    "plt.plot(range(len(pred_valid_y)), pred_valid_y, label='Prediction')\n",
    "plt.plot(range(len(pred_valid_y)), valid_y, label='Ground Truth')\n",
    "plt.fill_between(range(len(pred_valid_y)), pred_valid_y.flatten(), valid_y.flatten(), color='MistyRose',label='error')\n",
    "plt.xlabel('Amount of samples')\n",
    "plt.ylabel('Prediction')\n",
    "plt.legend()\n",
    "plt.show()"
   ]
  },
  {
   "cell_type": "code",
   "execution_count": 32,
   "id": "1425dbe8",
   "metadata": {},
   "outputs": [
    {
     "data": {
      "text/plain": [
       "0.10425582516643046"
      ]
     },
     "execution_count": 32,
     "metadata": {},
     "output_type": "execute_result"
    }
   ],
   "source": [
    "ev(valid_y,pred_valid_y)"
   ]
  },
  {
   "cell_type": "code",
   "execution_count": 33,
   "id": "32063279",
   "metadata": {},
   "outputs": [
    {
     "name": "stdout",
     "output_type": "stream",
     "text": [
      "4/4 [==============================] - 0s 2ms/step\n"
     ]
    }
   ],
   "source": [
    "# %%\n",
    "# Predicting\n",
    "pred_y = my_model.predict(test_X)\n"
   ]
  },
  {
   "cell_type": "code",
   "execution_count": 34,
   "id": "7c1905f8",
   "metadata": {},
   "outputs": [
    {
     "data": {
      "text/plain": [
       "array([-0.00093711, -0.0005779 ,  0.00110158,  0.00409755,  0.00493432,\n",
       "       -0.00039958, -0.00074694, -0.00365025,  0.00619396,  0.03847266,\n",
       "        0.02949501,  0.01780466,  0.01567898,  0.01788509,  0.01656445,\n",
       "        0.01561318,  0.0360915 ,  0.05984577,  0.05136594,  0.05709964,\n",
       "        0.04125432,  0.02704997,  0.03948111,  0.05424375,  0.04365073,\n",
       "        0.04589367,  0.0616793 ,  0.06159177,  0.07380262,  0.10222807,\n",
       "        0.0834016 ,  0.07130285,  0.04092952,  0.02948544,  0.04199499,\n",
       "        0.04362335,  0.02545075,  0.0135464 ,  0.00745928,  0.00727341,\n",
       "        0.00416997,  0.02124291,  0.01040354,  0.00677538,  0.00227755,\n",
       "       -0.0053964 , -0.00618944, -0.00442735, -0.00636609, -0.01001663,\n",
       "       -0.01295314, -0.01415478, -0.01317318,  0.01070907,  0.0106109 ,\n",
       "        0.01618243,  0.02005453,  0.00234413, -0.00135446, -0.0020375 ,\n",
       "        0.00574398,  0.00818791,  0.00549044,  0.00721006,  0.01544425,\n",
       "        0.03127439,  0.032156  ,  0.02583821,  0.02068185,  0.01834076,\n",
       "        0.01733124,  0.01628783,  0.01554735,  0.02011458,  0.02514396,\n",
       "        0.02532307,  0.02986829,  0.03685265,  0.04254008,  0.03136076,\n",
       "        0.03007149,  0.04486012,  0.04462941,  0.0497652 ,  0.06535058,\n",
       "        0.08780608,  0.11123509,  0.11663705,  0.11871103,  0.1254407 ,\n",
       "        0.13980563,  0.15644862,  0.15712516,  0.14352384,  0.13200466,\n",
       "        0.14805327,  0.14377908,  0.17444651,  0.15821256,  0.1370508 ,\n",
       "        0.1115163 ,  0.12277396,  0.14541647,  0.17442824,  0.20464018,\n",
       "        0.21302314,  0.19015394,  0.212401  ,  0.24735506,  0.23588058,\n",
       "        0.2611241 ,  0.28642112,  0.29801798,  0.29137996,  0.3563978 ,\n",
       "        0.35446262,  0.32273325,  0.27860135,  0.28610322,  0.23534514,\n",
       "        0.23153849,  0.22273768,  0.2255017 ,  0.20264965,  0.17917283,\n",
       "        0.19983834,  0.23895961,  0.24624135], dtype=float32)"
      ]
     },
     "execution_count": 34,
     "metadata": {},
     "output_type": "execute_result"
    }
   ],
   "source": [
    "pred_y.flatten()"
   ]
  },
  {
   "cell_type": "code",
   "execution_count": 35,
   "id": "ef50ee1d",
   "metadata": {},
   "outputs": [
    {
     "data": {
      "image/png": "[encoded data removed]",
      "text/plain": [
       "<Figure size 432x288 with 1 Axes>"
      ]
     },
     "metadata": {
      "needs_background": "light"
     },
     "output_type": "display_data"
    }
   ],
   "source": [
    "# %% Plotting\n",
    "plt.plot(range(len(pred_y)), pred_y, label='Prediction')\n",
    "plt.plot(range(len(pred_y)), test_y, label='Ground Truth')\n",
    "plt.fill_between(range(len(pred_y)), pred_y.flatten(), test_y.flatten(), color='MistyRose',label='error')\n",
    "plt.xlabel('Amount of samples')\n",
    "plt.ylabel('Prediction')\n",
    "plt.legend()\n",
    "plt.show()\n",
    "# %%"
   ]
  },
  {
   "cell_type": "code",
   "execution_count": 36,
   "id": "bcb942e6",
   "metadata": {},
   "outputs": [],
   "source": [
    "# # prediction of feature\n",
    "# df_30_days_past=df.iloc[-7:,:]\n",
    "# df_30_days_past.tail()\n",
    "# df_30_days_future=pd.read_csv('.\\\\data\\\\FD001\\\\04 Fore_NWP_FD.csv',parse_dates=[\"Datetime\"],index_col=[0])\n",
    "# df_30_days_future\n",
    "# df_30_days_future.shape\n",
    "# df_30_days_future[\"Power(MW)\"]=0\n",
    "# df_30_days_future=df_30_days_future[[\"Speed10\" , \"Direction10\" , \"Speed30\" , \"Direction30\" , \"Speed50\" , \"Direction50\" , \"Speed70\" , \"Direction70\" , \"Speed90\" , \"Direction90\" , \"Speed100\" , \"Direction100\" , \"Temper\" , \"Pressure\" , \"Humidity\" , \"Power(MW)\"]]\n",
    "# old_scaled_array=scaler.transform(df_30_days_past)\n",
    "# new_scaled_array=scaler.transform(df_30_days_future)\n",
    "# new_scaled_df=pd.DataFrame(new_scaled_array)\n",
    "# new_scaled_df.iloc[:,0]=np.nan\n",
    "# full_df=pd.concat([pd.DataFrame(old_scaled_array),new_scaled_df]).reset_index().drop([\"index\"],axis=1)\n",
    "# full_df_scaled_array=full_df.values\n",
    "# all_data=[]\n",
    "# time_step=7\n",
    "# for i in range(time_step,len(full_df_scaled_array)):\n",
    "#   data_x=[]\n",
    "#   data_x.append(\n",
    "#     full_df_scaled_array[i-time_step :i , 0:full_df_scaled_array.shape[1]])\n",
    "#   data_x=np.array(data_x)\n",
    "#   prediction=my_model.predict(data_x)\n",
    "#   all_data.append(prediction)\n",
    "#   full_df.iloc[i,0]=prediction\n",
    "# new_array=np.array(all_data)\n",
    "# new_array=new_array.reshape(-1,1)\n",
    "# prediction_copies_array = np.repeat(new_array,16, axis=-1)\n",
    "# y_pred_future_30_days = scaler.inverse_transform(np.reshape(prediction_copies_array,(len(new_array),16)))[:,0]\n",
    "# print(y_pred_future_30_days)\n",
    "# plt.plot(range(len(y_pred_future_30_days)), y_pred_future_30_days, label='Prediction')"
   ]
  },
  {
   "cell_type": "code",
   "execution_count": 37,
   "id": "000d958d",
   "metadata": {},
   "outputs": [],
   "source": [
    "# #绘制整体发电量图\n",
    "# total = np.hstack((df_y,y_pred_future_30_days))\n",
    "# plt.plot(range(len(total)), total, label='Prediction',color='coral')\n",
    "# plt.plot(range(len(df_y)), df_y, label='Prediction')"
   ]
  },
  {
   "cell_type": "code",
   "execution_count": 38,
   "id": "5403d70c",
   "metadata": {},
   "outputs": [],
   "source": [
    "# # prediction of feature\n",
    "# df_30_days_past=df.iloc[-7:,:]\n",
    "# df_30_days_past.tail()"
   ]
  },
  {
   "cell_type": "code",
   "execution_count": 39,
   "id": "cfbb64e6",
   "metadata": {},
   "outputs": [],
   "source": [
    "# df_30_days_future=pd.read_csv('.\\\\data\\\\FD001\\\\04 Fore_NWP_FD.csv',parse_dates=[\"Datetime\"],index_col=[0])\n",
    "# df_30_days_future\n",
    "# df_30_days_future.shape"
   ]
  },
  {
   "cell_type": "code",
   "execution_count": 40,
   "id": "1aff91a7",
   "metadata": {},
   "outputs": [],
   "source": [
    "# df_30_days_future[\"Power(MW)\"]=0"
   ]
  },
  {
   "cell_type": "code",
   "execution_count": 41,
   "id": "bd457af7",
   "metadata": {},
   "outputs": [],
   "source": [
    "# df_30_days_future"
   ]
  },
  {
   "cell_type": "code",
   "execution_count": 42,
   "id": "aa92f9c8",
   "metadata": {},
   "outputs": [],
   "source": [
    "# df_30_days_future=df_30_days_future[[\"Speed10\" , \"Direction10\" , \"Speed30\" , \"Direction30\" , \"Speed50\" , \"Direction50\" , \"Speed70\" , \"Direction70\" , \"Speed90\" , \"Direction90\" , \"Speed100\" , \"Direction100\" , \"Temper\" , \"Pressure\" , \"Humidity\" , \"Power(MW)\"]]"
   ]
  },
  {
   "cell_type": "code",
   "execution_count": 43,
   "id": "0076f3a9",
   "metadata": {},
   "outputs": [],
   "source": [
    "# old_scaled_array=scaler.transform(df_30_days_past)"
   ]
  },
  {
   "cell_type": "code",
   "execution_count": 44,
   "id": "9a9424f1",
   "metadata": {},
   "outputs": [],
   "source": [
    "# old_scaled_array.shape"
   ]
  },
  {
   "cell_type": "code",
   "execution_count": 45,
   "id": "8f4303e5",
   "metadata": {},
   "outputs": [],
   "source": [
    "# new_scaled_array=scaler.transform(df_30_days_future)"
   ]
  },
  {
   "cell_type": "code",
   "execution_count": 46,
   "id": "3edc64c3",
   "metadata": {},
   "outputs": [],
   "source": [
    "# new_scaled_array.shape"
   ]
  },
  {
   "cell_type": "code",
   "execution_count": 47,
   "id": "1f9d92df",
   "metadata": {},
   "outputs": [],
   "source": [
    "\n",
    "# new_scaled_df=pd.DataFrame(new_scaled_array)\n",
    "# new_scaled_df.iloc[:,0]=np.nan\n",
    "# full_df=pd.concat([pd.DataFrame(old_scaled_array),new_scaled_df]).reset_index().drop([\"index\"],axis=1)"
   ]
  },
  {
   "cell_type": "code",
   "execution_count": 48,
   "id": "3f4439a7",
   "metadata": {},
   "outputs": [],
   "source": [
    "# full_df.shape"
   ]
  },
  {
   "cell_type": "code",
   "execution_count": 49,
   "id": "0ecf1bd1",
   "metadata": {},
   "outputs": [],
   "source": [
    "# full_df_scaled_array=full_df.values\n",
    "# all_data=[]\n",
    "# time_step=7\n",
    "# for i in range(time_step,len(full_df_scaled_array)):\n",
    "#   data_x=[]\n",
    "#   data_x.append(\n",
    "#     full_df_scaled_array[i-time_step :i , 0:full_df_scaled_array.shape[1]])\n",
    "#   data_x=np.array(data_x)\n",
    "#   prediction=grid_model.predict(data_x)\n",
    "#   all_data.append(prediction)\n",
    "#   full_df.iloc[i,0]=prediction"
   ]
  },
  {
   "cell_type": "code",
   "execution_count": 50,
   "id": "4b4489a2",
   "metadata": {},
   "outputs": [],
   "source": [
    "# new_array=np.array(all_data)\n",
    "# new_array=new_array.reshape(-1,1)\n",
    "# prediction_copies_array = np.repeat(new_array,16, axis=-1)\n",
    "# y_pred_future_30_days = scaler.inverse_transform(np.reshape(prediction_copies_array,(len(new_array),16)))[:,0]\n",
    "# print(y_pred_future_30_days)"
   ]
  },
  {
   "cell_type": "code",
   "execution_count": 51,
   "id": "1f8a04ea",
   "metadata": {},
   "outputs": [],
   "source": [
    "# plt.plot(range(len(y_pred_future_30_days)), y_pred_future_30_days, label='Prediction')"
   ]
  },
  {
   "cell_type": "code",
   "execution_count": null,
   "id": "1a9914c2",
   "metadata": {},
   "outputs": [],
   "source": []
  },
  {
   "cell_type": "code",
   "execution_count": null,
   "id": "bfb8c37b",
   "metadata": {},
   "outputs": [],
   "source": []
  }
 ],
 "metadata": {
  "kernelspec": {
   "display_name": "Python 3 (ipykernel)",
   "language": "python",
   "name": "python3"
  },
  "language_info": {
   "codemirror_mode": {
    "name": "ipython",
    "version": 3
   },
   "file_extension": ".py",
   "mimetype": "text/x-python",
   "name": "python",
   "nbconvert_exporter": "python",
   "pygments_lexer": "ipython3",
   "version": "3.10.4"
  }
 },
 "nbformat": 4,
 "nbformat_minor": 5
}
