{
 "cells": [
  {
   "cell_type": "code",
   "execution_count": null,
   "metadata": {},
   "outputs": [],
   "source": [
    "import numpy as np\n",
    "import pandas as pd\n",
    "\n",
    "import seaborn as sns \n",
    "import matplotlib.pyplot as plt \n",
    "from colorama import Fore\n",
    "\n",
    "from sklearn.metrics import mean_absolute_error, mean_squared_error\n",
    "import math\n",
    "\n",
    "import warnings # Supress warnings \n",
    "warnings.filterwarnings('ignore')\n",
    "plt.rcParams['font.sans-serif'] = ['SimHei']  # 用来正常显示中文标签\n",
    "plt.rcParams['axes.unicode_minus'] = False  # 用来正常显示负号\n",
    "np.random.seed(7)\n",
    "\n",
    "df = pd.read_csv('feature_gf_power.csv')\n",
    "df.head()"
   ]
  },
  {
   "cell_type": "code",
   "execution_count": null,
   "metadata": {},
   "outputs": [],
   "source": [
    "# df  = df.rename(columns={'Datetime':'date'})\n",
    "# df\n",
    "df = df.rename(columns={'Datetime':'ds', 'Power(MW)':'y'})\n",
    "from prophet import Prophet\n",
    "m = Prophet()\n",
    "m.fit(df)\n",
    "future = m.make_future_dataframe(periods=100, freq='min')\n",
    "future.tail()\n",
    "forecast = m.predict(future)\n",
    "# 画出预测图：\n",
    "m.plot(forecast)\n",
    "# 画出时间序列的分量：\n",
    "# m.plot_components(forecast)"
   ]
  }
 ],
 "metadata": {
  "kernelspec": {
   "display_name": "Python 3.10.7 64-bit (microsoft store)",
   "language": "python",
   "name": "python3"
  },
  "language_info": {
   "name": "python",
   "version": "3.10.7"
  },
  "orig_nbformat": 4,
  "vscode": {
   "interpreter": {
    "hash": "c2432fe8e39bed4de6426bfa1f8116adeea7be39f73006ece12cdb89b4ddd8a2"
   }
  }
 },
 "nbformat": 4,
 "nbformat_minor": 2
}
