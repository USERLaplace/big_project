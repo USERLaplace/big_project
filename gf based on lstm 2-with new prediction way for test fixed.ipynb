{
 "cells": [
  {
   "cell_type": "code",
   "execution_count": 1,
   "id": "eb46cc2e",
   "metadata": {},
   "outputs": [],
   "source": [
    "import numpy as np\n",
    "import pandas as pd\n",
    "import sklearn\n",
    "from matplotlib import pyplot as plt\n",
    "from tensorflow.keras.models import Sequential\n",
    "from tensorflow.keras.layers import LSTM\n",
    "from tensorflow.keras.layers import Dense, Dropout\n",
    "from sklearn.preprocessing import MinMaxScaler\n",
    "from keras.wrappers.scikit_learn import KerasRegressor\n",
    "from sklearn.model_selection import GridSearchCV\n",
    "import tensorflow as tf\n"
   ]
  },
  {
   "cell_type": "code",
   "execution_count": 2,
   "id": "e6f23a1b",
   "metadata": {},
   "outputs": [],
   "source": [
    "# 预处理输入数据\n",
    "def preprocessing(nmp_df,power_df):\n",
    "    nmp_df.head(10)\n",
    "    power_df.head(10)\n",
    "    fix_df=pd.merge(nmp_df, power_df, on=['Datetime'], how='left')\n",
    "    fix_df.head(10)\n",
    "    fix_df.describe()\n",
    "\n",
    "    return fix_df"
   ]
  },
  {
   "cell_type": "code",
   "execution_count": 3,
   "id": "ffbac4aa",
   "metadata": {},
   "outputs": [],
   "source": [
    "# 读取数据\n",
    "his_nmp_gf_df = pd.read_csv('.\\\\data\\\\GF001\\\\03 His_NWP_GF.csv',parse_dates=[\"Datetime\"],index_col=[0])\n",
    "his_power_gf_df = pd.read_csv('.\\\\data\\\\GF001\\\\02 His_Power_GF.csv',parse_dates=[\"Datetime\"],index_col=[0])\n",
    "his_gf_df=preprocessing(his_nmp_gf_df,his_power_gf_df)\n",
    "his_gf_df.to_csv('his_gf.csv',encoding = 'utf-8') #存储合并后数据"
   ]
  },
  {
   "cell_type": "code",
   "execution_count": 4,
   "id": "a0cd736a",
   "metadata": {},
   "outputs": [
    {
     "data": {
      "text/html": [
       "<div>\n",
       "<style scoped>\n",
       "    .dataframe tbody tr th:only-of-type {\n",
       "        vertical-align: middle;\n",
       "    }\n",
       "\n",
       "    .dataframe tbody tr th {\n",
       "        vertical-align: top;\n",
       "    }\n",
       "\n",
       "    .dataframe thead th {\n",
       "        text-align: right;\n",
       "    }\n",
       "</style>\n",
       "<table border=\"1\" class=\"dataframe\">\n",
       "  <thead>\n",
       "    <tr style=\"text-align: right;\">\n",
       "      <th></th>\n",
       "      <th>Irradiance</th>\n",
       "      <th>Speed10</th>\n",
       "      <th>Direction10</th>\n",
       "      <th>Temper</th>\n",
       "      <th>Pressure</th>\n",
       "      <th>Humidity</th>\n",
       "      <th>Power(MW)</th>\n",
       "    </tr>\n",
       "    <tr>\n",
       "      <th>Datetime</th>\n",
       "      <th></th>\n",
       "      <th></th>\n",
       "      <th></th>\n",
       "      <th></th>\n",
       "      <th></th>\n",
       "      <th></th>\n",
       "      <th></th>\n",
       "    </tr>\n",
       "  </thead>\n",
       "  <tbody>\n",
       "    <tr>\n",
       "      <th>2022-06-13 00:00:00</th>\n",
       "      <td>0.0</td>\n",
       "      <td>6.9614</td>\n",
       "      <td>14.8148</td>\n",
       "      <td>27.32</td>\n",
       "      <td>998.67</td>\n",
       "      <td>92.59</td>\n",
       "      <td>0.0</td>\n",
       "    </tr>\n",
       "    <tr>\n",
       "      <th>2022-06-13 00:15:00</th>\n",
       "      <td>0.0</td>\n",
       "      <td>7.0349</td>\n",
       "      <td>15.1623</td>\n",
       "      <td>27.33</td>\n",
       "      <td>998.68</td>\n",
       "      <td>92.40</td>\n",
       "      <td>0.0</td>\n",
       "    </tr>\n",
       "    <tr>\n",
       "      <th>2022-06-13 00:30:00</th>\n",
       "      <td>0.0</td>\n",
       "      <td>7.1234</td>\n",
       "      <td>14.3874</td>\n",
       "      <td>27.31</td>\n",
       "      <td>998.54</td>\n",
       "      <td>92.42</td>\n",
       "      <td>0.0</td>\n",
       "    </tr>\n",
       "    <tr>\n",
       "      <th>2022-06-13 00:45:00</th>\n",
       "      <td>0.0</td>\n",
       "      <td>7.2816</td>\n",
       "      <td>15.6968</td>\n",
       "      <td>27.29</td>\n",
       "      <td>998.21</td>\n",
       "      <td>92.27</td>\n",
       "      <td>0.0</td>\n",
       "    </tr>\n",
       "    <tr>\n",
       "      <th>2022-06-13 01:00:00</th>\n",
       "      <td>0.0</td>\n",
       "      <td>7.2544</td>\n",
       "      <td>18.7347</td>\n",
       "      <td>27.34</td>\n",
       "      <td>997.92</td>\n",
       "      <td>91.92</td>\n",
       "      <td>0.0</td>\n",
       "    </tr>\n",
       "  </tbody>\n",
       "</table>\n",
       "</div>"
      ],
      "text/plain": [
       "                     Irradiance  Speed10  Direction10  Temper  Pressure  \\\n",
       "Datetime                                                                  \n",
       "2022-06-13 00:00:00         0.0   6.9614      14.8148   27.32    998.67   \n",
       "2022-06-13 00:15:00         0.0   7.0349      15.1623   27.33    998.68   \n",
       "2022-06-13 00:30:00         0.0   7.1234      14.3874   27.31    998.54   \n",
       "2022-06-13 00:45:00         0.0   7.2816      15.6968   27.29    998.21   \n",
       "2022-06-13 01:00:00         0.0   7.2544      18.7347   27.34    997.92   \n",
       "\n",
       "                     Humidity  Power(MW)  \n",
       "Datetime                                  \n",
       "2022-06-13 00:00:00     92.59        0.0  \n",
       "2022-06-13 00:15:00     92.40        0.0  \n",
       "2022-06-13 00:30:00     92.42        0.0  \n",
       "2022-06-13 00:45:00     92.27        0.0  \n",
       "2022-06-13 01:00:00     91.92        0.0  "
      ]
     },
     "execution_count": 4,
     "metadata": {},
     "output_type": "execute_result"
    }
   ],
   "source": [
    "df=pd.read_csv('his_gf.csv',parse_dates=[\"Datetime\"],index_col=[0])\n",
    "df.head()"
   ]
  },
  {
   "cell_type": "code",
   "execution_count": 5,
   "id": "90a59350",
   "metadata": {},
   "outputs": [
    {
     "data": {
      "text/html": [
       "<div>\n",
       "<style scoped>\n",
       "    .dataframe tbody tr th:only-of-type {\n",
       "        vertical-align: middle;\n",
       "    }\n",
       "\n",
       "    .dataframe tbody tr th {\n",
       "        vertical-align: top;\n",
       "    }\n",
       "\n",
       "    .dataframe thead th {\n",
       "        text-align: right;\n",
       "    }\n",
       "</style>\n",
       "<table border=\"1\" class=\"dataframe\">\n",
       "  <thead>\n",
       "    <tr style=\"text-align: right;\">\n",
       "      <th></th>\n",
       "      <th>Irradiance</th>\n",
       "      <th>Speed10</th>\n",
       "      <th>Direction10</th>\n",
       "      <th>Temper</th>\n",
       "      <th>Pressure</th>\n",
       "      <th>Humidity</th>\n",
       "      <th>Power(MW)</th>\n",
       "    </tr>\n",
       "    <tr>\n",
       "      <th>Datetime</th>\n",
       "      <th></th>\n",
       "      <th></th>\n",
       "      <th></th>\n",
       "      <th></th>\n",
       "      <th></th>\n",
       "      <th></th>\n",
       "      <th></th>\n",
       "    </tr>\n",
       "  </thead>\n",
       "  <tbody>\n",
       "    <tr>\n",
       "      <th>2022-06-19 22:45:00</th>\n",
       "      <td>0.0</td>\n",
       "      <td>8.8735</td>\n",
       "      <td>7.3813</td>\n",
       "      <td>27.97</td>\n",
       "      <td>997.04</td>\n",
       "      <td>91.88</td>\n",
       "      <td>0.0</td>\n",
       "    </tr>\n",
       "    <tr>\n",
       "      <th>2022-06-19 23:00:00</th>\n",
       "      <td>0.0</td>\n",
       "      <td>7.6355</td>\n",
       "      <td>357.8234</td>\n",
       "      <td>27.16</td>\n",
       "      <td>996.98</td>\n",
       "      <td>0.00</td>\n",
       "      <td>0.0</td>\n",
       "    </tr>\n",
       "    <tr>\n",
       "      <th>2022-06-19 23:15:00</th>\n",
       "      <td>0.0</td>\n",
       "      <td>7.0539</td>\n",
       "      <td>352.9153</td>\n",
       "      <td>27.19</td>\n",
       "      <td>997.26</td>\n",
       "      <td>0.00</td>\n",
       "      <td>0.0</td>\n",
       "    </tr>\n",
       "    <tr>\n",
       "      <th>2022-06-19 23:30:00</th>\n",
       "      <td>0.0</td>\n",
       "      <td>6.7206</td>\n",
       "      <td>350.5797</td>\n",
       "      <td>27.27</td>\n",
       "      <td>997.28</td>\n",
       "      <td>0.00</td>\n",
       "      <td>0.0</td>\n",
       "    </tr>\n",
       "    <tr>\n",
       "      <th>2022-06-19 23:45:00</th>\n",
       "      <td>0.0</td>\n",
       "      <td>7.0146</td>\n",
       "      <td>352.2164</td>\n",
       "      <td>27.27</td>\n",
       "      <td>996.74</td>\n",
       "      <td>0.00</td>\n",
       "      <td>0.0</td>\n",
       "    </tr>\n",
       "  </tbody>\n",
       "</table>\n",
       "</div>"
      ],
      "text/plain": [
       "                     Irradiance  Speed10  Direction10  Temper  Pressure  \\\n",
       "Datetime                                                                  \n",
       "2022-06-19 22:45:00         0.0   8.8735       7.3813   27.97    997.04   \n",
       "2022-06-19 23:00:00         0.0   7.6355     357.8234   27.16    996.98   \n",
       "2022-06-19 23:15:00         0.0   7.0539     352.9153   27.19    997.26   \n",
       "2022-06-19 23:30:00         0.0   6.7206     350.5797   27.27    997.28   \n",
       "2022-06-19 23:45:00         0.0   7.0146     352.2164   27.27    996.74   \n",
       "\n",
       "                     Humidity  Power(MW)  \n",
       "Datetime                                  \n",
       "2022-06-19 22:45:00     91.88        0.0  \n",
       "2022-06-19 23:00:00      0.00        0.0  \n",
       "2022-06-19 23:15:00      0.00        0.0  \n",
       "2022-06-19 23:30:00      0.00        0.0  \n",
       "2022-06-19 23:45:00      0.00        0.0  "
      ]
     },
     "execution_count": 5,
     "metadata": {},
     "output_type": "execute_result"
    }
   ],
   "source": [
    "df.tail()"
   ]
  },
  {
   "cell_type": "code",
   "execution_count": 6,
   "id": "4fc1d284",
   "metadata": {},
   "outputs": [
    {
     "data": {
      "text/plain": [
       "(672, 7)"
      ]
     },
     "execution_count": 6,
     "metadata": {},
     "output_type": "execute_result"
    }
   ],
   "source": [
    "df.shape"
   ]
  },
  {
   "cell_type": "code",
   "execution_count": 7,
   "id": "0804a838",
   "metadata": {},
   "outputs": [],
   "source": [
    "# 划分train valid test集\n",
    "gf_df_train = df[:int(0.6*len(df))]\n",
    "gf_df_valid = df[int(0.6*len(df)):int(0.8*len(df))]\n",
    "gf_df_test =df[int(0.8*len(df)):]"
   ]
  },
  {
   "cell_type": "code",
   "execution_count": 8,
   "id": "dc036db5",
   "metadata": {},
   "outputs": [
    {
     "data": {
      "text/html": [
       "<div>\n",
       "<style scoped>\n",
       "    .dataframe tbody tr th:only-of-type {\n",
       "        vertical-align: middle;\n",
       "    }\n",
       "\n",
       "    .dataframe tbody tr th {\n",
       "        vertical-align: top;\n",
       "    }\n",
       "\n",
       "    .dataframe thead th {\n",
       "        text-align: right;\n",
       "    }\n",
       "</style>\n",
       "<table border=\"1\" class=\"dataframe\">\n",
       "  <thead>\n",
       "    <tr style=\"text-align: right;\">\n",
       "      <th></th>\n",
       "      <th>Irradiance</th>\n",
       "      <th>Speed10</th>\n",
       "      <th>Direction10</th>\n",
       "      <th>Temper</th>\n",
       "      <th>Pressure</th>\n",
       "      <th>Humidity</th>\n",
       "      <th>Power(MW)</th>\n",
       "    </tr>\n",
       "    <tr>\n",
       "      <th>Datetime</th>\n",
       "      <th></th>\n",
       "      <th></th>\n",
       "      <th></th>\n",
       "      <th></th>\n",
       "      <th></th>\n",
       "      <th></th>\n",
       "      <th></th>\n",
       "    </tr>\n",
       "  </thead>\n",
       "  <tbody>\n",
       "    <tr>\n",
       "      <th>2022-06-13 00:00:00</th>\n",
       "      <td>0.0</td>\n",
       "      <td>6.9614</td>\n",
       "      <td>14.8148</td>\n",
       "      <td>27.32</td>\n",
       "      <td>998.67</td>\n",
       "      <td>92.59</td>\n",
       "      <td>0.0</td>\n",
       "    </tr>\n",
       "    <tr>\n",
       "      <th>2022-06-13 00:15:00</th>\n",
       "      <td>0.0</td>\n",
       "      <td>7.0349</td>\n",
       "      <td>15.1623</td>\n",
       "      <td>27.33</td>\n",
       "      <td>998.68</td>\n",
       "      <td>92.40</td>\n",
       "      <td>0.0</td>\n",
       "    </tr>\n",
       "    <tr>\n",
       "      <th>2022-06-13 00:30:00</th>\n",
       "      <td>0.0</td>\n",
       "      <td>7.1234</td>\n",
       "      <td>14.3874</td>\n",
       "      <td>27.31</td>\n",
       "      <td>998.54</td>\n",
       "      <td>92.42</td>\n",
       "      <td>0.0</td>\n",
       "    </tr>\n",
       "    <tr>\n",
       "      <th>2022-06-13 00:45:00</th>\n",
       "      <td>0.0</td>\n",
       "      <td>7.2816</td>\n",
       "      <td>15.6968</td>\n",
       "      <td>27.29</td>\n",
       "      <td>998.21</td>\n",
       "      <td>92.27</td>\n",
       "      <td>0.0</td>\n",
       "    </tr>\n",
       "    <tr>\n",
       "      <th>2022-06-13 01:00:00</th>\n",
       "      <td>0.0</td>\n",
       "      <td>7.2544</td>\n",
       "      <td>18.7347</td>\n",
       "      <td>27.34</td>\n",
       "      <td>997.92</td>\n",
       "      <td>91.92</td>\n",
       "      <td>0.0</td>\n",
       "    </tr>\n",
       "    <tr>\n",
       "      <th>...</th>\n",
       "      <td>...</td>\n",
       "      <td>...</td>\n",
       "      <td>...</td>\n",
       "      <td>...</td>\n",
       "      <td>...</td>\n",
       "      <td>...</td>\n",
       "      <td>...</td>\n",
       "    </tr>\n",
       "    <tr>\n",
       "      <th>2022-06-17 03:30:00</th>\n",
       "      <td>0.0</td>\n",
       "      <td>6.4324</td>\n",
       "      <td>19.0546</td>\n",
       "      <td>27.67</td>\n",
       "      <td>998.19</td>\n",
       "      <td>90.43</td>\n",
       "      <td>0.0</td>\n",
       "    </tr>\n",
       "    <tr>\n",
       "      <th>2022-06-17 03:45:00</th>\n",
       "      <td>0.0</td>\n",
       "      <td>6.4961</td>\n",
       "      <td>19.3275</td>\n",
       "      <td>27.65</td>\n",
       "      <td>998.17</td>\n",
       "      <td>90.19</td>\n",
       "      <td>0.0</td>\n",
       "    </tr>\n",
       "    <tr>\n",
       "      <th>2022-06-17 04:00:00</th>\n",
       "      <td>0.0</td>\n",
       "      <td>6.4812</td>\n",
       "      <td>19.7490</td>\n",
       "      <td>27.62</td>\n",
       "      <td>998.24</td>\n",
       "      <td>90.29</td>\n",
       "      <td>0.0</td>\n",
       "    </tr>\n",
       "    <tr>\n",
       "      <th>2022-06-17 04:15:00</th>\n",
       "      <td>0.0</td>\n",
       "      <td>6.6037</td>\n",
       "      <td>19.3678</td>\n",
       "      <td>27.64</td>\n",
       "      <td>998.28</td>\n",
       "      <td>90.07</td>\n",
       "      <td>0.0</td>\n",
       "    </tr>\n",
       "    <tr>\n",
       "      <th>2022-06-17 04:30:00</th>\n",
       "      <td>0.0</td>\n",
       "      <td>6.7927</td>\n",
       "      <td>18.8084</td>\n",
       "      <td>27.67</td>\n",
       "      <td>998.24</td>\n",
       "      <td>89.65</td>\n",
       "      <td>0.0</td>\n",
       "    </tr>\n",
       "  </tbody>\n",
       "</table>\n",
       "<p>403 rows × 7 columns</p>\n",
       "</div>"
      ],
      "text/plain": [
       "                     Irradiance  Speed10  Direction10  Temper  Pressure  \\\n",
       "Datetime                                                                  \n",
       "2022-06-13 00:00:00         0.0   6.9614      14.8148   27.32    998.67   \n",
       "2022-06-13 00:15:00         0.0   7.0349      15.1623   27.33    998.68   \n",
       "2022-06-13 00:30:00         0.0   7.1234      14.3874   27.31    998.54   \n",
       "2022-06-13 00:45:00         0.0   7.2816      15.6968   27.29    998.21   \n",
       "2022-06-13 01:00:00         0.0   7.2544      18.7347   27.34    997.92   \n",
       "...                         ...      ...          ...     ...       ...   \n",
       "2022-06-17 03:30:00         0.0   6.4324      19.0546   27.67    998.19   \n",
       "2022-06-17 03:45:00         0.0   6.4961      19.3275   27.65    998.17   \n",
       "2022-06-17 04:00:00         0.0   6.4812      19.7490   27.62    998.24   \n",
       "2022-06-17 04:15:00         0.0   6.6037      19.3678   27.64    998.28   \n",
       "2022-06-17 04:30:00         0.0   6.7927      18.8084   27.67    998.24   \n",
       "\n",
       "                     Humidity  Power(MW)  \n",
       "Datetime                                  \n",
       "2022-06-13 00:00:00     92.59        0.0  \n",
       "2022-06-13 00:15:00     92.40        0.0  \n",
       "2022-06-13 00:30:00     92.42        0.0  \n",
       "2022-06-13 00:45:00     92.27        0.0  \n",
       "2022-06-13 01:00:00     91.92        0.0  \n",
       "...                       ...        ...  \n",
       "2022-06-17 03:30:00     90.43        0.0  \n",
       "2022-06-17 03:45:00     90.19        0.0  \n",
       "2022-06-17 04:00:00     90.29        0.0  \n",
       "2022-06-17 04:15:00     90.07        0.0  \n",
       "2022-06-17 04:30:00     89.65        0.0  \n",
       "\n",
       "[403 rows x 7 columns]"
      ]
     },
     "execution_count": 8,
     "metadata": {},
     "output_type": "execute_result"
    }
   ],
   "source": [
    "gf_df_train"
   ]
  },
  {
   "cell_type": "code",
   "execution_count": 9,
   "id": "162af1b8",
   "metadata": {},
   "outputs": [
    {
     "data": {
      "text/plain": [
       "135"
      ]
     },
     "execution_count": 9,
     "metadata": {},
     "output_type": "execute_result"
    }
   ],
   "source": [
    "len(gf_df_test)"
   ]
  },
  {
   "cell_type": "code",
   "execution_count": 10,
   "id": "ee3e985b",
   "metadata": {},
   "outputs": [],
   "source": [
    "# # 划分train valid test集\n",
    "# fd_df_train = df[:int(0.6*len(df))]\n",
    "# fd_df_valid = df[int(0.8*len(df)):]\n",
    "# fd_df_test =df[int(0.8*len(df)):]"
   ]
  },
  {
   "cell_type": "code",
   "execution_count": 11,
   "id": "60fc179f",
   "metadata": {},
   "outputs": [],
   "source": [
    "# 对数据进行归一化处理\n",
    "scaler = MinMaxScaler(feature_range=(0,1))\n",
    "scaler = scaler.fit(df)\n",
    "df_for_training_scaled = scaler.transform(gf_df_train)\n",
    "df_for_validing_scaled=scaler.transform(gf_df_valid)\n",
    "df_for_testing_scaled=scaler.transform(gf_df_test)"
   ]
  },
  {
   "cell_type": "code",
   "execution_count": 12,
   "id": "0ffaa753",
   "metadata": {},
   "outputs": [
    {
     "data": {
      "text/plain": [
       "135"
      ]
     },
     "execution_count": 12,
     "metadata": {},
     "output_type": "execute_result"
    }
   ],
   "source": [
    "len(df_for_testing_scaled)"
   ]
  },
  {
   "cell_type": "code",
   "execution_count": 13,
   "id": "5e3af1bb",
   "metadata": {},
   "outputs": [],
   "source": [
    "# 分离x与y\n",
    "def createXY(array, days_used_to_train=7):\n",
    "    features = list()\n",
    "    labels = list()\n",
    "\n",
    "    for i in range(days_used_to_train, len(array)):\n",
    "        features.append(array[i-days_used_to_train:i, :])\n",
    "        labels.append(array[i, -1])\n",
    "    return np.array(features), np.array(labels)\n",
    "\n",
    "train_X,train_y=createXY(df_for_training_scaled)\n",
    "valid_X,valid_y=createXY(df_for_validing_scaled)\n",
    "test_X,test_y_former=createXY(df_for_testing_scaled)"
   ]
  },
  {
   "cell_type": "code",
   "execution_count": 14,
   "id": "397942f0",
   "metadata": {},
   "outputs": [],
   "source": [
    "# len(test_y)"
   ]
  },
  {
   "cell_type": "code",
   "execution_count": 15,
   "id": "809570c8",
   "metadata": {},
   "outputs": [],
   "source": [
    "df_X,df_y=createXY(np.array(df))"
   ]
  },
  {
   "cell_type": "code",
   "execution_count": 16,
   "id": "10d79b7a",
   "metadata": {},
   "outputs": [
    {
     "data": {
      "text/plain": [
       "(396, 7, 7)"
      ]
     },
     "execution_count": 16,
     "metadata": {},
     "output_type": "execute_result"
    }
   ],
   "source": [
    "train_X.shape"
   ]
  },
  {
   "cell_type": "code",
   "execution_count": 17,
   "id": "dc87c3bf",
   "metadata": {},
   "outputs": [
    {
     "data": {
      "text/plain": [
       "(396,)"
      ]
     },
     "execution_count": 17,
     "metadata": {},
     "output_type": "execute_result"
    }
   ],
   "source": [
    "train_y.shape"
   ]
  },
  {
   "cell_type": "code",
   "execution_count": 18,
   "id": "1154c314",
   "metadata": {
    "scrolled": true
   },
   "outputs": [
    {
     "data": {
      "text/plain": [
       "[<matplotlib.lines.Line2D at 0x21081ea4550>]"
      ]
     },
     "execution_count": 18,
     "metadata": {},
     "output_type": "execute_result"
    },
    {
     "data": {
      "image/png": "[encoded data removed]",
      "text/plain": [
       "<Figure size 432x288 with 1 Axes>"
      ]
     },
     "metadata": {
      "needs_background": "light"
     },
     "output_type": "display_data"
    }
   ],
   "source": [
    "# 看一下历史波形\n",
    "plt.plot(range(len(df_y)), df_y, label='history')"
   ]
  },
  {
   "cell_type": "code",
   "execution_count": 19,
   "id": "8f34c385",
   "metadata": {},
   "outputs": [],
   "source": [
    "# 定义一个新的评价函数\n",
    "def ev(y_true, y_predict):\n",
    "    difference=(abs(np.array(y_true) - np.array(y_predict.flatten()))).sum()\n",
    "    return float(difference) "
   ]
  },
  {
   "cell_type": "code",
   "execution_count": 20,
   "id": "eb8407e6",
   "metadata": {},
   "outputs": [],
   "source": [
    "# 建立模型函数\n",
    "def build_model(size):\n",
    "    tf.random.set_seed(1) #设置随机数种子\n",
    "    # Create grid_model\n",
    "    grid_model = tf.keras.Sequential()\n",
    "    grid_model.add(tf.keras.layers.LSTM(units=size))\n",
    "    grid_model.add(tf.keras.layers.Dense(size))\n",
    "    grid_model.add(tf.keras.layers.Dense(size))\n",
    "    grid_model.add(tf.keras.layers.Dense(1))\n",
    "\n",
    "    # Compile the grid_model\n",
    "    grid_model.compile(\n",
    "    optimizer='adam',\n",
    "    loss='mse')\n",
    "    \n",
    "    return grid_model"
   ]
  },
  {
   "cell_type": "code",
   "execution_count": 21,
   "id": "f0540c16",
   "metadata": {},
   "outputs": [
    {
     "data": {
      "text/plain": [
       "135"
      ]
     },
     "execution_count": 21,
     "metadata": {},
     "output_type": "execute_result"
    }
   ],
   "source": [
    "len(df_for_testing_scaled)"
   ]
  },
  {
   "cell_type": "code",
   "execution_count": 22,
   "id": "3faf7ab5",
   "metadata": {},
   "outputs": [],
   "source": [
    "# 准备一些copy用用\n",
    "df_for_testing_scaled_1=df_for_testing_scaled.copy()\n",
    "df_for_testing_scaled_inloop=df_for_testing_scaled.copy()\n",
    "df_for_validing_scaled_inloop=df_for_validing_scaled.copy()\n",
    "df_for_testing_scaled_1=pd.DataFrame(df_for_testing_scaled_1)\n",
    "df_for_testing_scaled_inloop=pd.DataFrame(df_for_testing_scaled_inloop)\n",
    "df_for_validing_scaled_inloop=pd.DataFrame(df_for_validing_scaled_inloop)"
   ]
  },
  {
   "cell_type": "code",
   "execution_count": 23,
   "id": "8e91d231",
   "metadata": {},
   "outputs": [
    {
     "data": {
      "text/html": [
       "<div>\n",
       "<style scoped>\n",
       "    .dataframe tbody tr th:only-of-type {\n",
       "        vertical-align: middle;\n",
       "    }\n",
       "\n",
       "    .dataframe tbody tr th {\n",
       "        vertical-align: top;\n",
       "    }\n",
       "\n",
       "    .dataframe thead th {\n",
       "        text-align: right;\n",
       "    }\n",
       "</style>\n",
       "<table border=\"1\" class=\"dataframe\">\n",
       "  <thead>\n",
       "    <tr style=\"text-align: right;\">\n",
       "      <th></th>\n",
       "      <th>0</th>\n",
       "      <th>1</th>\n",
       "      <th>2</th>\n",
       "      <th>3</th>\n",
       "      <th>4</th>\n",
       "      <th>5</th>\n",
       "      <th>6</th>\n",
       "    </tr>\n",
       "  </thead>\n",
       "  <tbody>\n",
       "    <tr>\n",
       "      <th>0</th>\n",
       "      <td>0.773231</td>\n",
       "      <td>0.833891</td>\n",
       "      <td>0.048671</td>\n",
       "      <td>0.875895</td>\n",
       "      <td>0.327068</td>\n",
       "      <td>0.837876</td>\n",
       "      <td>0.849433</td>\n",
       "    </tr>\n",
       "    <tr>\n",
       "      <th>1</th>\n",
       "      <td>0.824977</td>\n",
       "      <td>0.838103</td>\n",
       "      <td>0.046040</td>\n",
       "      <td>0.883055</td>\n",
       "      <td>0.300752</td>\n",
       "      <td>0.838377</td>\n",
       "      <td>0.841546</td>\n",
       "    </tr>\n",
       "    <tr>\n",
       "      <th>2</th>\n",
       "      <td>0.756666</td>\n",
       "      <td>0.844584</td>\n",
       "      <td>0.044505</td>\n",
       "      <td>0.866348</td>\n",
       "      <td>0.280075</td>\n",
       "      <td>0.840281</td>\n",
       "      <td>0.778209</td>\n",
       "    </tr>\n",
       "    <tr>\n",
       "      <th>3</th>\n",
       "      <td>0.703269</td>\n",
       "      <td>0.851671</td>\n",
       "      <td>0.041993</td>\n",
       "      <td>0.849642</td>\n",
       "      <td>0.263158</td>\n",
       "      <td>0.844890</td>\n",
       "      <td>0.285127</td>\n",
       "    </tr>\n",
       "    <tr>\n",
       "      <th>4</th>\n",
       "      <td>0.683247</td>\n",
       "      <td>0.858074</td>\n",
       "      <td>0.038985</td>\n",
       "      <td>0.842482</td>\n",
       "      <td>0.246241</td>\n",
       "      <td>0.848096</td>\n",
       "      <td>0.657369</td>\n",
       "    </tr>\n",
       "    <tr>\n",
       "      <th>...</th>\n",
       "      <td>...</td>\n",
       "      <td>...</td>\n",
       "      <td>...</td>\n",
       "      <td>...</td>\n",
       "      <td>...</td>\n",
       "      <td>...</td>\n",
       "      <td>...</td>\n",
       "    </tr>\n",
       "    <tr>\n",
       "      <th>130</th>\n",
       "      <td>0.000000</td>\n",
       "      <td>0.876112</td>\n",
       "      <td>0.015770</td>\n",
       "      <td>0.572792</td>\n",
       "      <td>0.261278</td>\n",
       "      <td>0.920641</td>\n",
       "      <td>0.000000</td>\n",
       "    </tr>\n",
       "    <tr>\n",
       "      <th>131</th>\n",
       "      <td>0.000000</td>\n",
       "      <td>0.737061</td>\n",
       "      <td>1.000000</td>\n",
       "      <td>0.379475</td>\n",
       "      <td>0.250000</td>\n",
       "      <td>0.000000</td>\n",
       "      <td>0.000000</td>\n",
       "    </tr>\n",
       "    <tr>\n",
       "      <th>132</th>\n",
       "      <td>0.000000</td>\n",
       "      <td>0.671736</td>\n",
       "      <td>0.986215</td>\n",
       "      <td>0.386635</td>\n",
       "      <td>0.302632</td>\n",
       "      <td>0.000000</td>\n",
       "      <td>0.000000</td>\n",
       "    </tr>\n",
       "    <tr>\n",
       "      <th>133</th>\n",
       "      <td>0.000000</td>\n",
       "      <td>0.634300</td>\n",
       "      <td>0.979656</td>\n",
       "      <td>0.405728</td>\n",
       "      <td>0.306391</td>\n",
       "      <td>0.000000</td>\n",
       "      <td>0.000000</td>\n",
       "    </tr>\n",
       "    <tr>\n",
       "      <th>134</th>\n",
       "      <td>0.000000</td>\n",
       "      <td>0.667322</td>\n",
       "      <td>0.984253</td>\n",
       "      <td>0.405728</td>\n",
       "      <td>0.204887</td>\n",
       "      <td>0.000000</td>\n",
       "      <td>0.000000</td>\n",
       "    </tr>\n",
       "  </tbody>\n",
       "</table>\n",
       "<p>135 rows × 7 columns</p>\n",
       "</div>"
      ],
      "text/plain": [
       "            0         1         2         3         4         5         6\n",
       "0    0.773231  0.833891  0.048671  0.875895  0.327068  0.837876  0.849433\n",
       "1    0.824977  0.838103  0.046040  0.883055  0.300752  0.838377  0.841546\n",
       "2    0.756666  0.844584  0.044505  0.866348  0.280075  0.840281  0.778209\n",
       "3    0.703269  0.851671  0.041993  0.849642  0.263158  0.844890  0.285127\n",
       "4    0.683247  0.858074  0.038985  0.842482  0.246241  0.848096  0.657369\n",
       "..        ...       ...       ...       ...       ...       ...       ...\n",
       "130  0.000000  0.876112  0.015770  0.572792  0.261278  0.920641  0.000000\n",
       "131  0.000000  0.737061  1.000000  0.379475  0.250000  0.000000  0.000000\n",
       "132  0.000000  0.671736  0.986215  0.386635  0.302632  0.000000  0.000000\n",
       "133  0.000000  0.634300  0.979656  0.405728  0.306391  0.000000  0.000000\n",
       "134  0.000000  0.667322  0.984253  0.405728  0.204887  0.000000  0.000000\n",
       "\n",
       "[135 rows x 7 columns]"
      ]
     },
     "execution_count": 23,
     "metadata": {},
     "output_type": "execute_result"
    }
   ],
   "source": [
    "df_for_testing_scaled_1"
   ]
  },
  {
   "cell_type": "code",
   "execution_count": 24,
   "id": "5ddad9b5",
   "metadata": {},
   "outputs": [
    {
     "name": "stdout",
     "output_type": "stream",
     "text": [
      "135\n"
     ]
    },
    {
     "data": {
      "text/html": [
       "<div>\n",
       "<style scoped>\n",
       "    .dataframe tbody tr th:only-of-type {\n",
       "        vertical-align: middle;\n",
       "    }\n",
       "\n",
       "    .dataframe tbody tr th {\n",
       "        vertical-align: top;\n",
       "    }\n",
       "\n",
       "    .dataframe thead th {\n",
       "        text-align: right;\n",
       "    }\n",
       "</style>\n",
       "<table border=\"1\" class=\"dataframe\">\n",
       "  <thead>\n",
       "    <tr style=\"text-align: right;\">\n",
       "      <th></th>\n",
       "      <th>6</th>\n",
       "    </tr>\n",
       "  </thead>\n",
       "  <tbody>\n",
       "    <tr>\n",
       "      <th>0</th>\n",
       "      <td>0.849433</td>\n",
       "    </tr>\n",
       "    <tr>\n",
       "      <th>1</th>\n",
       "      <td>0.841546</td>\n",
       "    </tr>\n",
       "    <tr>\n",
       "      <th>2</th>\n",
       "      <td>0.778209</td>\n",
       "    </tr>\n",
       "    <tr>\n",
       "      <th>3</th>\n",
       "      <td>0.285127</td>\n",
       "    </tr>\n",
       "    <tr>\n",
       "      <th>4</th>\n",
       "      <td>0.657369</td>\n",
       "    </tr>\n",
       "    <tr>\n",
       "      <th>...</th>\n",
       "      <td>...</td>\n",
       "    </tr>\n",
       "    <tr>\n",
       "      <th>130</th>\n",
       "      <td>0.000000</td>\n",
       "    </tr>\n",
       "    <tr>\n",
       "      <th>131</th>\n",
       "      <td>0.000000</td>\n",
       "    </tr>\n",
       "    <tr>\n",
       "      <th>132</th>\n",
       "      <td>0.000000</td>\n",
       "    </tr>\n",
       "    <tr>\n",
       "      <th>133</th>\n",
       "      <td>0.000000</td>\n",
       "    </tr>\n",
       "    <tr>\n",
       "      <th>134</th>\n",
       "      <td>0.000000</td>\n",
       "    </tr>\n",
       "  </tbody>\n",
       "</table>\n",
       "<p>135 rows × 1 columns</p>\n",
       "</div>"
      ],
      "text/plain": [
       "            6\n",
       "0    0.849433\n",
       "1    0.841546\n",
       "2    0.778209\n",
       "3    0.285127\n",
       "4    0.657369\n",
       "..        ...\n",
       "130  0.000000\n",
       "131  0.000000\n",
       "132  0.000000\n",
       "133  0.000000\n",
       "134  0.000000\n",
       "\n",
       "[135 rows x 1 columns]"
      ]
     },
     "execution_count": 24,
     "metadata": {},
     "output_type": "execute_result"
    }
   ],
   "source": [
    "test_y=df_for_testing_scaled_1.iloc[:,-1:]\n",
    "print(len(test_y))\n",
    "test_y\n"
   ]
  },
  {
   "cell_type": "code",
   "execution_count": 25,
   "id": "e6d9e5b5",
   "metadata": {},
   "outputs": [],
   "source": [
    "df_for_testing_scaled_inloop.iloc[:,-1]=np.nan #这块是必要的，但是因为没做好所以暂时注释了"
   ]
  },
  {
   "cell_type": "code",
   "execution_count": 26,
   "id": "0a9b2fac",
   "metadata": {},
   "outputs": [
    {
     "data": {
      "text/html": [
       "<div>\n",
       "<style scoped>\n",
       "    .dataframe tbody tr th:only-of-type {\n",
       "        vertical-align: middle;\n",
       "    }\n",
       "\n",
       "    .dataframe tbody tr th {\n",
       "        vertical-align: top;\n",
       "    }\n",
       "\n",
       "    .dataframe thead th {\n",
       "        text-align: right;\n",
       "    }\n",
       "</style>\n",
       "<table border=\"1\" class=\"dataframe\">\n",
       "  <thead>\n",
       "    <tr style=\"text-align: right;\">\n",
       "      <th></th>\n",
       "      <th>0</th>\n",
       "      <th>1</th>\n",
       "      <th>2</th>\n",
       "      <th>3</th>\n",
       "      <th>4</th>\n",
       "      <th>5</th>\n",
       "      <th>6</th>\n",
       "    </tr>\n",
       "  </thead>\n",
       "  <tbody>\n",
       "    <tr>\n",
       "      <th>0</th>\n",
       "      <td>0.773231</td>\n",
       "      <td>0.833891</td>\n",
       "      <td>0.048671</td>\n",
       "      <td>0.875895</td>\n",
       "      <td>0.327068</td>\n",
       "      <td>0.837876</td>\n",
       "      <td>NaN</td>\n",
       "    </tr>\n",
       "    <tr>\n",
       "      <th>1</th>\n",
       "      <td>0.824977</td>\n",
       "      <td>0.838103</td>\n",
       "      <td>0.046040</td>\n",
       "      <td>0.883055</td>\n",
       "      <td>0.300752</td>\n",
       "      <td>0.838377</td>\n",
       "      <td>NaN</td>\n",
       "    </tr>\n",
       "    <tr>\n",
       "      <th>2</th>\n",
       "      <td>0.756666</td>\n",
       "      <td>0.844584</td>\n",
       "      <td>0.044505</td>\n",
       "      <td>0.866348</td>\n",
       "      <td>0.280075</td>\n",
       "      <td>0.840281</td>\n",
       "      <td>NaN</td>\n",
       "    </tr>\n",
       "    <tr>\n",
       "      <th>3</th>\n",
       "      <td>0.703269</td>\n",
       "      <td>0.851671</td>\n",
       "      <td>0.041993</td>\n",
       "      <td>0.849642</td>\n",
       "      <td>0.263158</td>\n",
       "      <td>0.844890</td>\n",
       "      <td>NaN</td>\n",
       "    </tr>\n",
       "    <tr>\n",
       "      <th>4</th>\n",
       "      <td>0.683247</td>\n",
       "      <td>0.858074</td>\n",
       "      <td>0.038985</td>\n",
       "      <td>0.842482</td>\n",
       "      <td>0.246241</td>\n",
       "      <td>0.848096</td>\n",
       "      <td>NaN</td>\n",
       "    </tr>\n",
       "    <tr>\n",
       "      <th>...</th>\n",
       "      <td>...</td>\n",
       "      <td>...</td>\n",
       "      <td>...</td>\n",
       "      <td>...</td>\n",
       "      <td>...</td>\n",
       "      <td>...</td>\n",
       "      <td>...</td>\n",
       "    </tr>\n",
       "    <tr>\n",
       "      <th>130</th>\n",
       "      <td>0.000000</td>\n",
       "      <td>0.876112</td>\n",
       "      <td>0.015770</td>\n",
       "      <td>0.572792</td>\n",
       "      <td>0.261278</td>\n",
       "      <td>0.920641</td>\n",
       "      <td>NaN</td>\n",
       "    </tr>\n",
       "    <tr>\n",
       "      <th>131</th>\n",
       "      <td>0.000000</td>\n",
       "      <td>0.737061</td>\n",
       "      <td>1.000000</td>\n",
       "      <td>0.379475</td>\n",
       "      <td>0.250000</td>\n",
       "      <td>0.000000</td>\n",
       "      <td>NaN</td>\n",
       "    </tr>\n",
       "    <tr>\n",
       "      <th>132</th>\n",
       "      <td>0.000000</td>\n",
       "      <td>0.671736</td>\n",
       "      <td>0.986215</td>\n",
       "      <td>0.386635</td>\n",
       "      <td>0.302632</td>\n",
       "      <td>0.000000</td>\n",
       "      <td>NaN</td>\n",
       "    </tr>\n",
       "    <tr>\n",
       "      <th>133</th>\n",
       "      <td>0.000000</td>\n",
       "      <td>0.634300</td>\n",
       "      <td>0.979656</td>\n",
       "      <td>0.405728</td>\n",
       "      <td>0.306391</td>\n",
       "      <td>0.000000</td>\n",
       "      <td>NaN</td>\n",
       "    </tr>\n",
       "    <tr>\n",
       "      <th>134</th>\n",
       "      <td>0.000000</td>\n",
       "      <td>0.667322</td>\n",
       "      <td>0.984253</td>\n",
       "      <td>0.405728</td>\n",
       "      <td>0.204887</td>\n",
       "      <td>0.000000</td>\n",
       "      <td>NaN</td>\n",
       "    </tr>\n",
       "  </tbody>\n",
       "</table>\n",
       "<p>135 rows × 7 columns</p>\n",
       "</div>"
      ],
      "text/plain": [
       "            0         1         2         3         4         5   6\n",
       "0    0.773231  0.833891  0.048671  0.875895  0.327068  0.837876 NaN\n",
       "1    0.824977  0.838103  0.046040  0.883055  0.300752  0.838377 NaN\n",
       "2    0.756666  0.844584  0.044505  0.866348  0.280075  0.840281 NaN\n",
       "3    0.703269  0.851671  0.041993  0.849642  0.263158  0.844890 NaN\n",
       "4    0.683247  0.858074  0.038985  0.842482  0.246241  0.848096 NaN\n",
       "..        ...       ...       ...       ...       ...       ...  ..\n",
       "130  0.000000  0.876112  0.015770  0.572792  0.261278  0.920641 NaN\n",
       "131  0.000000  0.737061  1.000000  0.379475  0.250000  0.000000 NaN\n",
       "132  0.000000  0.671736  0.986215  0.386635  0.302632  0.000000 NaN\n",
       "133  0.000000  0.634300  0.979656  0.405728  0.306391  0.000000 NaN\n",
       "134  0.000000  0.667322  0.984253  0.405728  0.204887  0.000000 NaN\n",
       "\n",
       "[135 rows x 7 columns]"
      ]
     },
     "execution_count": 26,
     "metadata": {},
     "output_type": "execute_result"
    }
   ],
   "source": [
    "df_for_testing_scaled_inloop"
   ]
  },
  {
   "cell_type": "code",
   "execution_count": 27,
   "id": "fe9251f6",
   "metadata": {},
   "outputs": [
    {
     "data": {
      "text/html": [
       "<div>\n",
       "<style scoped>\n",
       "    .dataframe tbody tr th:only-of-type {\n",
       "        vertical-align: middle;\n",
       "    }\n",
       "\n",
       "    .dataframe tbody tr th {\n",
       "        vertical-align: top;\n",
       "    }\n",
       "\n",
       "    .dataframe thead th {\n",
       "        text-align: right;\n",
       "    }\n",
       "</style>\n",
       "<table border=\"1\" class=\"dataframe\">\n",
       "  <thead>\n",
       "    <tr style=\"text-align: right;\">\n",
       "      <th></th>\n",
       "      <th>0</th>\n",
       "      <th>1</th>\n",
       "      <th>2</th>\n",
       "      <th>3</th>\n",
       "      <th>4</th>\n",
       "      <th>5</th>\n",
       "      <th>6</th>\n",
       "    </tr>\n",
       "  </thead>\n",
       "  <tbody>\n",
       "    <tr>\n",
       "      <th>127</th>\n",
       "      <td>0.840042</td>\n",
       "      <td>0.846887</td>\n",
       "      <td>0.069815</td>\n",
       "      <td>0.902148</td>\n",
       "      <td>0.560150</td>\n",
       "      <td>0.825852</td>\n",
       "      <td>0.918715</td>\n",
       "    </tr>\n",
       "    <tr>\n",
       "      <th>128</th>\n",
       "      <td>0.689105</td>\n",
       "      <td>0.842405</td>\n",
       "      <td>0.068305</td>\n",
       "      <td>0.863962</td>\n",
       "      <td>0.530075</td>\n",
       "      <td>0.831964</td>\n",
       "      <td>0.895049</td>\n",
       "    </tr>\n",
       "    <tr>\n",
       "      <th>129</th>\n",
       "      <td>0.623149</td>\n",
       "      <td>0.842113</td>\n",
       "      <td>0.066037</td>\n",
       "      <td>0.842482</td>\n",
       "      <td>0.496241</td>\n",
       "      <td>0.838377</td>\n",
       "      <td>0.934606</td>\n",
       "    </tr>\n",
       "    <tr>\n",
       "      <th>130</th>\n",
       "      <td>0.556654</td>\n",
       "      <td>0.844269</td>\n",
       "      <td>0.065040</td>\n",
       "      <td>0.818616</td>\n",
       "      <td>0.460526</td>\n",
       "      <td>0.842886</td>\n",
       "      <td>0.891049</td>\n",
       "    </tr>\n",
       "    <tr>\n",
       "      <th>131</th>\n",
       "      <td>0.631982</td>\n",
       "      <td>0.846010</td>\n",
       "      <td>0.063877</td>\n",
       "      <td>0.835322</td>\n",
       "      <td>0.422932</td>\n",
       "      <td>0.843287</td>\n",
       "      <td>0.904881</td>\n",
       "    </tr>\n",
       "    <tr>\n",
       "      <th>132</th>\n",
       "      <td>0.740159</td>\n",
       "      <td>0.840305</td>\n",
       "      <td>0.060811</td>\n",
       "      <td>0.866348</td>\n",
       "      <td>0.389098</td>\n",
       "      <td>0.838076</td>\n",
       "      <td>0.922716</td>\n",
       "    </tr>\n",
       "    <tr>\n",
       "      <th>133</th>\n",
       "      <td>0.727085</td>\n",
       "      <td>0.834958</td>\n",
       "      <td>0.054654</td>\n",
       "      <td>0.871122</td>\n",
       "      <td>0.357143</td>\n",
       "      <td>0.835271</td>\n",
       "      <td>0.835601</td>\n",
       "    </tr>\n",
       "  </tbody>\n",
       "</table>\n",
       "</div>"
      ],
      "text/plain": [
       "            0         1         2         3         4         5         6\n",
       "127  0.840042  0.846887  0.069815  0.902148  0.560150  0.825852  0.918715\n",
       "128  0.689105  0.842405  0.068305  0.863962  0.530075  0.831964  0.895049\n",
       "129  0.623149  0.842113  0.066037  0.842482  0.496241  0.838377  0.934606\n",
       "130  0.556654  0.844269  0.065040  0.818616  0.460526  0.842886  0.891049\n",
       "131  0.631982  0.846010  0.063877  0.835322  0.422932  0.843287  0.904881\n",
       "132  0.740159  0.840305  0.060811  0.866348  0.389098  0.838076  0.922716\n",
       "133  0.727085  0.834958  0.054654  0.871122  0.357143  0.835271  0.835601"
      ]
     },
     "execution_count": 27,
     "metadata": {},
     "output_type": "execute_result"
    }
   ],
   "source": [
    "df_7pieces_from_valid=df_for_validing_scaled_inloop.iloc[-7:,:]\n",
    "df_7pieces_from_valid"
   ]
  },
  {
   "cell_type": "code",
   "execution_count": 28,
   "id": "f0cb19c1",
   "metadata": {},
   "outputs": [
    {
     "name": "stderr",
     "output_type": "stream",
     "text": [
      "C:\\Users\\23966\\AppData\\Local\\Temp\\ipykernel_22224\\1155265752.py:1: FutureWarning: The frame.append method is deprecated and will be removed from pandas in a future version. Use pandas.concat instead.\n",
      "  full_df_test=df_7pieces_from_valid.append(df_for_testing_scaled_inloop)\n"
     ]
    },
    {
     "data": {
      "text/html": [
       "<div>\n",
       "<style scoped>\n",
       "    .dataframe tbody tr th:only-of-type {\n",
       "        vertical-align: middle;\n",
       "    }\n",
       "\n",
       "    .dataframe tbody tr th {\n",
       "        vertical-align: top;\n",
       "    }\n",
       "\n",
       "    .dataframe thead th {\n",
       "        text-align: right;\n",
       "    }\n",
       "</style>\n",
       "<table border=\"1\" class=\"dataframe\">\n",
       "  <thead>\n",
       "    <tr style=\"text-align: right;\">\n",
       "      <th></th>\n",
       "      <th>0</th>\n",
       "      <th>1</th>\n",
       "      <th>2</th>\n",
       "      <th>3</th>\n",
       "      <th>4</th>\n",
       "      <th>5</th>\n",
       "      <th>6</th>\n",
       "    </tr>\n",
       "  </thead>\n",
       "  <tbody>\n",
       "    <tr>\n",
       "      <th>127</th>\n",
       "      <td>0.840042</td>\n",
       "      <td>0.846887</td>\n",
       "      <td>0.069815</td>\n",
       "      <td>0.902148</td>\n",
       "      <td>0.560150</td>\n",
       "      <td>0.825852</td>\n",
       "      <td>0.918715</td>\n",
       "    </tr>\n",
       "    <tr>\n",
       "      <th>128</th>\n",
       "      <td>0.689105</td>\n",
       "      <td>0.842405</td>\n",
       "      <td>0.068305</td>\n",
       "      <td>0.863962</td>\n",
       "      <td>0.530075</td>\n",
       "      <td>0.831964</td>\n",
       "      <td>0.895049</td>\n",
       "    </tr>\n",
       "    <tr>\n",
       "      <th>129</th>\n",
       "      <td>0.623149</td>\n",
       "      <td>0.842113</td>\n",
       "      <td>0.066037</td>\n",
       "      <td>0.842482</td>\n",
       "      <td>0.496241</td>\n",
       "      <td>0.838377</td>\n",
       "      <td>0.934606</td>\n",
       "    </tr>\n",
       "    <tr>\n",
       "      <th>130</th>\n",
       "      <td>0.556654</td>\n",
       "      <td>0.844269</td>\n",
       "      <td>0.065040</td>\n",
       "      <td>0.818616</td>\n",
       "      <td>0.460526</td>\n",
       "      <td>0.842886</td>\n",
       "      <td>0.891049</td>\n",
       "    </tr>\n",
       "    <tr>\n",
       "      <th>131</th>\n",
       "      <td>0.631982</td>\n",
       "      <td>0.846010</td>\n",
       "      <td>0.063877</td>\n",
       "      <td>0.835322</td>\n",
       "      <td>0.422932</td>\n",
       "      <td>0.843287</td>\n",
       "      <td>0.904881</td>\n",
       "    </tr>\n",
       "    <tr>\n",
       "      <th>...</th>\n",
       "      <td>...</td>\n",
       "      <td>...</td>\n",
       "      <td>...</td>\n",
       "      <td>...</td>\n",
       "      <td>...</td>\n",
       "      <td>...</td>\n",
       "      <td>...</td>\n",
       "    </tr>\n",
       "    <tr>\n",
       "      <th>130</th>\n",
       "      <td>0.000000</td>\n",
       "      <td>0.876112</td>\n",
       "      <td>0.015770</td>\n",
       "      <td>0.572792</td>\n",
       "      <td>0.261278</td>\n",
       "      <td>0.920641</td>\n",
       "      <td>NaN</td>\n",
       "    </tr>\n",
       "    <tr>\n",
       "      <th>131</th>\n",
       "      <td>0.000000</td>\n",
       "      <td>0.737061</td>\n",
       "      <td>1.000000</td>\n",
       "      <td>0.379475</td>\n",
       "      <td>0.250000</td>\n",
       "      <td>0.000000</td>\n",
       "      <td>NaN</td>\n",
       "    </tr>\n",
       "    <tr>\n",
       "      <th>132</th>\n",
       "      <td>0.000000</td>\n",
       "      <td>0.671736</td>\n",
       "      <td>0.986215</td>\n",
       "      <td>0.386635</td>\n",
       "      <td>0.302632</td>\n",
       "      <td>0.000000</td>\n",
       "      <td>NaN</td>\n",
       "    </tr>\n",
       "    <tr>\n",
       "      <th>133</th>\n",
       "      <td>0.000000</td>\n",
       "      <td>0.634300</td>\n",
       "      <td>0.979656</td>\n",
       "      <td>0.405728</td>\n",
       "      <td>0.306391</td>\n",
       "      <td>0.000000</td>\n",
       "      <td>NaN</td>\n",
       "    </tr>\n",
       "    <tr>\n",
       "      <th>134</th>\n",
       "      <td>0.000000</td>\n",
       "      <td>0.667322</td>\n",
       "      <td>0.984253</td>\n",
       "      <td>0.405728</td>\n",
       "      <td>0.204887</td>\n",
       "      <td>0.000000</td>\n",
       "      <td>NaN</td>\n",
       "    </tr>\n",
       "  </tbody>\n",
       "</table>\n",
       "<p>142 rows × 7 columns</p>\n",
       "</div>"
      ],
      "text/plain": [
       "            0         1         2         3         4         5         6\n",
       "127  0.840042  0.846887  0.069815  0.902148  0.560150  0.825852  0.918715\n",
       "128  0.689105  0.842405  0.068305  0.863962  0.530075  0.831964  0.895049\n",
       "129  0.623149  0.842113  0.066037  0.842482  0.496241  0.838377  0.934606\n",
       "130  0.556654  0.844269  0.065040  0.818616  0.460526  0.842886  0.891049\n",
       "131  0.631982  0.846010  0.063877  0.835322  0.422932  0.843287  0.904881\n",
       "..        ...       ...       ...       ...       ...       ...       ...\n",
       "130  0.000000  0.876112  0.015770  0.572792  0.261278  0.920641       NaN\n",
       "131  0.000000  0.737061  1.000000  0.379475  0.250000  0.000000       NaN\n",
       "132  0.000000  0.671736  0.986215  0.386635  0.302632  0.000000       NaN\n",
       "133  0.000000  0.634300  0.979656  0.405728  0.306391  0.000000       NaN\n",
       "134  0.000000  0.667322  0.984253  0.405728  0.204887  0.000000       NaN\n",
       "\n",
       "[142 rows x 7 columns]"
      ]
     },
     "execution_count": 28,
     "metadata": {},
     "output_type": "execute_result"
    }
   ],
   "source": [
    "full_df_test=df_7pieces_from_valid.append(df_for_testing_scaled_inloop)\n",
    "full_df_test"
   ]
  },
  {
   "cell_type": "code",
   "execution_count": 29,
   "id": "9b0987dd",
   "metadata": {},
   "outputs": [],
   "source": [
    "full_df_test_forpred=full_df_test.copy()"
   ]
  },
  {
   "cell_type": "code",
   "execution_count": 30,
   "id": "37fa4c1d",
   "metadata": {},
   "outputs": [],
   "source": [
    "# 上面几步是为了让test真正实现feature预测，但是没做完"
   ]
  },
  {
   "cell_type": "code",
   "execution_count": 31,
   "id": "473b1ca9",
   "metadata": {},
   "outputs": [],
   "source": [
    "df_for_testing_scaled_1_array=df_for_testing_scaled_1.values\n",
    "df_for_testing_scaled_inloop_array=df_for_testing_scaled_inloop.values\n",
    "full_df_test_array=full_df_test.values\n",
    "full_df_test_forpred_array=full_df_test_forpred.values"
   ]
  },
  {
   "cell_type": "code",
   "execution_count": 32,
   "id": "131dbab4",
   "metadata": {},
   "outputs": [],
   "source": [
    "# 为循环初始化一些数据\n",
    "bestscore=1000000000\n",
    "flag=0\n",
    "num=0\n",
    "best_size=0\n",
    "best_batch_size=0\n",
    "best_epochs=0\n",
    "time_step=7\n"
   ]
  },
  {
   "cell_type": "code",
   "execution_count": 33,
   "id": "6204bf10",
   "metadata": {},
   "outputs": [
    {
     "data": {
      "text/plain": [
       "135"
      ]
     },
     "execution_count": 33,
     "metadata": {},
     "output_type": "execute_result"
    }
   ],
   "source": [
    "len(test_y)"
   ]
  },
  {
   "cell_type": "code",
   "execution_count": 34,
   "id": "38775bd7",
   "metadata": {},
   "outputs": [
    {
     "data": {
      "text/plain": [
       "135"
      ]
     },
     "execution_count": 34,
     "metadata": {},
     "output_type": "execute_result"
    }
   ],
   "source": [
    "len(df_for_testing_scaled_inloop_array)"
   ]
  },
  {
   "cell_type": "code",
   "execution_count": null,
   "id": "b70cc495",
   "metadata": {},
   "outputs": [
    {
     "name": "stdout",
     "output_type": "stream",
     "text": [
      "135\n",
      "num: 0 score= 4534.78515625 size= 32 batch_size= 32 epochs= 20\n",
      "4534.78515625\n"
     ]
    },
    {
     "name": "stderr",
     "output_type": "stream",
     "text": [
      "C:\\Users\\23966\\AppData\\Local\\Temp\\ipykernel_22224\\4234794954.py:24: VisibleDeprecationWarning: Creating an ndarray from ragged nested sequences (which is a list-or-tuple of lists-or-tuples-or ndarrays with different lengths or shapes) is deprecated. If you meant to do this, you must specify 'dtype=object' when creating the ndarray.\n",
      "  score=ev(np.array(test_y),np.array(all_data_test))\n",
      "WARNING:absl:Found untraced functions such as lstm_cell_layer_call_fn, lstm_cell_layer_call_and_return_conditional_losses while saving (showing 2 of 2). These functions will not be directly callable after loading.\n"
     ]
    },
    {
     "name": "stdout",
     "output_type": "stream",
     "text": [
      "INFO:tensorflow:Assets written to: keras_model_tf_version\\assets\n"
     ]
    },
    {
     "name": "stderr",
     "output_type": "stream",
     "text": [
      "INFO:tensorflow:Assets written to: keras_model_tf_version\\assets\n"
     ]
    },
    {
     "name": "stdout",
     "output_type": "stream",
     "text": [
      "135\n",
      "num: 1 score= 5980.5205078125 size= 32 batch_size= 32 epochs= 40\n"
     ]
    },
    {
     "name": "stderr",
     "output_type": "stream",
     "text": [
      "C:\\Users\\23966\\AppData\\Local\\Temp\\ipykernel_22224\\4234794954.py:24: VisibleDeprecationWarning: Creating an ndarray from ragged nested sequences (which is a list-or-tuple of lists-or-tuples-or ndarrays with different lengths or shapes) is deprecated. If you meant to do this, you must specify 'dtype=object' when creating the ndarray.\n",
      "  score=ev(np.array(test_y),np.array(all_data_test))\n"
     ]
    },
    {
     "name": "stdout",
     "output_type": "stream",
     "text": [
      "135\n",
      "num: 2 score= 5028.6171875 size= 16 batch_size= 32 epochs= 20\n"
     ]
    }
   ],
   "source": [
    "# 开始循环（warning不影响做）\n",
    "for size in [32,16,64]:\n",
    "    for batch_size in [32]:\n",
    "        for epochs in [20,40]:\n",
    "            grid_model=build_model(size)\n",
    "            grid_model.fit(\n",
    "            train_X, train_y,\n",
    "            validation_data=(valid_X, valid_y),\n",
    "            batch_size=32,\n",
    "            epochs=epochs,\n",
    "            verbose=0)\n",
    "            all_data_test=[]\n",
    "# 此处用了和feature一样的逐点预测方法\n",
    "            for i in range (time_step,len(full_df_test_array)) :\n",
    "                 data_x=[]\n",
    "                 data_x.append( full_df_test_array[i-time_step :i , 0:full_df_test.shape[1]])\n",
    "                 data_x=np.array(data_x)\n",
    "                 prediction=grid_model.predict(data_x,verbose=0)\n",
    "                 if prediction<0:\n",
    "                    prediction=0\n",
    "                 all_data_test.append(prediction)\n",
    "                 full_df_test.iloc[i,-1]=prediction\n",
    "            print(len(all_data_test))\n",
    "            score=ev(np.array(test_y),np.array(all_data_test))\n",
    "            print('num:',num,'score=',score,'size=',size,'batch_size=',batch_size,'epochs=',epochs,)\n",
    "            num=num+1\n",
    "            if score<bestscore:\n",
    "                flag=1\n",
    "                bestscore=score\n",
    "                print(bestscore)\n",
    "                best_size=size\n",
    "                best_batch_size=batch_size\n",
    "                best_epochs=epochs\n",
    "                # Export the model to a SavedModel\n",
    "                grid_model.save('keras_model_tf_version', save_format='tf')\n",
    "print(bestscore,'best_size=',best_size,'best_batch_size=',best_batch_size,'best_epochs=',best_epochs)"
   ]
  },
  {
   "cell_type": "code",
   "execution_count": null,
   "id": "4b9f569c",
   "metadata": {},
   "outputs": [],
   "source": [
    "# 加载最佳模型\n",
    "my_model = tf.keras.models.load_model('keras_model_tf_version')"
   ]
  },
  {
   "cell_type": "code",
   "execution_count": null,
   "id": "ce4208ba",
   "metadata": {},
   "outputs": [],
   "source": [
    "# 用最佳模型预测一下test\n",
    "all_data_test=[]\n",
    "for i in range (time_step,len(full_df_test_forpred_array)) :\n",
    "                 data_x=[]\n",
    "                 data_x.append( full_df_test_forpred_array[i-time_step :i , 0:full_df_test_forpred.shape[1]])\n",
    "                 data_x=np.array(data_x)\n",
    "                 prediction=my_model.predict(data_x,verbose=0)\n",
    "#                  if prediction<0:\n",
    "#                     prediction=0\n",
    "                 all_data_test.append(prediction)\n",
    "                 full_df_test_forpred.iloc[i,-1]=prediction"
   ]
  },
  {
   "cell_type": "code",
   "execution_count": null,
   "id": "287b69bf",
   "metadata": {},
   "outputs": [],
   "source": [
    "ev(test_y,np.array(all_data_test))"
   ]
  },
  {
   "cell_type": "code",
   "execution_count": null,
   "id": "e2500015",
   "metadata": {},
   "outputs": [],
   "source": [
    "test_y"
   ]
  },
  {
   "cell_type": "code",
   "execution_count": null,
   "id": "b3860832",
   "metadata": {},
   "outputs": [],
   "source": [
    "all_data_test"
   ]
  },
  {
   "cell_type": "code",
   "execution_count": null,
   "id": "df7f46c2",
   "metadata": {},
   "outputs": [],
   "source": [
    "# 看看test的结果\n",
    "plt.plot(range(len(all_data_test)), np.array(all_data_test).flatten(), label='Prediction')\n",
    "plt.plot(range(len(np.array(test_y))), np.array(test_y), label='TRUE')"
   ]
  },
  {
   "cell_type": "code",
   "execution_count": null,
   "id": "622a83fb",
   "metadata": {},
   "outputs": [],
   "source": [
    "# Recreate the exact same model\n",
    "new_pred_valid_y=my_model.predict(valid_X)\n",
    "ev(valid_y,new_pred_valid_y)\n"
   ]
  },
  {
   "cell_type": "code",
   "execution_count": null,
   "id": "23dca673",
   "metadata": {},
   "outputs": [],
   "source": [
    "# 查看valid集预测结果\n",
    "pred_valid_y = my_model.predict(valid_X)\n",
    "plt.plot(range(len(pred_valid_y)), pred_valid_y, label='Prediction')\n",
    "plt.plot(range(len(pred_valid_y)), valid_y, label='Ground Truth')\n",
    "plt.fill_between(range(len(pred_valid_y)), pred_valid_y.flatten(), valid_y.flatten(), color='MistyRose',label='error')\n",
    "plt.xlabel('Amount of samples')\n",
    "plt.ylabel('Prediction')\n",
    "plt.legend()\n",
    "plt.show()"
   ]
  },
  {
   "cell_type": "code",
   "execution_count": null,
   "id": "fbda38f4",
   "metadata": {},
   "outputs": [],
   "source": [
    "ev(valid_y,pred_valid_y)"
   ]
  },
  {
   "cell_type": "code",
   "execution_count": null,
   "id": "32063279",
   "metadata": {},
   "outputs": [],
   "source": [
    "# %%\n",
    "# Predicting\n",
    "pred_y = my_model.predict(test_X)"
   ]
  },
  {
   "cell_type": "code",
   "execution_count": null,
   "id": "7c1905f8",
   "metadata": {},
   "outputs": [],
   "source": [
    "pred_y.flatten()"
   ]
  },
  {
   "cell_type": "code",
   "execution_count": null,
   "id": "ef50ee1d",
   "metadata": {},
   "outputs": [],
   "source": [
    "# %% Plotting\n",
    "plt.plot(range(len(pred_y)), pred_y, label='Prediction')\n",
    "plt.plot(range(len(pred_y)), test_y_former, label='Ground Truth')\n",
    "plt.fill_between(range(len(pred_y)), pred_y.flatten(), test_y_former.flatten(), color='MistyRose',label='error')\n",
    "plt.xlabel('Amount of samples')\n",
    "plt.ylabel('Prediction')\n",
    "plt.legend()\n",
    "plt.show()"
   ]
  },
  {
   "cell_type": "code",
   "execution_count": null,
   "id": "2b9accdc",
   "metadata": {},
   "outputs": [],
   "source": [
    "# prediction of feature\n",
    "df_30_days_past=gf_df_valid.iloc[-7:,:]\n",
    "df_30_days_past.tail()"
   ]
  },
  {
   "cell_type": "code",
   "execution_count": null,
   "id": "dd8377c2",
   "metadata": {},
   "outputs": [],
   "source": [
    "df_30_days_future=pd.read_csv('.\\\\data\\\\GF001\\\\04 Fore_NWP_GF.csv',parse_dates=[\"Datetime\"],index_col=[0])\n",
    "df_30_days_future[\"Power(MW)\"]=0\n",
    "df_30_days_future"
   ]
  },
  {
   "cell_type": "code",
   "execution_count": null,
   "id": "92c88fd4",
   "metadata": {},
   "outputs": [],
   "source": [
    "old_scaled_array=scaler.transform(df_30_days_past)"
   ]
  },
  {
   "cell_type": "code",
   "execution_count": null,
   "id": "067e3278",
   "metadata": {},
   "outputs": [],
   "source": [
    "new_scaled_array=scaler.transform(df_30_days_future)"
   ]
  },
  {
   "cell_type": "code",
   "execution_count": null,
   "id": "f0a32c2a",
   "metadata": {},
   "outputs": [],
   "source": [
    "new_scaled_df=pd.DataFrame(new_scaled_array)\n",
    "new_scaled_df.iloc[:,-1]=np.nan\n",
    "full_df=pd.concat([pd.DataFrame(old_scaled_array),new_scaled_df]).reset_index().drop([\"index\"],axis=1)\n",
    "full_df"
   ]
  },
  {
   "cell_type": "code",
   "execution_count": null,
   "id": "15adc508",
   "metadata": {},
   "outputs": [],
   "source": [
    "full_df_scaled_array=full_df.values\n",
    "all_data=[]\n",
    "time_step=7\n",
    "for i in range(time_step,len(full_df_scaled_array)):\n",
    "      data_x=[]\n",
    "      data_x.append( full_df_scaled_array[i-time_step :i , 0:full_df_scaled_array.shape[1]])\n",
    "      data_x=np.array(data_x)\n",
    "      prediction=grid_model.predict(data_x)\n",
    "#       if prediction<0:\n",
    "#             prediction=0\n",
    "      all_data.append(prediction)\n",
    "      full_df.iloc[i,-1]=prediction\n",
    "#       print('?',full_df_scaled_array[i,-1])\n",
    "#       print(full_df.values[i,-1])"
   ]
  },
  {
   "cell_type": "code",
   "execution_count": null,
   "id": "cb976b93",
   "metadata": {},
   "outputs": [],
   "source": [
    "len(all_data)"
   ]
  },
  {
   "cell_type": "code",
   "execution_count": null,
   "id": "36d518be",
   "metadata": {},
   "outputs": [],
   "source": [
    "# 这是没有经过归一化逆变换的图\n",
    "plt.plot(range(len(np.array(all_data).flatten())), np.array(all_data).flatten(), label='Prediction')"
   ]
  },
  {
   "cell_type": "code",
   "execution_count": null,
   "id": "499114cb",
   "metadata": {},
   "outputs": [],
   "source": [
    "# # 这块地方涉及归一化的反变换，但是我感觉有点问题\n",
    "# new_array=np.array(all_data)\n",
    "# new_array=new_array.reshape(-1,1)\n",
    "# prediction_copies_array = np.repeat(new_array,7, axis=-1)\n",
    "# y_pred_future_30_days = scaler.inverse_transform(np.reshape(prediction_copies_array,(len(new_array),7)))[:,0]\n",
    "# print(y_pred_future_30_days)"
   ]
  },
  {
   "cell_type": "code",
   "execution_count": null,
   "id": "1029a600",
   "metadata": {},
   "outputs": [],
   "source": [
    "# plt.plot(range(len(y_pred_future_30_days)), y_pred_future_30_days, label='Prediction')"
   ]
  },
  {
   "cell_type": "code",
   "execution_count": null,
   "id": "99fb7130",
   "metadata": {},
   "outputs": [],
   "source": [
    "# #绘制整体发电量图（反变换有点问题）\n",
    "# total = np.hstack((df_y,y_pred_future_30_days))\n",
    "# plt.plot(range(len(total)), total, label='Prediction',color='coral')\n",
    "# plt.plot(range(len(df_y)), df_y, label='Prediction')"
   ]
  },
  {
   "cell_type": "code",
   "execution_count": null,
   "id": "b76fcc54",
   "metadata": {},
   "outputs": [],
   "source": [
    "df_scaled=scaler.transform(df)"
   ]
  },
  {
   "cell_type": "code",
   "execution_count": null,
   "id": "96df8be5",
   "metadata": {},
   "outputs": [],
   "source": [
    "df_scaled_X,df_scaled_y=createXY(np.array(df_scaled))"
   ]
  },
  {
   "cell_type": "code",
   "execution_count": null,
   "id": "f6b3b081",
   "metadata": {},
   "outputs": [],
   "source": [
    "#绘制整体发电量图这个是未经过反变换的\n",
    "#有点问题，是前面缺了点东西，\n",
    "total = np.hstack((df_scaled_y,np.array(all_data).flatten()))\n",
    "plt.plot(range(len(total)), total, label='Prediction',color='coral')\n",
    "plt.plot(range(len(df_scaled_y)), df_scaled_y, label='Prediction')"
   ]
  },
  {
   "cell_type": "code",
   "execution_count": null,
   "id": "ffb97020",
   "metadata": {},
   "outputs": [],
   "source": []
  }
 ],
 "metadata": {
  "kernelspec": {
   "display_name": "Python 3 (ipykernel)",
   "language": "python",
   "name": "python3"
  },
  "language_info": {
   "codemirror_mode": {
    "name": "ipython",
    "version": 3
   },
   "file_extension": ".py",
   "mimetype": "text/x-python",
   "name": "python",
   "nbconvert_exporter": "python",
   "pygments_lexer": "ipython3",
   "version": "3.10.4"
  }
 },
 "nbformat": 4,
 "nbformat_minor": 5
}
