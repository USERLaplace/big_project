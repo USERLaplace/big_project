{
 "cells": [
  {
   "cell_type": "code",
   "execution_count": 1,
   "id": "eb46cc2e",
   "metadata": {},
   "outputs": [],
   "source": [
    "import numpy as np\n",
    "import pandas as pd\n",
    "import sklearn\n",
    "from matplotlib import pyplot as plt\n",
    "from tensorflow.keras.models import Sequential\n",
    "from tensorflow.keras.layers import LSTM\n",
    "from tensorflow.keras.layers import Dense, Dropout\n",
    "from sklearn.preprocessing import MinMaxScaler\n",
    "from keras.wrappers.scikit_learn import KerasRegressor\n",
    "from sklearn.model_selection import GridSearchCV\n",
    "import tensorflow as tf\n"
   ]
  },
  {
   "cell_type": "code",
   "execution_count": 2,
   "id": "e6f23a1b",
   "metadata": {},
   "outputs": [],
   "source": [
    "# 预处理输入数据\n",
    "def preprocessing(nmp_df,power_df):\n",
    "    nmp_df.head(10)\n",
    "    power_df.head(10)\n",
    "    fix_df=pd.merge(nmp_df, power_df, on=['Datetime'], how='left')\n",
    "    fix_df.head(10)\n",
    "    fix_df.describe()\n",
    "\n",
    "    return fix_df"
   ]
  },
  {
   "cell_type": "code",
   "execution_count": 3,
   "id": "ffbac4aa",
   "metadata": {},
   "outputs": [],
   "source": [
    "# 读取数据\n",
    "his_nmp_fd_df = pd.read_csv('.\\\\data\\\\FD001\\\\03 His_NWP_FD.csv',parse_dates=[\"Datetime\"],index_col=[0])\n",
    "his_power_fd_df = pd.read_csv('.\\\\data\\\\FD001\\\\02_His_Power_FD.csv',parse_dates=[\"Datetime\"],index_col=[0])\n",
    "his_fd_df=preprocessing(his_nmp_fd_df,his_power_fd_df)\n",
    "his_fd_df.to_csv('his_df.csv',encoding = 'utf-8') #存储合并后数据"
   ]
  },
  {
   "cell_type": "code",
   "execution_count": 4,
   "id": "a0cd736a",
   "metadata": {},
   "outputs": [
    {
     "data": {
      "text/html": [
       "<div>\n",
       "<style scoped>\n",
       "    .dataframe tbody tr th:only-of-type {\n",
       "        vertical-align: middle;\n",
       "    }\n",
       "\n",
       "    .dataframe tbody tr th {\n",
       "        vertical-align: top;\n",
       "    }\n",
       "\n",
       "    .dataframe thead th {\n",
       "        text-align: right;\n",
       "    }\n",
       "</style>\n",
       "<table border=\"1\" class=\"dataframe\">\n",
       "  <thead>\n",
       "    <tr style=\"text-align: right;\">\n",
       "      <th></th>\n",
       "      <th>Speed10</th>\n",
       "      <th>Direction10</th>\n",
       "      <th>Speed30</th>\n",
       "      <th>Direction30</th>\n",
       "      <th>Speed50</th>\n",
       "      <th>Direction50</th>\n",
       "      <th>Speed70</th>\n",
       "      <th>Direction70</th>\n",
       "      <th>Speed90</th>\n",
       "      <th>Direction90</th>\n",
       "      <th>Speed100</th>\n",
       "      <th>Direction100</th>\n",
       "      <th>Temper</th>\n",
       "      <th>Pressure</th>\n",
       "      <th>Humidity</th>\n",
       "      <th>Power(MW)</th>\n",
       "    </tr>\n",
       "    <tr>\n",
       "      <th>Datetime</th>\n",
       "      <th></th>\n",
       "      <th></th>\n",
       "      <th></th>\n",
       "      <th></th>\n",
       "      <th></th>\n",
       "      <th></th>\n",
       "      <th></th>\n",
       "      <th></th>\n",
       "      <th></th>\n",
       "      <th></th>\n",
       "      <th></th>\n",
       "      <th></th>\n",
       "      <th></th>\n",
       "      <th></th>\n",
       "      <th></th>\n",
       "      <th></th>\n",
       "    </tr>\n",
       "  </thead>\n",
       "  <tbody>\n",
       "    <tr>\n",
       "      <th>2022-07-15 00:00:00</th>\n",
       "      <td>3.3696</td>\n",
       "      <td>290.3172</td>\n",
       "      <td>4.1829</td>\n",
       "      <td>295.0334</td>\n",
       "      <td>4.9253</td>\n",
       "      <td>297.9698</td>\n",
       "      <td>5.6139</td>\n",
       "      <td>300.0360</td>\n",
       "      <td>6.2446</td>\n",
       "      <td>301.5774</td>\n",
       "      <td>6.5423</td>\n",
       "      <td>302.1353</td>\n",
       "      <td>27.59</td>\n",
       "      <td>1003.96</td>\n",
       "      <td>93.20</td>\n",
       "      <td>0.0216</td>\n",
       "    </tr>\n",
       "    <tr>\n",
       "      <th>2022-07-15 00:15:00</th>\n",
       "      <td>3.3092</td>\n",
       "      <td>291.4477</td>\n",
       "      <td>4.1100</td>\n",
       "      <td>296.1286</td>\n",
       "      <td>4.8389</td>\n",
       "      <td>299.0546</td>\n",
       "      <td>5.5137</td>\n",
       "      <td>301.1241</td>\n",
       "      <td>6.1388</td>\n",
       "      <td>302.6287</td>\n",
       "      <td>6.4347</td>\n",
       "      <td>303.2702</td>\n",
       "      <td>27.61</td>\n",
       "      <td>1004.37</td>\n",
       "      <td>93.05</td>\n",
       "      <td>0.0218</td>\n",
       "    </tr>\n",
       "    <tr>\n",
       "      <th>2022-07-15 00:30:00</th>\n",
       "      <td>3.4671</td>\n",
       "      <td>295.0868</td>\n",
       "      <td>4.2669</td>\n",
       "      <td>299.3285</td>\n",
       "      <td>5.0000</td>\n",
       "      <td>302.0054</td>\n",
       "      <td>5.6718</td>\n",
       "      <td>303.8582</td>\n",
       "      <td>6.2926</td>\n",
       "      <td>305.2307</td>\n",
       "      <td>6.5832</td>\n",
       "      <td>305.7906</td>\n",
       "      <td>27.62</td>\n",
       "      <td>1004.25</td>\n",
       "      <td>92.96</td>\n",
       "      <td>0.4021</td>\n",
       "    </tr>\n",
       "    <tr>\n",
       "      <th>2022-07-15 00:45:00</th>\n",
       "      <td>3.6896</td>\n",
       "      <td>296.9123</td>\n",
       "      <td>4.4933</td>\n",
       "      <td>300.7888</td>\n",
       "      <td>5.2253</td>\n",
       "      <td>303.4468</td>\n",
       "      <td>5.9067</td>\n",
       "      <td>305.1430</td>\n",
       "      <td>6.5341</td>\n",
       "      <td>306.5367</td>\n",
       "      <td>6.8241</td>\n",
       "      <td>307.1386</td>\n",
       "      <td>27.62</td>\n",
       "      <td>1003.96</td>\n",
       "      <td>92.82</td>\n",
       "      <td>0.5867</td>\n",
       "    </tr>\n",
       "    <tr>\n",
       "      <th>2022-07-15 01:00:00</th>\n",
       "      <td>3.7095</td>\n",
       "      <td>298.4995</td>\n",
       "      <td>4.5220</td>\n",
       "      <td>302.3546</td>\n",
       "      <td>5.2791</td>\n",
       "      <td>304.8942</td>\n",
       "      <td>5.9740</td>\n",
       "      <td>306.6973</td>\n",
       "      <td>6.6113</td>\n",
       "      <td>307.9966</td>\n",
       "      <td>6.9170</td>\n",
       "      <td>308.5434</td>\n",
       "      <td>27.64</td>\n",
       "      <td>1003.68</td>\n",
       "      <td>92.59</td>\n",
       "      <td>0.3889</td>\n",
       "    </tr>\n",
       "  </tbody>\n",
       "</table>\n",
       "</div>"
      ],
      "text/plain": [
       "                     Speed10  Direction10  Speed30  Direction30  Speed50  \\\n",
       "Datetime                                                                   \n",
       "2022-07-15 00:00:00   3.3696     290.3172   4.1829     295.0334   4.9253   \n",
       "2022-07-15 00:15:00   3.3092     291.4477   4.1100     296.1286   4.8389   \n",
       "2022-07-15 00:30:00   3.4671     295.0868   4.2669     299.3285   5.0000   \n",
       "2022-07-15 00:45:00   3.6896     296.9123   4.4933     300.7888   5.2253   \n",
       "2022-07-15 01:00:00   3.7095     298.4995   4.5220     302.3546   5.2791   \n",
       "\n",
       "                     Direction50  Speed70  Direction70  Speed90  Direction90  \\\n",
       "Datetime                                                                       \n",
       "2022-07-15 00:00:00     297.9698   5.6139     300.0360   6.2446     301.5774   \n",
       "2022-07-15 00:15:00     299.0546   5.5137     301.1241   6.1388     302.6287   \n",
       "2022-07-15 00:30:00     302.0054   5.6718     303.8582   6.2926     305.2307   \n",
       "2022-07-15 00:45:00     303.4468   5.9067     305.1430   6.5341     306.5367   \n",
       "2022-07-15 01:00:00     304.8942   5.9740     306.6973   6.6113     307.9966   \n",
       "\n",
       "                     Speed100  Direction100  Temper  Pressure  Humidity  \\\n",
       "Datetime                                                                  \n",
       "2022-07-15 00:00:00    6.5423      302.1353   27.59   1003.96     93.20   \n",
       "2022-07-15 00:15:00    6.4347      303.2702   27.61   1004.37     93.05   \n",
       "2022-07-15 00:30:00    6.5832      305.7906   27.62   1004.25     92.96   \n",
       "2022-07-15 00:45:00    6.8241      307.1386   27.62   1003.96     92.82   \n",
       "2022-07-15 01:00:00    6.9170      308.5434   27.64   1003.68     92.59   \n",
       "\n",
       "                     Power(MW)  \n",
       "Datetime                        \n",
       "2022-07-15 00:00:00     0.0216  \n",
       "2022-07-15 00:15:00     0.0218  \n",
       "2022-07-15 00:30:00     0.4021  \n",
       "2022-07-15 00:45:00     0.5867  \n",
       "2022-07-15 01:00:00     0.3889  "
      ]
     },
     "execution_count": 4,
     "metadata": {},
     "output_type": "execute_result"
    }
   ],
   "source": [
    "df=pd.read_csv('his_df.csv',parse_dates=[\"Datetime\"],index_col=[0])\n",
    "df.head()"
   ]
  },
  {
   "cell_type": "code",
   "execution_count": 5,
   "id": "90a59350",
   "metadata": {},
   "outputs": [
    {
     "data": {
      "text/html": [
       "<div>\n",
       "<style scoped>\n",
       "    .dataframe tbody tr th:only-of-type {\n",
       "        vertical-align: middle;\n",
       "    }\n",
       "\n",
       "    .dataframe tbody tr th {\n",
       "        vertical-align: top;\n",
       "    }\n",
       "\n",
       "    .dataframe thead th {\n",
       "        text-align: right;\n",
       "    }\n",
       "</style>\n",
       "<table border=\"1\" class=\"dataframe\">\n",
       "  <thead>\n",
       "    <tr style=\"text-align: right;\">\n",
       "      <th></th>\n",
       "      <th>Speed10</th>\n",
       "      <th>Direction10</th>\n",
       "      <th>Speed30</th>\n",
       "      <th>Direction30</th>\n",
       "      <th>Speed50</th>\n",
       "      <th>Direction50</th>\n",
       "      <th>Speed70</th>\n",
       "      <th>Direction70</th>\n",
       "      <th>Speed90</th>\n",
       "      <th>Direction90</th>\n",
       "      <th>Speed100</th>\n",
       "      <th>Direction100</th>\n",
       "      <th>Temper</th>\n",
       "      <th>Pressure</th>\n",
       "      <th>Humidity</th>\n",
       "      <th>Power(MW)</th>\n",
       "    </tr>\n",
       "    <tr>\n",
       "      <th>Datetime</th>\n",
       "      <th></th>\n",
       "      <th></th>\n",
       "      <th></th>\n",
       "      <th></th>\n",
       "      <th></th>\n",
       "      <th></th>\n",
       "      <th></th>\n",
       "      <th></th>\n",
       "      <th></th>\n",
       "      <th></th>\n",
       "      <th></th>\n",
       "      <th></th>\n",
       "      <th></th>\n",
       "      <th></th>\n",
       "      <th></th>\n",
       "      <th></th>\n",
       "    </tr>\n",
       "  </thead>\n",
       "  <tbody>\n",
       "    <tr>\n",
       "      <th>2022-07-21 22:45:00</th>\n",
       "      <td>4.5521</td>\n",
       "      <td>307.3230</td>\n",
       "      <td>6.1812</td>\n",
       "      <td>312.0492</td>\n",
       "      <td>7.6793</td>\n",
       "      <td>314.6835</td>\n",
       "      <td>8.4867</td>\n",
       "      <td>316.0503</td>\n",
       "      <td>8.6879</td>\n",
       "      <td>316.8657</td>\n",
       "      <td>8.7815</td>\n",
       "      <td>317.1689</td>\n",
       "      <td>27.90</td>\n",
       "      <td>1009.53</td>\n",
       "      <td>87.03</td>\n",
       "      <td>2.3584</td>\n",
       "    </tr>\n",
       "    <tr>\n",
       "      <th>2022-07-21 23:00:00</th>\n",
       "      <td>4.5931</td>\n",
       "      <td>308.9910</td>\n",
       "      <td>5.4076</td>\n",
       "      <td>312.4519</td>\n",
       "      <td>6.1518</td>\n",
       "      <td>314.8683</td>\n",
       "      <td>6.7197</td>\n",
       "      <td>316.4472</td>\n",
       "      <td>6.8998</td>\n",
       "      <td>317.2906</td>\n",
       "      <td>6.9864</td>\n",
       "      <td>317.6105</td>\n",
       "      <td>27.92</td>\n",
       "      <td>1010.14</td>\n",
       "      <td>0.00</td>\n",
       "      <td>2.8011</td>\n",
       "    </tr>\n",
       "    <tr>\n",
       "      <th>2022-07-21 23:15:00</th>\n",
       "      <td>3.3338</td>\n",
       "      <td>303.4994</td>\n",
       "      <td>4.6673</td>\n",
       "      <td>310.4815</td>\n",
       "      <td>5.9120</td>\n",
       "      <td>314.1776</td>\n",
       "      <td>6.7329</td>\n",
       "      <td>316.0832</td>\n",
       "      <td>6.9197</td>\n",
       "      <td>316.9911</td>\n",
       "      <td>7.0061</td>\n",
       "      <td>317.3137</td>\n",
       "      <td>27.44</td>\n",
       "      <td>1009.89</td>\n",
       "      <td>0.00</td>\n",
       "      <td>3.6597</td>\n",
       "    </tr>\n",
       "    <tr>\n",
       "      <th>2022-07-21 23:30:00</th>\n",
       "      <td>3.2299</td>\n",
       "      <td>299.8989</td>\n",
       "      <td>4.5556</td>\n",
       "      <td>308.4045</td>\n",
       "      <td>5.8027</td>\n",
       "      <td>312.7652</td>\n",
       "      <td>6.6115</td>\n",
       "      <td>314.9387</td>\n",
       "      <td>6.7961</td>\n",
       "      <td>315.8942</td>\n",
       "      <td>6.8890</td>\n",
       "      <td>316.2939</td>\n",
       "      <td>27.46</td>\n",
       "      <td>1009.84</td>\n",
       "      <td>0.00</td>\n",
       "      <td>3.4466</td>\n",
       "    </tr>\n",
       "    <tr>\n",
       "      <th>2022-07-21 23:45:00</th>\n",
       "      <td>3.4215</td>\n",
       "      <td>297.3140</td>\n",
       "      <td>4.7503</td>\n",
       "      <td>306.2668</td>\n",
       "      <td>6.0103</td>\n",
       "      <td>311.0873</td>\n",
       "      <td>6.7556</td>\n",
       "      <td>313.3806</td>\n",
       "      <td>6.9372</td>\n",
       "      <td>314.3576</td>\n",
       "      <td>7.0216</td>\n",
       "      <td>314.8269</td>\n",
       "      <td>27.46</td>\n",
       "      <td>1009.69</td>\n",
       "      <td>0.00</td>\n",
       "      <td>3.0725</td>\n",
       "    </tr>\n",
       "  </tbody>\n",
       "</table>\n",
       "</div>"
      ],
      "text/plain": [
       "                     Speed10  Direction10  Speed30  Direction30  Speed50  \\\n",
       "Datetime                                                                   \n",
       "2022-07-21 22:45:00   4.5521     307.3230   6.1812     312.0492   7.6793   \n",
       "2022-07-21 23:00:00   4.5931     308.9910   5.4076     312.4519   6.1518   \n",
       "2022-07-21 23:15:00   3.3338     303.4994   4.6673     310.4815   5.9120   \n",
       "2022-07-21 23:30:00   3.2299     299.8989   4.5556     308.4045   5.8027   \n",
       "2022-07-21 23:45:00   3.4215     297.3140   4.7503     306.2668   6.0103   \n",
       "\n",
       "                     Direction50  Speed70  Direction70  Speed90  Direction90  \\\n",
       "Datetime                                                                       \n",
       "2022-07-21 22:45:00     314.6835   8.4867     316.0503   8.6879     316.8657   \n",
       "2022-07-21 23:00:00     314.8683   6.7197     316.4472   6.8998     317.2906   \n",
       "2022-07-21 23:15:00     314.1776   6.7329     316.0832   6.9197     316.9911   \n",
       "2022-07-21 23:30:00     312.7652   6.6115     314.9387   6.7961     315.8942   \n",
       "2022-07-21 23:45:00     311.0873   6.7556     313.3806   6.9372     314.3576   \n",
       "\n",
       "                     Speed100  Direction100  Temper  Pressure  Humidity  \\\n",
       "Datetime                                                                  \n",
       "2022-07-21 22:45:00    8.7815      317.1689   27.90   1009.53     87.03   \n",
       "2022-07-21 23:00:00    6.9864      317.6105   27.92   1010.14      0.00   \n",
       "2022-07-21 23:15:00    7.0061      317.3137   27.44   1009.89      0.00   \n",
       "2022-07-21 23:30:00    6.8890      316.2939   27.46   1009.84      0.00   \n",
       "2022-07-21 23:45:00    7.0216      314.8269   27.46   1009.69      0.00   \n",
       "\n",
       "                     Power(MW)  \n",
       "Datetime                        \n",
       "2022-07-21 22:45:00     2.3584  \n",
       "2022-07-21 23:00:00     2.8011  \n",
       "2022-07-21 23:15:00     3.6597  \n",
       "2022-07-21 23:30:00     3.4466  \n",
       "2022-07-21 23:45:00     3.0725  "
      ]
     },
     "execution_count": 5,
     "metadata": {},
     "output_type": "execute_result"
    }
   ],
   "source": [
    "df.tail()"
   ]
  },
  {
   "cell_type": "code",
   "execution_count": 6,
   "id": "4fc1d284",
   "metadata": {},
   "outputs": [
    {
     "data": {
      "text/plain": [
       "(672, 16)"
      ]
     },
     "execution_count": 6,
     "metadata": {},
     "output_type": "execute_result"
    }
   ],
   "source": [
    "df.shape"
   ]
  },
  {
   "cell_type": "code",
   "execution_count": 7,
   "id": "0804a838",
   "metadata": {},
   "outputs": [],
   "source": [
    "# # 划分train valid test集\n",
    "# fd_df_train = df[:int(0.6*len(df))]\n",
    "# fd_df_valid = df[int(0.6*len(df)):int(0.8*len(df))]\n",
    "# fd_df_test =df[int(0.8*len(df)):]"
   ]
  },
  {
   "cell_type": "code",
   "execution_count": 8,
   "id": "ee3e985b",
   "metadata": {},
   "outputs": [],
   "source": [
    "# 划分train valid test集\n",
    "fd_df_train = df[:int(0.6*len(df))]\n",
    "fd_df_valid = df[int(0.8*len(df)):]\n",
    "fd_df_test =df[int(0.8*len(df)):]"
   ]
  },
  {
   "cell_type": "code",
   "execution_count": 9,
   "id": "60fc179f",
   "metadata": {},
   "outputs": [],
   "source": [
    "# 对数据进行归一化处理\n",
    "scaler = MinMaxScaler(feature_range=(0,1))\n",
    "scaler = scaler.fit(df)\n",
    "df_for_training_scaled = scaler.transform(fd_df_train)\n",
    "df_for_validing_scaled=scaler.transform(fd_df_valid)\n",
    "df_for_testing_scaled=scaler.transform(fd_df_test)"
   ]
  },
  {
   "cell_type": "code",
   "execution_count": 10,
   "id": "5e3af1bb",
   "metadata": {},
   "outputs": [],
   "source": [
    "# 分离x与y\n",
    "def createXY(array, days_used_to_train=7):\n",
    "    features = list()\n",
    "    labels = list()\n",
    "\n",
    "    for i in range(days_used_to_train, len(array)):\n",
    "        features.append(array[i-days_used_to_train:i, :])\n",
    "        labels.append(array[i, -1])\n",
    "    return np.array(features), np.array(labels)\n",
    "\n",
    "train_X,train_y=createXY(df_for_training_scaled)\n",
    "valid_X,valid_y=createXY(df_for_validing_scaled)\n",
    "test_X,test_y=createXY(df_for_testing_scaled)"
   ]
  },
  {
   "cell_type": "code",
   "execution_count": 11,
   "id": "809570c8",
   "metadata": {},
   "outputs": [],
   "source": [
    "df_X,df_y=createXY(np.array(df))"
   ]
  },
  {
   "cell_type": "code",
   "execution_count": 12,
   "id": "10d79b7a",
   "metadata": {},
   "outputs": [
    {
     "data": {
      "text/plain": [
       "(396, 7, 16)"
      ]
     },
     "execution_count": 12,
     "metadata": {},
     "output_type": "execute_result"
    }
   ],
   "source": [
    "train_X.shape"
   ]
  },
  {
   "cell_type": "code",
   "execution_count": 13,
   "id": "dc87c3bf",
   "metadata": {},
   "outputs": [
    {
     "data": {
      "text/plain": [
       "(396,)"
      ]
     },
     "execution_count": 13,
     "metadata": {},
     "output_type": "execute_result"
    }
   ],
   "source": [
    "train_y.shape"
   ]
  },
  {
   "cell_type": "code",
   "execution_count": 14,
   "id": "1154c314",
   "metadata": {
    "scrolled": true
   },
   "outputs": [
    {
     "data": {
      "text/plain": [
       "[<matplotlib.lines.Line2D at 0x2ee8371b6a0>]"
      ]
     },
     "execution_count": 14,
     "metadata": {},
     "output_type": "execute_result"
    },
    {
     "data": {
      "image/png": "[encoded data removed]",
      "text/plain": [
       "<Figure size 432x288 with 1 Axes>"
      ]
     },
     "metadata": {
      "needs_background": "light"
     },
     "output_type": "display_data"
    }
   ],
   "source": [
    "plt.plot(range(len(df_y)), df_y, label='history')"
   ]
  },
  {
   "cell_type": "code",
   "execution_count": 15,
   "id": "8f34c385",
   "metadata": {},
   "outputs": [],
   "source": [
    "# 定义一个新的评价函数\n",
    "def ev(y_true, y_predict):\n",
    "    difference=(abs(np.array(y_true) - np.array(y_predict.flatten()))).sum()\n",
    "    return float(difference) "
   ]
  },
  {
   "cell_type": "code",
   "execution_count": 16,
   "id": "eb8407e6",
   "metadata": {},
   "outputs": [],
   "source": [
    "\n",
    "def build_model(size):\n",
    "    tf.random.set_seed(1) #设置随机数种子\n",
    "    # Create grid_model\n",
    "    grid_model = tf.keras.Sequential()\n",
    "    grid_model.add(tf.keras.layers.LSTM(units=64))\n",
    "    grid_model.add(tf.keras.layers.Dense(64))\n",
    "    grid_model.add(tf.keras.layers.Dense(size))\n",
    "    grid_model.add(tf.keras.layers.Dense(1))\n",
    "\n",
    "    # Compile the grid_model\n",
    "    grid_model.compile(\n",
    "    optimizer='adam',\n",
    "    loss='mse')\n",
    "    \n",
    "    return grid_model"
   ]
  },
  {
   "cell_type": "code",
   "execution_count": 17,
   "id": "29f0cd3c",
   "metadata": {},
   "outputs": [],
   "source": [
    "bestscore=1000\n",
    "bestmodel=[]\n",
    "flag=0\n"
   ]
  },
  {
   "cell_type": "code",
   "execution_count": 18,
   "id": "b70cc495",
   "metadata": {},
   "outputs": [
    {
     "name": "stdout",
     "output_type": "stream",
     "text": [
      "3.4005179791020264 num: 0 size= 32 batch_size= 16 epochs= 32\n"
     ]
    },
    {
     "name": "stderr",
     "output_type": "stream",
     "text": [
      "WARNING:absl:Found untraced functions such as lstm_cell_layer_call_fn, lstm_cell_layer_call_and_return_conditional_losses, lstm_cell_layer_call_fn, lstm_cell_layer_call_and_return_conditional_losses, lstm_cell_layer_call_and_return_conditional_losses while saving (showing 5 of 5). These functions will not be directly callable after loading.\n"
     ]
    },
    {
     "name": "stdout",
     "output_type": "stream",
     "text": [
      "INFO:tensorflow:Assets written to: keras_model_tf_version\\assets\n"
     ]
    },
    {
     "name": "stderr",
     "output_type": "stream",
     "text": [
      "INFO:tensorflow:Assets written to: keras_model_tf_version\\assets\n",
      "WARNING:absl:<keras.layers.recurrent.LSTMCell object at 0x000002EE83691490> has the same name 'LSTMCell' as a built-in Keras object. Consider renaming <class 'keras.layers.recurrent.LSTMCell'> to avoid naming conflicts when loading with `tf.keras.models.load_model`. If renaming is not possible, pass the object in the `custom_objects` parameter of the load function.\n"
     ]
    },
    {
     "name": "stdout",
     "output_type": "stream",
     "text": [
      "4.5389703551910525 num: 1 size= 32 batch_size= 16 epochs= 34\n",
      "2.6571614834099377 num: 2 size= 32 batch_size= 16 epochs= 36\n"
     ]
    },
    {
     "name": "stderr",
     "output_type": "stream",
     "text": [
      "WARNING:absl:Found untraced functions such as lstm_cell_2_layer_call_fn, lstm_cell_2_layer_call_and_return_conditional_losses, lstm_cell_2_layer_call_fn, lstm_cell_2_layer_call_and_return_conditional_losses, lstm_cell_2_layer_call_and_return_conditional_losses while saving (showing 5 of 5). These functions will not be directly callable after loading.\n"
     ]
    },
    {
     "name": "stdout",
     "output_type": "stream",
     "text": [
      "INFO:tensorflow:Assets written to: keras_model_tf_version\\assets\n"
     ]
    },
    {
     "name": "stderr",
     "output_type": "stream",
     "text": [
      "INFO:tensorflow:Assets written to: keras_model_tf_version\\assets\n",
      "WARNING:absl:<keras.layers.recurrent.LSTMCell object at 0x000002EE98EDAAC0> has the same name 'LSTMCell' as a built-in Keras object. Consider renaming <class 'keras.layers.recurrent.LSTMCell'> to avoid naming conflicts when loading with `tf.keras.models.load_model`. If renaming is not possible, pass the object in the `custom_objects` parameter of the load function.\n"
     ]
    },
    {
     "name": "stdout",
     "output_type": "stream",
     "text": [
      "2.989292898139901 num: 3 size= 32 batch_size= 16 epochs= 38\n",
      "2.6889037823592 num: 4 size= 32 batch_size= 16 epochs= 40\n",
      "2.7913304211963013 num: 5 size= 32 batch_size= 16 epochs= 42\n",
      "2.801465089843978 num: 6 size= 32 batch_size= 16 epochs= 44\n",
      "2.733461309891471 num: 7 size= 32 batch_size= 16 epochs= 46\n",
      "3.168476664975202 num: 8 size= 32 batch_size= 16 epochs= 48\n",
      "3.305146702578776 num: 9 size= 32 batch_size= 16 epochs= 50\n",
      "5.030162937757289 num: 10 size= 32 batch_size= 16 epochs= 52\n",
      "4.1521066568024665 num: 11 size= 32 batch_size= 16 epochs= 54\n",
      "5.403505444439495 num: 12 size= 32 batch_size= 16 epochs= 56\n",
      "5.653913172813846 num: 13 size= 32 batch_size= 16 epochs= 58\n",
      "4.717168590599812 num: 14 size= 32 batch_size= 16 epochs= 60\n",
      "3.9417656044092 num: 15 size= 32 batch_size= 16 epochs= 62\n",
      "3.4005179791020264 num: 16 size= 32 batch_size= 24 epochs= 32\n",
      "4.5389703551910525 num: 17 size= 32 batch_size= 24 epochs= 34\n",
      "2.6571614834099377 num: 18 size= 32 batch_size= 24 epochs= 36\n",
      "2.989292898139901 num: 19 size= 32 batch_size= 24 epochs= 38\n",
      "2.6889037823592 num: 20 size= 32 batch_size= 24 epochs= 40\n",
      "2.7913304211963013 num: 21 size= 32 batch_size= 24 epochs= 42\n",
      "2.801465089843978 num: 22 size= 32 batch_size= 24 epochs= 44\n",
      "2.733461309891471 num: 23 size= 32 batch_size= 24 epochs= 46\n",
      "3.168476664975202 num: 24 size= 32 batch_size= 24 epochs= 48\n",
      "3.305146702578776 num: 25 size= 32 batch_size= 24 epochs= 50\n",
      "5.030162937757289 num: 26 size= 32 batch_size= 24 epochs= 52\n",
      "4.1521066568024665 num: 27 size= 32 batch_size= 24 epochs= 54\n",
      "5.403505444439495 num: 28 size= 32 batch_size= 24 epochs= 56\n",
      "5.653913172813846 num: 29 size= 32 batch_size= 24 epochs= 58\n",
      "4.717168590599812 num: 30 size= 32 batch_size= 24 epochs= 60\n",
      "3.9417656044092 num: 31 size= 32 batch_size= 24 epochs= 62\n",
      "3.4005179791020264 num: 32 size= 32 batch_size= 32 epochs= 32\n",
      "4.5389703551910525 num: 33 size= 32 batch_size= 32 epochs= 34\n",
      "2.6571614834099377 num: 34 size= 32 batch_size= 32 epochs= 36\n",
      "2.989292898139901 num: 35 size= 32 batch_size= 32 epochs= 38\n",
      "2.6889037823592 num: 36 size= 32 batch_size= 32 epochs= 40\n",
      "2.7913304211963013 num: 37 size= 32 batch_size= 32 epochs= 42\n",
      "2.801465089843978 num: 38 size= 32 batch_size= 32 epochs= 44\n",
      "2.733461309891471 num: 39 size= 32 batch_size= 32 epochs= 46\n",
      "3.168476664975202 num: 40 size= 32 batch_size= 32 epochs= 48\n",
      "3.305146702578776 num: 41 size= 32 batch_size= 32 epochs= 50\n",
      "5.030162937757289 num: 42 size= 32 batch_size= 32 epochs= 52\n",
      "4.1521066568024665 num: 43 size= 32 batch_size= 32 epochs= 54\n",
      "5.403505444439495 num: 44 size= 32 batch_size= 32 epochs= 56\n",
      "5.653913172813846 num: 45 size= 32 batch_size= 32 epochs= 58\n",
      "4.717168590599812 num: 46 size= 32 batch_size= 32 epochs= 60\n",
      "3.9417656044092 num: 47 size= 32 batch_size= 32 epochs= 62\n",
      "3.765983609273465 num: 48 size= 64 batch_size= 16 epochs= 32\n",
      "4.069001498154498 num: 49 size= 64 batch_size= 16 epochs= 34\n",
      "2.616185293408663 num: 50 size= 64 batch_size= 16 epochs= 36\n"
     ]
    },
    {
     "name": "stderr",
     "output_type": "stream",
     "text": [
      "WARNING:absl:Found untraced functions such as lstm_cell_50_layer_call_fn, lstm_cell_50_layer_call_and_return_conditional_losses, lstm_cell_50_layer_call_fn, lstm_cell_50_layer_call_and_return_conditional_losses, lstm_cell_50_layer_call_and_return_conditional_losses while saving (showing 5 of 5). These functions will not be directly callable after loading.\n"
     ]
    },
    {
     "name": "stdout",
     "output_type": "stream",
     "text": [
      "INFO:tensorflow:Assets written to: keras_model_tf_version\\assets\n"
     ]
    },
    {
     "name": "stderr",
     "output_type": "stream",
     "text": [
      "INFO:tensorflow:Assets written to: keras_model_tf_version\\assets\n",
      "WARNING:absl:<keras.layers.recurrent.LSTMCell object at 0x000002EE9463D190> has the same name 'LSTMCell' as a built-in Keras object. Consider renaming <class 'keras.layers.recurrent.LSTMCell'> to avoid naming conflicts when loading with `tf.keras.models.load_model`. If renaming is not possible, pass the object in the `custom_objects` parameter of the load function.\n"
     ]
    },
    {
     "name": "stdout",
     "output_type": "stream",
     "text": [
      "2.7217546441932834 num: 51 size= 64 batch_size= 16 epochs= 38\n",
      "2.5843609515955883 num: 52 size= 64 batch_size= 16 epochs= 40\n"
     ]
    },
    {
     "name": "stderr",
     "output_type": "stream",
     "text": [
      "WARNING:absl:Found untraced functions such as lstm_cell_52_layer_call_fn, lstm_cell_52_layer_call_and_return_conditional_losses, lstm_cell_52_layer_call_fn, lstm_cell_52_layer_call_and_return_conditional_losses, lstm_cell_52_layer_call_and_return_conditional_losses while saving (showing 5 of 5). These functions will not be directly callable after loading.\n"
     ]
    },
    {
     "name": "stdout",
     "output_type": "stream",
     "text": [
      "INFO:tensorflow:Assets written to: keras_model_tf_version\\assets\n"
     ]
    },
    {
     "name": "stderr",
     "output_type": "stream",
     "text": [
      "INFO:tensorflow:Assets written to: keras_model_tf_version\\assets\n",
      "WARNING:absl:<keras.layers.recurrent.LSTMCell object at 0x000002EE98B96BE0> has the same name 'LSTMCell' as a built-in Keras object. Consider renaming <class 'keras.layers.recurrent.LSTMCell'> to avoid naming conflicts when loading with `tf.keras.models.load_model`. If renaming is not possible, pass the object in the `custom_objects` parameter of the load function.\n"
     ]
    },
    {
     "name": "stdout",
     "output_type": "stream",
     "text": [
      "3.177884534243751 num: 53 size= 64 batch_size= 16 epochs= 42\n",
      "2.869068502015792 num: 54 size= 64 batch_size= 16 epochs= 44\n",
      "3.5835940051342297 num: 55 size= 64 batch_size= 16 epochs= 46\n",
      "3.049584546296362 num: 56 size= 64 batch_size= 16 epochs= 48\n",
      "2.7066878835374046 num: 57 size= 64 batch_size= 16 epochs= 50\n",
      "4.6299679051021 num: 58 size= 64 batch_size= 16 epochs= 52\n",
      "3.4511261636348207 num: 59 size= 64 batch_size= 16 epochs= 54\n",
      "4.74916566647804 num: 60 size= 64 batch_size= 16 epochs= 56\n",
      "4.863487094506107 num: 61 size= 64 batch_size= 16 epochs= 58\n",
      "3.678637215286072 num: 62 size= 64 batch_size= 16 epochs= 60\n",
      "3.8995783095404177 num: 63 size= 64 batch_size= 16 epochs= 62\n",
      "3.765983609273465 num: 64 size= 64 batch_size= 24 epochs= 32\n",
      "4.069001498154498 num: 65 size= 64 batch_size= 24 epochs= 34\n",
      "2.616185293408663 num: 66 size= 64 batch_size= 24 epochs= 36\n",
      "2.7217546441932834 num: 67 size= 64 batch_size= 24 epochs= 38\n",
      "2.5843609515955883 num: 68 size= 64 batch_size= 24 epochs= 40\n",
      "3.177884534243751 num: 69 size= 64 batch_size= 24 epochs= 42\n",
      "2.869068502015792 num: 70 size= 64 batch_size= 24 epochs= 44\n",
      "3.5835940051342297 num: 71 size= 64 batch_size= 24 epochs= 46\n",
      "3.049584546296362 num: 72 size= 64 batch_size= 24 epochs= 48\n",
      "2.7066878835374046 num: 73 size= 64 batch_size= 24 epochs= 50\n",
      "4.6299679051021 num: 74 size= 64 batch_size= 24 epochs= 52\n",
      "3.4511261636348207 num: 75 size= 64 batch_size= 24 epochs= 54\n",
      "4.74916566647804 num: 76 size= 64 batch_size= 24 epochs= 56\n",
      "4.863487094506107 num: 77 size= 64 batch_size= 24 epochs= 58\n",
      "3.678637215286072 num: 78 size= 64 batch_size= 24 epochs= 60\n",
      "3.8995783095404177 num: 79 size= 64 batch_size= 24 epochs= 62\n",
      "3.765983609273465 num: 80 size= 64 batch_size= 32 epochs= 32\n",
      "4.069001498154498 num: 81 size= 64 batch_size= 32 epochs= 34\n",
      "2.616185293408663 num: 82 size= 64 batch_size= 32 epochs= 36\n",
      "2.7217546441932834 num: 83 size= 64 batch_size= 32 epochs= 38\n",
      "2.5843609515955883 num: 84 size= 64 batch_size= 32 epochs= 40\n",
      "3.177884534243751 num: 85 size= 64 batch_size= 32 epochs= 42\n",
      "2.869068502015792 num: 86 size= 64 batch_size= 32 epochs= 44\n",
      "3.5835940051342297 num: 87 size= 64 batch_size= 32 epochs= 46\n",
      "3.049584546296362 num: 88 size= 64 batch_size= 32 epochs= 48\n",
      "2.7066878835374046 num: 89 size= 64 batch_size= 32 epochs= 50\n",
      "4.6299679051021 num: 90 size= 64 batch_size= 32 epochs= 52\n",
      "3.4511261636348207 num: 91 size= 64 batch_size= 32 epochs= 54\n",
      "4.74916566647804 num: 92 size= 64 batch_size= 32 epochs= 56\n",
      "4.863487094506107 num: 93 size= 64 batch_size= 32 epochs= 58\n",
      "3.678637215286072 num: 94 size= 64 batch_size= 32 epochs= 60\n",
      "3.8995783095404177 num: 95 size= 64 batch_size= 32 epochs= 62\n",
      "2.5843609515955883 best_size= 64 best_batch_size= 16 best_epochs= 40\n"
     ]
    }
   ],
   "source": [
    "i=0\n",
    "best_size=0\n",
    "best_batch_size=0\n",
    "best_epochs=0\n",
    "for size in [32,64]:\n",
    "    for batch_size in [16,24,32]:\n",
    "        for epochs in range(32,64,2):\n",
    "            grid_model=build_model(size)\n",
    "            grid_model.fit(\n",
    "            train_X, train_y,\n",
    "            validation_data=(valid_X, valid_y),\n",
    "            batch_size=32,\n",
    "            epochs=epochs,\n",
    "            verbose=0)\n",
    "            pred_valid_y = grid_model.predict(valid_X)\n",
    "            score=ev(valid_y,pred_valid_y)\n",
    "            print(score,'num:',i,'size=',size,'batch_size=',batch_size,'epochs=',epochs)\n",
    "            i=i+1\n",
    "            if score<bestscore:\n",
    "                flag=1\n",
    "                bestscore=score\n",
    "                best_size=size\n",
    "                best_batch_size=batch_size\n",
    "                best_epochs=epochs\n",
    "                # Export the model to a SavedModel\n",
    "                grid_model.save('keras_model_tf_version', save_format='tf')\n",
    "print(bestscore,'best_size=',best_size,'best_batch_size=',best_batch_size,'best_epochs=',best_epochs)"
   ]
  },
  {
   "cell_type": "code",
   "execution_count": 19,
   "id": "622a83fb",
   "metadata": {},
   "outputs": [
    {
     "data": {
      "text/plain": [
       "2.5843609515955883"
      ]
     },
     "execution_count": 19,
     "metadata": {},
     "output_type": "execute_result"
    }
   ],
   "source": [
    "# Recreate the exact same model\n",
    "my_model = tf.keras.models.load_model('keras_model_tf_version')\n",
    "new_pred_valid_y=my_model.predict(valid_X)\n",
    "score=ev(valid_y,new_pred_valid_y)\n",
    "score"
   ]
  },
  {
   "cell_type": "code",
   "execution_count": 20,
   "id": "23dca673",
   "metadata": {},
   "outputs": [
    {
     "data": {
      "image/png": "[encoded data removed]",
      "text/plain": [
       "<Figure size 432x288 with 1 Axes>"
      ]
     },
     "metadata": {
      "needs_background": "light"
     },
     "output_type": "display_data"
    }
   ],
   "source": [
    "# 查看valid集预测结果\n",
    "pred_valid_y = my_model.predict(valid_X)\n",
    "plt.plot(range(len(pred_valid_y)), pred_valid_y, label='Prediction')\n",
    "plt.plot(range(len(pred_valid_y)), valid_y, label='Ground Truth')\n",
    "plt.fill_between(range(len(pred_valid_y)), pred_valid_y.flatten(), valid_y.flatten(), color='MistyRose',label='error')\n",
    "plt.xlabel('Amount of samples')\n",
    "plt.ylabel('Prediction')\n",
    "plt.legend()\n",
    "plt.show()"
   ]
  },
  {
   "cell_type": "code",
   "execution_count": 21,
   "id": "fbda38f4",
   "metadata": {},
   "outputs": [
    {
     "data": {
      "text/plain": [
       "2.5843609515955883"
      ]
     },
     "execution_count": 21,
     "metadata": {},
     "output_type": "execute_result"
    }
   ],
   "source": [
    "ev(valid_y,pred_valid_y)"
   ]
  },
  {
   "cell_type": "code",
   "execution_count": 22,
   "id": "32063279",
   "metadata": {},
   "outputs": [],
   "source": [
    "# %%\n",
    "# Predicting\n",
    "pred_y = my_model.predict(test_X)\n"
   ]
  },
  {
   "cell_type": "code",
   "execution_count": 23,
   "id": "7c1905f8",
   "metadata": {},
   "outputs": [
    {
     "data": {
      "text/plain": [
       "array([-2.12248880e-03, -2.93985475e-03, -4.74690553e-03, -2.30859499e-03,\n",
       "        3.55632976e-04,  4.43408825e-03,  9.58988164e-03,  1.20553412e-02,\n",
       "        2.03046538e-02,  4.34735045e-02,  3.26063074e-02,  1.97546855e-02,\n",
       "        2.11434066e-02,  2.60672122e-02,  2.56128572e-02,  2.45147832e-02,\n",
       "        4.33637314e-02,  7.14951530e-02,  6.34269938e-02,  7.14113712e-02,\n",
       "        5.48814610e-02,  3.25733274e-02,  4.29153629e-02,  5.59566505e-02,\n",
       "        4.71250601e-02,  5.09729311e-02,  6.81361407e-02,  6.88067526e-02,\n",
       "        7.95726329e-02,  1.03272237e-01,  8.83882642e-02,  7.85845667e-02,\n",
       "        5.02117462e-02,  2.58974358e-02,  3.22629474e-02,  2.61872448e-02,\n",
       "        1.24425106e-02,  5.42113883e-03,  5.55824954e-03,  1.12018231e-02,\n",
       "        1.43674901e-02,  2.62634344e-02,  1.86981373e-02,  1.60817988e-02,\n",
       "        1.19548133e-02,  7.69498292e-04,  6.39297999e-04, -2.40136590e-03,\n",
       "       -5.78514952e-03, -6.42160885e-03, -6.17806800e-03, -4.39085346e-03,\n",
       "       -3.04737780e-03,  1.79786496e-02,  2.11502612e-02,  2.39883587e-02,\n",
       "        2.64386386e-02,  6.58445526e-03,  1.97904464e-03, -9.62051563e-04,\n",
       "        9.91919078e-04, -2.51820870e-03, -8.31520278e-03, -1.95105560e-03,\n",
       "        8.11315142e-03,  1.34075452e-02,  1.17513752e-02,  1.00959409e-02,\n",
       "        9.22852289e-03,  2.01211870e-03,  2.33699009e-03,  2.64951587e-03,\n",
       "        3.81291192e-03,  9.56112426e-03,  1.51116103e-02,  1.63766649e-02,\n",
       "        2.42246129e-02,  3.74635644e-02,  4.73656394e-02,  4.38556187e-02,\n",
       "        4.12022732e-02,  4.64356206e-02,  4.55614924e-02,  4.63658459e-02,\n",
       "        6.00159913e-02,  8.29128474e-02,  1.05489284e-01,  1.09302908e-01,\n",
       "        1.10738322e-01,  1.24256887e-01,  1.43300682e-01,  1.61017075e-01,\n",
       "        1.59861282e-01,  1.34026363e-01,  1.20537184e-01,  1.34210706e-01,\n",
       "        1.29491702e-01,  1.58237308e-01,  1.41924188e-01,  1.24431267e-01,\n",
       "        9.93758440e-02,  1.15772009e-01,  1.44439757e-01,  1.79398581e-01,\n",
       "        2.11699247e-01,  2.13211581e-01,  1.92513630e-01,  2.19482586e-01,\n",
       "        2.62068003e-01,  2.44842336e-01,  2.63484120e-01,  2.82452703e-01,\n",
       "        2.88241386e-01,  2.86897779e-01,  3.54229718e-01,  3.56490880e-01,\n",
       "        3.25619459e-01,  2.71810800e-01,  2.75946617e-01,  2.23496988e-01,\n",
       "        2.19533473e-01,  2.13544860e-01,  2.19591156e-01,  2.00319737e-01,\n",
       "        1.78608716e-01,  1.98393658e-01,  2.44089290e-01,  2.57184148e-01],\n",
       "      dtype=float32)"
      ]
     },
     "execution_count": 23,
     "metadata": {},
     "output_type": "execute_result"
    }
   ],
   "source": [
    "pred_y.flatten()"
   ]
  },
  {
   "cell_type": "code",
   "execution_count": 24,
   "id": "ef50ee1d",
   "metadata": {},
   "outputs": [
    {
     "data": {
      "image/png": "[encoded data removed]",
      "text/plain": [
       "<Figure size 432x288 with 1 Axes>"
      ]
     },
     "metadata": {
      "needs_background": "light"
     },
     "output_type": "display_data"
    }
   ],
   "source": [
    "# %% Plotting\n",
    "plt.plot(range(len(pred_y)), pred_y, label='Prediction')\n",
    "plt.plot(range(len(pred_y)), test_y, label='Ground Truth')\n",
    "plt.fill_between(range(len(pred_y)), pred_y.flatten(), test_y.flatten(), color='MistyRose',label='error')\n",
    "plt.xlabel('Amount of samples')\n",
    "plt.ylabel('Prediction')\n",
    "plt.legend()\n",
    "plt.show()\n",
    "# %%"
   ]
  },
  {
   "cell_type": "code",
   "execution_count": 25,
   "id": "bcb942e6",
   "metadata": {},
   "outputs": [],
   "source": [
    "# # prediction of feature\n",
    "# df_30_days_past=df.iloc[-7:,:]\n",
    "# df_30_days_past.tail()\n",
    "# df_30_days_future=pd.read_csv('.\\\\data\\\\FD001\\\\04 Fore_NWP_FD.csv',parse_dates=[\"Datetime\"],index_col=[0])\n",
    "# df_30_days_future\n",
    "# df_30_days_future.shape\n",
    "# df_30_days_future[\"Power(MW)\"]=0\n",
    "# df_30_days_future=df_30_days_future[[\"Speed10\" , \"Direction10\" , \"Speed30\" , \"Direction30\" , \"Speed50\" , \"Direction50\" , \"Speed70\" , \"Direction70\" , \"Speed90\" , \"Direction90\" , \"Speed100\" , \"Direction100\" , \"Temper\" , \"Pressure\" , \"Humidity\" , \"Power(MW)\"]]\n",
    "# old_scaled_array=scaler.transform(df_30_days_past)\n",
    "# new_scaled_array=scaler.transform(df_30_days_future)\n",
    "# new_scaled_df=pd.DataFrame(new_scaled_array)\n",
    "# new_scaled_df.iloc[:,0]=np.nan\n",
    "# full_df=pd.concat([pd.DataFrame(old_scaled_array),new_scaled_df]).reset_index().drop([\"index\"],axis=1)\n",
    "# full_df_scaled_array=full_df.values\n",
    "# all_data=[]\n",
    "# time_step=7\n",
    "# for i in range(time_step,len(full_df_scaled_array)):\n",
    "#   data_x=[]\n",
    "#   data_x.append(\n",
    "#     full_df_scaled_array[i-time_step :i , 0:full_df_scaled_array.shape[1]])\n",
    "#   data_x=np.array(data_x)\n",
    "#   prediction=my_model.predict(data_x)\n",
    "#   all_data.append(prediction)\n",
    "#   full_df.iloc[i,0]=prediction\n",
    "# new_array=np.array(all_data)\n",
    "# new_array=new_array.reshape(-1,1)\n",
    "# prediction_copies_array = np.repeat(new_array,16, axis=-1)\n",
    "# y_pred_future_30_days = scaler.inverse_transform(np.reshape(prediction_copies_array,(len(new_array),16)))[:,0]\n",
    "# print(y_pred_future_30_days)\n",
    "# plt.plot(range(len(y_pred_future_30_days)), y_pred_future_30_days, label='Prediction')"
   ]
  },
  {
   "cell_type": "code",
   "execution_count": 26,
   "id": "000d958d",
   "metadata": {},
   "outputs": [],
   "source": [
    "# #绘制整体发电量图\n",
    "# total = np.hstack((df_y,y_pred_future_30_days))\n",
    "# plt.plot(range(len(total)), total, label='Prediction',color='coral')\n",
    "# plt.plot(range(len(df_y)), df_y, label='Prediction')"
   ]
  },
  {
   "cell_type": "code",
   "execution_count": 27,
   "id": "5403d70c",
   "metadata": {},
   "outputs": [],
   "source": [
    "# # prediction of feature\n",
    "# df_30_days_past=df.iloc[-7:,:]\n",
    "# df_30_days_past.tail()"
   ]
  },
  {
   "cell_type": "code",
   "execution_count": 28,
   "id": "cfbb64e6",
   "metadata": {},
   "outputs": [],
   "source": [
    "# df_30_days_future=pd.read_csv('.\\\\data\\\\FD001\\\\04 Fore_NWP_FD.csv',parse_dates=[\"Datetime\"],index_col=[0])\n",
    "# df_30_days_future\n",
    "# df_30_days_future.shape"
   ]
  },
  {
   "cell_type": "code",
   "execution_count": 29,
   "id": "1aff91a7",
   "metadata": {},
   "outputs": [],
   "source": [
    "# df_30_days_future[\"Power(MW)\"]=0"
   ]
  },
  {
   "cell_type": "code",
   "execution_count": 30,
   "id": "bd457af7",
   "metadata": {},
   "outputs": [],
   "source": [
    "# df_30_days_future"
   ]
  },
  {
   "cell_type": "code",
   "execution_count": 31,
   "id": "aa92f9c8",
   "metadata": {},
   "outputs": [],
   "source": [
    "# df_30_days_future=df_30_days_future[[\"Speed10\" , \"Direction10\" , \"Speed30\" , \"Direction30\" , \"Speed50\" , \"Direction50\" , \"Speed70\" , \"Direction70\" , \"Speed90\" , \"Direction90\" , \"Speed100\" , \"Direction100\" , \"Temper\" , \"Pressure\" , \"Humidity\" , \"Power(MW)\"]]"
   ]
  },
  {
   "cell_type": "code",
   "execution_count": 32,
   "id": "0076f3a9",
   "metadata": {},
   "outputs": [],
   "source": [
    "# old_scaled_array=scaler.transform(df_30_days_past)"
   ]
  },
  {
   "cell_type": "code",
   "execution_count": 33,
   "id": "9a9424f1",
   "metadata": {},
   "outputs": [],
   "source": [
    "# old_scaled_array.shape"
   ]
  },
  {
   "cell_type": "code",
   "execution_count": 34,
   "id": "8f4303e5",
   "metadata": {},
   "outputs": [],
   "source": [
    "# new_scaled_array=scaler.transform(df_30_days_future)"
   ]
  },
  {
   "cell_type": "code",
   "execution_count": 35,
   "id": "3edc64c3",
   "metadata": {},
   "outputs": [],
   "source": [
    "# new_scaled_array.shape"
   ]
  },
  {
   "cell_type": "code",
   "execution_count": 36,
   "id": "1f9d92df",
   "metadata": {},
   "outputs": [],
   "source": [
    "\n",
    "# new_scaled_df=pd.DataFrame(new_scaled_array)\n",
    "# new_scaled_df.iloc[:,0]=np.nan\n",
    "# full_df=pd.concat([pd.DataFrame(old_scaled_array),new_scaled_df]).reset_index().drop([\"index\"],axis=1)"
   ]
  },
  {
   "cell_type": "code",
   "execution_count": 37,
   "id": "3f4439a7",
   "metadata": {},
   "outputs": [],
   "source": [
    "# full_df.shape"
   ]
  },
  {
   "cell_type": "code",
   "execution_count": 38,
   "id": "0ecf1bd1",
   "metadata": {},
   "outputs": [],
   "source": [
    "# full_df_scaled_array=full_df.values\n",
    "# all_data=[]\n",
    "# time_step=7\n",
    "# for i in range(time_step,len(full_df_scaled_array)):\n",
    "#   data_x=[]\n",
    "#   data_x.append(\n",
    "#     full_df_scaled_array[i-time_step :i , 0:full_df_scaled_array.shape[1]])\n",
    "#   data_x=np.array(data_x)\n",
    "#   prediction=grid_model.predict(data_x)\n",
    "#   all_data.append(prediction)\n",
    "#   full_df.iloc[i,0]=prediction"
   ]
  },
  {
   "cell_type": "code",
   "execution_count": 39,
   "id": "4b4489a2",
   "metadata": {},
   "outputs": [],
   "source": [
    "# new_array=np.array(all_data)\n",
    "# new_array=new_array.reshape(-1,1)\n",
    "# prediction_copies_array = np.repeat(new_array,16, axis=-1)\n",
    "# y_pred_future_30_days = scaler.inverse_transform(np.reshape(prediction_copies_array,(len(new_array),16)))[:,0]\n",
    "# print(y_pred_future_30_days)"
   ]
  },
  {
   "cell_type": "code",
   "execution_count": 40,
   "id": "1f8a04ea",
   "metadata": {},
   "outputs": [],
   "source": [
    "# plt.plot(range(len(y_pred_future_30_days)), y_pred_future_30_days, label='Prediction')"
   ]
  },
  {
   "cell_type": "code",
   "execution_count": null,
   "id": "1a9914c2",
   "metadata": {},
   "outputs": [],
   "source": []
  },
  {
   "cell_type": "code",
   "execution_count": null,
   "id": "2b9accdc",
   "metadata": {},
   "outputs": [],
   "source": []
  }
 ],
 "metadata": {
  "kernelspec": {
   "display_name": "Python 3 (ipykernel)",
   "language": "python",
   "name": "python3"
  },
  "language_info": {
   "codemirror_mode": {
    "name": "ipython",
    "version": 3
   },
   "file_extension": ".py",
   "mimetype": "text/x-python",
   "name": "python",
   "nbconvert_exporter": "python",
   "pygments_lexer": "ipython3",
   "version": "3.9.12"
  }
 },
 "nbformat": 4,
 "nbformat_minor": 5
}
